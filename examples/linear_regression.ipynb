{
 "cells": [
  {
   "cell_type": "code",
   "execution_count": 10,
   "metadata": {},
   "outputs": [],
   "source": [
    "from collections import deque\n",
    "import math\n",
    "import matplotlib.pyplot as plt\n",
    "\n",
    "import jax\n",
    "import jax.numpy as jnp\n",
    "import jax.lax as lax\n",
    "import jax.random as jrandom\n",
    "import numpy as np\n",
    "import optax\n",
    "import distrax\n",
    "import haiku as hk\n",
    "\n",
    "import tensorflow as tf\n",
    "import tensorflow_datasets as tfds\n",
    "\n",
    "from lfiax.flows.nsf import make_nsf\n",
    "\n",
    "from typing import (\n",
    "    Any,\n",
    "    Iterator,\n",
    "    Mapping,\n",
    "    Optional,\n",
    "    Tuple,\n",
    ")\n",
    "\n",
    "Array = jnp.ndarray\n",
    "PRNGKey = Array\n",
    "Batch = Mapping[str, np.ndarray]\n",
    "OptState = Any\n",
    "\n",
    "\n",
    "def sim_linear_jax(d: Array, priors: Array, key: PRNGKey):\n",
    "    # Keys for the appropriate functions\n",
    "    keys = jrandom.split(key, 3)\n",
    "\n",
    "    # sample random normal dist\n",
    "    noise_shape = (1,)\n",
    "\n",
    "    mu_noise = jnp.zeros(noise_shape)\n",
    "    sigma_noise = jnp.ones(noise_shape)\n",
    "\n",
    "    n_n = distrax.Independent(\n",
    "        distrax.MultivariateNormalDiag(mu_noise, sigma_noise)\n",
    "    ).sample(seed=keys[0], sample_shape=[len(d), len(priors)])\n",
    "\n",
    "    # sample random gamma noise\n",
    "    n_g = distrax.Gamma(2.0, 1.0 / 2.0).sample(\n",
    "        seed=keys[1], sample_shape=[len(d), len(priors)]\n",
    "    )\n",
    "\n",
    "    # perform forward pass\n",
    "    y = jnp.broadcast_to(priors[:, 0], (len(d), len(priors)))\n",
    "    y = y + jnp.expand_dims(d, 1) @ jnp.expand_dims(priors[:, 1], 0)\n",
    "    y = y + n_g + jnp.squeeze(n_n)\n",
    "    ygrads = priors[:, 1]\n",
    "\n",
    "    return y, ygrads\n",
    "\n",
    "\n",
    "def sim_true_linear_jax(d: Array, theta_true: Array, key: PRNGKey):\n",
    "    # TODO: check that `theta_true` is the correct size\n",
    "    # TODO: check that function works as expected\n",
    "    # Keys for the appropriate functions\n",
    "    keys = jrandom.split(key, 3)\n",
    "\n",
    "    # sample random normal dist\n",
    "    noise_shape = (1,)\n",
    "\n",
    "    mu_noise = jnp.zeros(noise_shape)\n",
    "    sigma_noise = jnp.ones(noise_shape)\n",
    "\n",
    "    n_n = distrax.Independent(\n",
    "        distrax.MultivariateNormalDiag(mu_noise, sigma_noise)\n",
    "    ).sample(seed=keys[0], sample_shape=[len(d), len(theta_true)])\n",
    "\n",
    "    # sample random gamma noise\n",
    "    n_g = distrax.Gamma(2.0, 1.0 / 2.0).sample(\n",
    "        seed=keys[1], sample_shape=[len(d), len(theta_true)]\n",
    "    )\n",
    "\n",
    "    # perform forward pass\n",
    "    y = jnp.broadcast_to(theta_true[:, 0], (len(d), len(theta_true)))\n",
    "    y = y + jnp.expand_dims(d, 1) @ jnp.expand_dims(theta_true[:, 1], 0)\n",
    "    y = y + n_g + jnp.squeeze(n_n)\n",
    "    ygrads = theta_true[:, 1]\n",
    "\n",
    "    return y, ygrads\n",
    "\n",
    "\n",
    "def sim_data(d: Array, num_samples: Array, key: PRNGKey):\n",
    "    \"\"\"\n",
    "    Returns data in a format suitable for normalizing flow training.\n",
    "    Data will be in shape [y, thetas, d]. The `y` variable can vary in size.\n",
    "    \"\"\"\n",
    "    keys = jrandom.split(key, 2)\n",
    "\n",
    "    theta_shape = (2,)\n",
    "\n",
    "    mu = jnp.zeros(theta_shape)\n",
    "    sigma = (3**2) * jnp.ones(theta_shape)\n",
    "\n",
    "    base_distribution = distrax.Independent(  # Should this be independent?\n",
    "        distrax.MultivariateNormalDiag(mu, sigma)\n",
    "    )\n",
    "\n",
    "    priors = base_distribution.sample(seed=keys[0], sample_shape=[num_samples])\n",
    "\n",
    "    # ygrads allows to be compared to other implementations (Kleinegesse et)\n",
    "    y, ygrads = sim_linear_jax(d, priors, keys[1])\n",
    "\n",
    "    return jnp.column_stack(\n",
    "        (y.T, jnp.squeeze(priors), jnp.broadcast_to(d, (num_samples, len(d))))\n",
    "    )\n",
    "\n",
    "\n",
    "def sim_linear_jax_laplace(d: Array, priors: Array, key: PRNGKey):\n",
    "    # Keys for the appropriate functions\n",
    "    keys = jrandom.split(key, 3)\n",
    "\n",
    "    # sample random normal dist\n",
    "    noise_shape = (1,)\n",
    "\n",
    "    concentration = jnp.ones(noise_shape)\n",
    "    rate = jnp.ones(noise_shape)\n",
    "\n",
    "    n_n = distrax.Gamma(concentration, rate).sample(seed=keys[0], sample_shape=[len(d), len(priors)])\n",
    "\n",
    "    # perform forward pass\n",
    "    y = jnp.broadcast_to(priors[:, 0], (len(d), len(priors)))\n",
    "    y = distrax.MultivariateNormalDiag(y, jnp.squeeze(n_n)).sample(seed=keys[1], sample_shape=())\n",
    "\n",
    "    return y\n",
    "\n",
    "\n",
    "def sim_data_laplace(d: Array, priors: Array, key: PRNGKey):\n",
    "    \"\"\"\n",
    "    Returns data in a format suitable for normalizing flow training.\n",
    "    Data will be in shape [y, thetas]. The `y` variable can vary in size.\n",
    "    \"\"\"\n",
    "    keys = jrandom.split(key, 2)\n",
    "    theta_shape = (1,)\n",
    "\n",
    "    loc = jnp.zeros(theta_shape)\n",
    "    scale = jnp.ones(theta_shape)\n",
    "\n",
    "    # Leaving in case this fixes future dimensionality issues\n",
    "    # base_distribution = distrax.Independent(\n",
    "    #     distrax.Laplace(loc, scale)\n",
    "    # )\n",
    "    base_distribution = distrax.Laplace(loc, scale)\n",
    "\n",
    "    priors = base_distribution.sample(seed=keys[0], sample_shape=[num_samples])\n",
    "\n",
    "    y = sim_linear_jax_laplace(d, priors, keys[1])\n",
    "\n",
    "    return jnp.column_stack(\n",
    "        (y.T, jnp.squeeze(priors), jnp.broadcast_to(d, (num_samples, len(d))))\n",
    "    )\n",
    "\n",
    "\n",
    "# ----------------------------------------\n",
    "# Helper functions to simulate data\n",
    "# ----------------------------------------\n",
    "def load_dataset(split: tfds.Split, batch_size: int) -> Iterator[Batch]:\n",
    "    ds = split\n",
    "    ds = ds.shuffle(buffer_size=10 * batch_size)\n",
    "    ds = ds.batch(batch_size)\n",
    "    ds = ds.prefetch(buffer_size=1000)\n",
    "    ds = ds.repeat()\n",
    "    return iter(tfds.as_numpy(ds))\n",
    "\n",
    "\n",
    "def prepare_data(batch: Batch, prng_key: Optional[PRNGKey] = None) -> Array:\n",
    "    # Batch is [y, thetas, d]\n",
    "    data = batch.astype(np.float32)\n",
    "    # Handling the scalar case\n",
    "    if data.shape[1] <= 3:\n",
    "        x = jnp.expand_dims(data[:, :-2], -1)\n",
    "    x = data[:, :len_x]\n",
    "    cond_data = data[:, len_x:]\n",
    "    theta = cond_data[:, :-len_x]\n",
    "    d = cond_data[:, -len_x:-len_xi]\n",
    "    xi = cond_data[:, -len_xi:]\n",
    "    return x, theta, d, xi\n",
    "\n",
    "\n",
    "# ----------------------------\n",
    "# Haiku transform functions for training and evaluation\n",
    "# ----------------------------\n",
    "@hk.without_apply_rng\n",
    "@hk.transform\n",
    "def log_prob(data: Array, theta: Array, d: Array, xi: Array) -> Array:\n",
    "    # Get batch\n",
    "    shift = data.mean(axis=0)\n",
    "    scale = data.std(axis=0) + 1e-14\n",
    "\n",
    "    model = make_nsf(\n",
    "        event_shape=EVENT_SHAPE,\n",
    "        cond_info_shape=cond_info_shape,\n",
    "        num_layers=flow_num_layers,\n",
    "        hidden_sizes=[hidden_size] * mlp_num_layers,\n",
    "        num_bins=num_bins,\n",
    "        standardize_x=True,\n",
    "        standardize_theta=False,\n",
    "        use_resnet=True,\n",
    "        event_dim=EVENT_DIM,\n",
    "        shift=shift,\n",
    "        scale=scale,\n",
    "    )\n",
    "    return model.log_prob(data, theta, d, xi)\n",
    "\n",
    "@hk.without_apply_rng\n",
    "@hk.transform\n",
    "def log_prob_scalar(data: Array, theta: Array, xi: Array) -> Array:\n",
    "    # Get batch\n",
    "    shift = data.mean(axis=0)\n",
    "    scale = data.std(axis=0) + 1e-14\n",
    "    \n",
    "    model = make_nsf(\n",
    "        event_shape=EVENT_SHAPE,\n",
    "        cond_info_shape=cond_info_shape,\n",
    "        num_layers=flow_num_layers,\n",
    "        hidden_sizes=[hidden_size] * mlp_num_layers,\n",
    "        num_bins=num_bins,\n",
    "        standardize_x=True,\n",
    "        standardize_theta=False,\n",
    "        use_resnet=True,\n",
    "        event_dim=EVENT_DIM,\n",
    "        shift=shift,\n",
    "        scale=scale,\n",
    "    )\n",
    "    return model.log_prob(data, theta, xi)\n",
    "\n",
    "\n",
    "@hk.without_apply_rng\n",
    "@hk.transform\n",
    "def model_sample(key: PRNGKey, num_samples: int, cond_data: Array) -> Array:\n",
    "    # TODO: update this method?\n",
    "    model = make_nsf(\n",
    "        event_shape=EVENT_SHAPE,\n",
    "        cond_info_shape=cond_info_shape,\n",
    "        num_layers=flow_num_layers,\n",
    "        hidden_sizes=[hidden_size] * mlp_num_layers,\n",
    "        num_bins=num_bins,\n",
    "    )\n",
    "    z = jnp.repeat(cond_data, num_samples, axis=0)\n",
    "    z = jnp.expand_dims(z, -1)\n",
    "    return model._sample_n(key=key, n=[num_samples], z=z)\n",
    "\n",
    "\n",
    "def loss_fn(\n",
    "    params: hk.Params, prng_key: PRNGKey, x: Array, theta: Array, d: Array, xi: Array\n",
    ") -> Array:\n",
    "    # Loss is average negative log likelihood.\n",
    "    loss = -jnp.mean(log_prob.apply(params, x, theta, d, xi))\n",
    "    return loss\n",
    "\n",
    "\n",
    "def unified_loss_fn(\n",
    "    params: hk.Params, prng_key: PRNGKey, x: Array, theta: Array, d: Array\n",
    ") -> Array:\n",
    "    xi = params['xi']\n",
    "    xi = jnp.broadcast_to(xi, (len(x), len(xi)))\n",
    "    flow_params = {k: v for k, v in params.items() if k != 'xi'}\n",
    "    # Loss is average negative log likelihood.\n",
    "    loss = -jnp.mean(log_prob.apply(flow_params, x, theta, d, xi))\n",
    "    return loss\n",
    "\n",
    "\n",
    "@jax.jit\n",
    "def eval_fn(params: hk.Params, batch: Batch) -> Array:\n",
    "    x, theta, d, xi = prepare_data(batch)\n",
    "    loss = -jnp.mean(log_prob.apply(params, x, theta, d, xi))\n",
    "    return loss\n",
    "\n",
    "\n",
    "@jax.jit\n",
    "def update(\n",
    "    params: hk.Params, prng_key: PRNGKey, opt_state: OptState, batch: Batch\n",
    ") -> Tuple[hk.Params, OptState]:\n",
    "    \"\"\"Single SGD update step.\"\"\"\n",
    "    # x, cond_data = prepare_data(batch, prng_key)\n",
    "    x, theta, d, xi = prepare_data(batch)\n",
    "    # grads = jax.grad(loss_fn)(params, prng_key, x, theta, d, xi)\n",
    "    # grads_d = jax.grad(loss_fn, argnums=5)(params, prng_key, x, theta, d, xi)\n",
    "    grads = jax.grad(unified_loss_fn)(params, prng_key, x, theta, d)\n",
    "    updates, new_opt_state = optimizer.update(grads, opt_state)\n",
    "    new_params = optax.apply_updates(params, updates)\n",
    "    return new_params, new_opt_state, grads#, grads_d"
   ]
  },
  {
   "cell_type": "code",
   "execution_count": 24,
   "metadata": {},
   "outputs": [
    {
     "name": "stdout",
     "output_type": "stream",
     "text": [
      "scalar\n",
      "STEP:     0; Validation loss: 3.686\n",
      "STEP:    10; Validation loss: 3.724\n",
      "STEP:    20; Validation loss: 3.638\n",
      "STEP:    30; Validation loss: 3.655\n",
      "STEP:    40; Validation loss: 3.713\n",
      "STEP:    50; Validation loss: 3.623\n",
      "STEP:    60; Validation loss: 3.631\n",
      "STEP:    70; Validation loss: 3.739\n",
      "STEP:    80; Validation loss: 3.604\n",
      "STEP:    90; Validation loss: 3.710\n",
      "STEP:   100; Validation loss: 3.721\n",
      "STEP:   110; Validation loss: 3.665\n"
     ]
    }
   ],
   "source": [
    "# TODO: Put this in hydra config file\n",
    "seed = 1231\n",
    "key = jrandom.PRNGKey(seed)\n",
    "\n",
    "# d = jnp.array([-10.0, 0.0, 5.0, 10.0])\n",
    "# d = jnp.array([1., 2.])\n",
    "# d = jnp.array([1.])\n",
    "# d_obs = jnp.array([0.])\n",
    "d_obs = jnp.array([])\n",
    "# d_prop = jrandom.uniform(key, shape=(1,), minval=-10.0, maxval=10.0)\n",
    "d_prop = jnp.array([0.1])\n",
    "# d_prop = jnp.array([])\n",
    "d_sim = jnp.concatenate((d_obs, d_prop), axis=0)\n",
    "len_x = len(d_sim)\n",
    "len_d = len(d_obs)\n",
    "len_xi = len(d_prop)\n",
    "num_samples = 100\n",
    "\n",
    "# Params and hyperparams\n",
    "theta_shape = (2,)\n",
    "d_shape = (len(d_obs),)\n",
    "xi_shape = (len_xi,)\n",
    "EVENT_SHAPE = (len(d_sim),)\n",
    "# EVENT_DIM is important for the normalizing flow's block.\n",
    "EVENT_DIM = 1\n",
    "cond_info_shape = (theta_shape[0], len_d, len_xi)\n",
    "\n",
    "batch_size = 128\n",
    "flow_num_layers = 5 #3 # 10\n",
    "mlp_num_layers = 4 # 3 # 4\n",
    "hidden_size = 128 # 500\n",
    "num_bins = 4\n",
    "learning_rate = 1e-4\n",
    "warmup_steps = 100\n",
    "early_stopping_memory = 10\n",
    "early_stopping_threshold = 5e-2\n",
    "\n",
    "training_steps = 500\n",
    "eval_frequency = 10\n",
    "\n",
    "optimizer = optax.adam(learning_rate)\n",
    "\n",
    "# Simulating the data to be used to train the flow.\n",
    "num_samples = 512*20\n",
    "# TODO: put this function in training since d will be changing.\n",
    "X = sim_data(d_sim, num_samples, key)\n",
    "\n",
    "shift = X.mean(axis=0)\n",
    "scale = X.std(axis=0) + 1e-14\n",
    "\n",
    "# Create tf dataset from sklearn dataset\n",
    "dataset = tf.data.Dataset.from_tensor_slices(X)\n",
    "\n",
    "# Splitting into train/validate ds\n",
    "train = dataset.skip(2000)\n",
    "val = dataset.take(2000)\n",
    "\n",
    "# load_dataset(split: tfds.Split, batch_size: int)\n",
    "train_ds = load_dataset(train, 512)\n",
    "valid_ds = load_dataset(val, 512)\n",
    "\n",
    "# Training\n",
    "prng_seq = hk.PRNGSequence(42)\n",
    "params = log_prob.init(\n",
    "    next(prng_seq),\n",
    "    np.zeros((1, *EVENT_SHAPE)),\n",
    "    np.zeros((1, *theta_shape)),\n",
    "    np.zeros((1, *d_shape)),\n",
    "    np.zeros((1, *xi_shape)),\n",
    ")\n",
    "params['xi']  = d_prop  # Just shape of batch for now\n",
    "opt_state = optimizer.init(params)\n",
    "\n",
    "# Can change the length of the deque for more/less leniency in measuring the loss\n",
    "loss_deque = deque(maxlen=early_stopping_memory)\n",
    "for step in range(training_steps):\n",
    "    # params, opt_state, grads_d = update(\n",
    "    params, opt_state, loss = update(\n",
    "        params, next(prng_seq), opt_state, next(train_ds)\n",
    "    )\n",
    "\n",
    "    if step % eval_frequency == 0:\n",
    "        val_loss = eval_fn(params, next(valid_ds))\n",
    "        print(f\"STEP: {step:5d}; Validation loss: {val_loss:.3f}\")\n",
    "    \n",
    "        loss_deque.append(val_loss)\n",
    "        avg_abs_diff = jnp.mean(abs(jnp.array(loss_deque) - sum(loss_deque)/len(loss_deque)))\n",
    "        if step > warmup_steps and avg_abs_diff < early_stopping_threshold:\n",
    "            break\n"
   ]
  },
  {
   "cell_type": "code",
   "execution_count": 33,
   "metadata": {},
   "outputs": [
    {
     "data": {
      "text/plain": [
       "array([], shape=(1, 0), dtype=float64)"
      ]
     },
     "execution_count": 33,
     "metadata": {},
     "output_type": "execute_result"
    }
   ],
   "source": [
    "np.zeros((1, *d_shape))"
   ]
  },
  {
   "cell_type": "code",
   "execution_count": 27,
   "metadata": {},
   "outputs": [
    {
     "data": {
      "text/plain": [
       "DeviceArray([0.1], dtype=float32)"
      ]
     },
     "execution_count": 27,
     "metadata": {},
     "output_type": "execute_result"
    }
   ],
   "source": [
    "params['xi']"
   ]
  },
  {
   "cell_type": "code",
   "execution_count": 30,
   "metadata": {},
   "outputs": [
    {
     "data": {
      "text/plain": [
       "dict_keys(['conditioner_module/linear', 'conditioner_module/linear_1', 'conditioner_module/linear_2', 'conditioner_module/linear_3', 'conditioner_module/linear_4', 'conditioner_module/mlp/~/linear_0', 'conditioner_module/mlp_1/~/linear_0', 'conditioner_module/mlp_2/~/linear_0', 'conditioner_module/mlp_3/~/linear_0', 'xi'])"
      ]
     },
     "execution_count": 30,
     "metadata": {},
     "output_type": "execute_result"
    }
   ],
   "source": [
    "params.keys()"
   ]
  },
  {
   "cell_type": "code",
   "execution_count": 31,
   "metadata": {},
   "outputs": [
    {
     "data": {
      "text/plain": [
       "{'b': DeviceArray([0., 0., 0., 0., 0., 0., 0., 0., 0., 0., 0., 0., 0., 0., 0.,\n",
       "              0., 0., 0., 0., 0., 0., 0., 0., 0., 0., 0., 0., 0., 0., 0.,\n",
       "              0., 0., 0., 0., 0., 0., 0., 0., 0., 0., 0., 0., 0., 0., 0.,\n",
       "              0., 0., 0., 0., 0., 0., 0., 0., 0., 0., 0., 0., 0., 0., 0.,\n",
       "              0., 0., 0., 0., 0., 0., 0., 0., 0., 0., 0., 0., 0., 0., 0.,\n",
       "              0., 0., 0., 0., 0., 0., 0., 0., 0., 0., 0., 0., 0., 0., 0.,\n",
       "              0., 0., 0., 0., 0., 0., 0., 0., 0., 0., 0., 0., 0., 0., 0.,\n",
       "              0., 0., 0., 0., 0., 0., 0., 0., 0., 0., 0., 0., 0., 0., 0.,\n",
       "              0., 0., 0., 0., 0., 0., 0., 0.], dtype=float32),\n",
       " 'w': DeviceArray([[ 0.11641986,  0.06062162,  0.08570641, ..., -0.02661132,\n",
       "                0.00522166, -0.05321172],\n",
       "              [-0.09612878,  0.13764288,  0.12323083, ..., -0.13470094,\n",
       "               -0.13767847,  0.03184697],\n",
       "              [ 0.00642909, -0.06131384, -0.02754444, ...,  0.00922625,\n",
       "               -0.02335455,  0.13359617],\n",
       "              ...,\n",
       "              [-0.03620361,  0.15946916,  0.05472334, ...,  0.06316594,\n",
       "                0.05481415, -0.04159248],\n",
       "              [ 0.088457  ,  0.07783046,  0.03833425, ...,  0.00539787,\n",
       "               -0.00172452,  0.14950891],\n",
       "              [ 0.09904982, -0.00662384,  0.1275596 , ...,  0.02878463,\n",
       "               -0.02180895,  0.03315656]], dtype=float32)}"
      ]
     },
     "execution_count": 31,
     "metadata": {},
     "output_type": "execute_result"
    }
   ],
   "source": [
    "params['conditioner_module/mlp_2/~/linear_0']"
   ]
  },
  {
   "cell_type": "code",
   "execution_count": null,
   "metadata": {},
   "outputs": [],
   "source": []
  },
  {
   "attachments": {},
   "cell_type": "markdown",
   "metadata": {},
   "source": [
    "## Sampling and checking outputs"
   ]
  },
  {
   "cell_type": "code",
   "execution_count": null,
   "metadata": {},
   "outputs": [],
   "source": [
    "jnp.expand_dims(X[:, X.shape[1] // 2], -1) == jnp.expand_dims(X[:, 2], -1)"
   ]
  },
  {
   "cell_type": "code",
   "execution_count": 19,
   "metadata": {},
   "outputs": [
    {
     "data": {
      "text/plain": [
       "DeviceArray([[5.],\n",
       "             [5.],\n",
       "             [5.],\n",
       "             ...,\n",
       "             [5.],\n",
       "             [5.],\n",
       "             [5.]], dtype=float32)"
      ]
     },
     "execution_count": 19,
     "metadata": {},
     "output_type": "execute_result"
    }
   ],
   "source": [
    "X[:, -len_xi:]"
   ]
  },
  {
   "cell_type": "code",
   "execution_count": 21,
   "metadata": {},
   "outputs": [
    {
     "data": {
      "image/png": "[encoded data removed]",
      "text/plain": [
       "<Figure size 640x480 with 1 Axes>"
      ]
     },
     "metadata": {},
     "output_type": "display_data"
    }
   ],
   "source": [
    "from scipy.stats import gaussian_kde\n",
    "\n",
    "# TODO: Make code that automatically slices these up.\n",
    "theta_test = jnp.expand_dims(X[:, X.shape[1] // 2], -1)\n",
    "# d_test = jnp.expand_dims(X[:, 4], -1)\n",
    "d_test = X[:, -len_x:-len_xi]\n",
    "xi_test = X[:, -len_xi:]\n",
    "# xi_test = jnp.expand_dims(X[:, 2], -1)\n",
    "# xi_test = jnp.ones((10000, 1)) * 3\n",
    "# xi_test = jnp.expand_dims(X[:, 1], -1)\n",
    "\n",
    "\n",
    "samples = model_sample.apply(params, \n",
    "                    next(prng_seq),\n",
    "                    num_samples=len(theta_test),\n",
    "                    theta=theta_test,\n",
    "                    d=d_test,\n",
    "                    # d=d_obs,\n",
    "                    xi=xi_test)\n",
    "\n",
    "\n",
    "density_1 = gaussian_kde(samples[:, 0])\n",
    "density_2 = gaussian_kde(samples[:, 1])\n",
    "\n",
    "\n",
    "# Plot the density\n",
    "fig, ax = plt.subplots()\n",
    "x = np.linspace(jnp.min(samples), jnp.max(samples), 100)\n",
    "ax.plot(x, density_1(x), label='x1')\n",
    "ax.plot(x, density_2(x), label='x2')\n",
    "plt.xlabel('x')\n",
    "plt.ylabel('density')\n",
    "plt.legend()\n",
    "plt.show()"
   ]
  },
  {
   "cell_type": "code",
   "execution_count": null,
   "metadata": {},
   "outputs": [],
   "source": []
  },
  {
   "cell_type": "code",
   "execution_count": null,
   "metadata": {},
   "outputs": [],
   "source": []
  },
  {
   "attachments": {},
   "cell_type": "markdown",
   "metadata": {},
   "source": [
    "## LFI-ACE\n",
    "Manually trained and stepped-through LFI-ACE model.\n",
    "\n",
    "1. Approximate likelihood using normalizing flow. Use a bunch of samples and their corresponding $\\theta$ values. Also, since the `pyro` version only uses one noise element, get rid of the other one that Kleinegesse used.\n",
    "2. Use approximated likelihood in ACE computation.\n",
    "3. Approximate the likelihood using LFI-ACE.\n",
    "\n",
    "This is code where i'm experimenting with the `update`, `loss`, and `params` stuff."
   ]
  },
  {
   "cell_type": "code",
   "execution_count": 18,
   "metadata": {},
   "outputs": [],
   "source": [
    "def sim_linear_jax(d: Array, priors: Array, key: PRNGKey):\n",
    "    # Keys for the appropriate functions\n",
    "    keys = jrandom.split(key, 3)\n",
    "\n",
    "    # sample random normal dist\n",
    "    noise_shape = (1,)\n",
    "\n",
    "    mu_noise = jnp.zeros(noise_shape)\n",
    "    sigma_noise = jnp.ones(noise_shape)\n",
    "\n",
    "    n_n = distrax.Independent(\n",
    "        distrax.MultivariateNormalDiag(mu_noise, sigma_noise)\n",
    "    ).sample(seed=keys[0], sample_shape=[len(d), len(priors)])\n",
    "\n",
    "    # sample random gamma noise\n",
    "    n_g = distrax.Gamma(2.0, 1.0 / 2.0).sample(\n",
    "        seed=keys[1], sample_shape=[len(d), len(priors)]\n",
    "    )\n",
    "\n",
    "    # forward pass\n",
    "    y = jnp.broadcast_to(priors[:, 0], (len(d), len(priors)))\n",
    "    y = y + jnp.expand_dims(d, 1) @ jnp.expand_dims(priors[:, 1], 0)\n",
    "    y = y + n_g + jnp.squeeze(n_n)\n",
    "    ygrads = priors[:, 1]\n",
    "\n",
    "    return y, ygrads\n",
    "\n",
    "\n",
    "def sim_data(d: Array, priors: Array, key: PRNGKey):\n",
    "    \"\"\"\n",
    "    Returns data in a format suitable for normalizing flow training.\n",
    "    Data will be in shape [y, thetas]. The `y` variable can vary in size.\n",
    "    \"\"\"\n",
    "    keys = jrandom.split(key, 2)\n",
    "\n",
    "    theta_shape = (2,)\n",
    "\n",
    "    mu = jnp.zeros(theta_shape)\n",
    "    sigma = (3**2) * jnp.ones(theta_shape)\n",
    "\n",
    "    base_distribution = distrax.Independent(  # Should this be independent?\n",
    "        distrax.MultivariateNormalDiag(mu, sigma)\n",
    "    )\n",
    "\n",
    "    priors = base_distribution.sample(seed=keys[0], sample_shape=[num_samples])\n",
    "\n",
    "    # ygrads allows to be compared to other implementations (Kleinegesse et)\n",
    "    y, ygrads = sim_linear_jax(d, priors, keys[1])\n",
    "\n",
    "    return jnp.column_stack(\n",
    "        (y.T, jnp.squeeze(priors), jnp.broadcast_to(d, (num_samples, len(d))))\n",
    "    )\n",
    "\n",
    "def lfi_ace_loss_fn(\n",
    "    params: hk.Params, prng_key: PRNGKey, x: Array, theta: Array, d: Array, xi: Array, \n",
    "    M: int, prior_dists, \n",
    ") -> Array:\n",
    "    loss = -jnp.mean(log_prob.apply(params, x, theta, d, xi))\n",
    "    return loss\n",
    "\n",
    "\n",
    "def sim_linear_prior(num_samples: int, key: PRNGKey):\n",
    "    \"\"\"\n",
    "    Simulate prior samples and return their log_prob.\n",
    "    \"\"\"\n",
    "    theta_shape = (2,)\n",
    "\n",
    "    mu = jnp.zeros(theta_shape)\n",
    "    sigma = (3**2) * jnp.ones(theta_shape)\n",
    "\n",
    "    base_distribution = distrax.Independent(  # Should this be independent?\n",
    "        distrax.MultivariateNormalDiag(mu, sigma)\n",
    "    )\n",
    "\n",
    "    samples, log_prob = base_distribution.sample_and_log_prob(seed=key, sample_shape=[num_samples])\n",
    "\n",
    "    return samples, log_prob\n",
    "\n",
    "\n",
    "def lfi_pce_loss_fn(\n",
    "    params: hk.Params, prng_key: PRNGKey, x: Array, theta: Array, d: Array, num_samples: int, # xi: Array, \n",
    "    M: int #, prior_dist: Distribution\n",
    ") -> Array:\n",
    "    keys = jrandom.split(prng_key, 2)\n",
    "    xi = params['xi']\n",
    "    flow_params = {k: v for k, v in params.items() if k != 'xi'}\n",
    "    # theta_0 = prior_dist.sample((num_samples, 1))\n",
    "    # simulate the outcomes before finding their log_probs\n",
    "    d_sim = jnp.concatenate((d, xi), axis=0)\n",
    "    X = sim_data(d_sim, num_samples, keys[0])  # Do I need to split up the prng_key?\n",
    "\n",
    "    # I'm implicitly returning the prior here, that's a little annoying...\n",
    "    x, theta_0, d, xi = prepare_data(X)  # TODO: Maybe refactor this?\n",
    "\n",
    "    conditional_lp = log_prob.apply(flow_params, x, theta_0, d, xi)\n",
    "    # theta_L = prior_dist.sample((num_samples, M-1))\n",
    "    # Need to make an array of the new theta values\n",
    "    \n",
    "    contrastive_lps = []\n",
    "    for _ in range(M):\n",
    "        theta, _ = sim_linear_prior(num_samples, keys[1])\n",
    "        contrastive_lp = log_prob.apply(flow_params, x, theta, d, xi)\n",
    "        contrastive_lps.append(contrastive_lp)\n",
    "\n",
    "    marginal_log_prbs = jnp.concatenate((conditional_lp, jnp.array(contrastive_lps)))\n",
    "\n",
    "    marginal_lp = jax.nn.logsumexp(marginal_log_prbs, -1) - math.log(num_samples)\n",
    "\n",
    "    return _safe_mean_terms(conditional_lp - marginal_lp)\n",
    "\n",
    "\n",
    "    \n",
    "    theta_L = jnp.concatenate((theta_0, theta_L), axis=-1)\n",
    "    flow_loss = -jnp.mean(likelihood_0)\n",
    "    likelihood_L = log_prob.apply(flow_params, x, theta_L, d, xi)\n",
    "\n",
    "    marginal = jax.nn.logsumexp(likelihoods, -1) - math.log(num_samples)\n",
    "    eig_estimate = (likelihoods.exp() * (likelihoods - marginal)).sum(-1).mean(0)\n",
    "    surrogate_loss = eig_estimate.sum() + flow_loss\n",
    "    return surrogate_loss, eig_estimate\n",
    "\n",
    "    # Take N samples of the model\n",
    "    expanded_design = lexpand(design, N)  # N copies of the model\n",
    "    trace = poutine.trace(model).get_trace(expanded_design)\n",
    "    trace.compute_log_prob()\n",
    "    conditional_lp = sum(trace.nodes[l][\"log_prob\"] for l in observation_labels)\n",
    "\n",
    "    y_dict = {l: lexpand(trace.nodes[l][\"value\"], M) for l in observation_labels}\n",
    "    # Resample M values of theta and compute conditional probabilities\n",
    "    conditional_model = pyro.condition(model, data=y_dict)\n",
    "    # Using (M, 1) instead of (M, N) - acceptable to re-use thetas between ys because\n",
    "    # theta comes before y in graphical model\n",
    "    reexpanded_design = lexpand(design, M, 1)  # sample M theta\n",
    "    retrace = poutine.trace(conditional_model).get_trace(reexpanded_design)\n",
    "    retrace.compute_log_prob()\n",
    "    marginal_log_probs = torch.cat([lexpand(conditional_lp, 1),\n",
    "                                    sum(retrace.nodes[l][\"log_prob\"] for l in observation_labels)])\n",
    "    marginal_lp = marginal_log_probs.logsumexp(0) - math.log(M+1)\n",
    "\n",
    "    return _safe_mean_terms(conditional_lp - marginal_lp)\n",
    "\n",
    "\n",
    "@jax.jit\n",
    "def update(\n",
    "    params: hk.Params, prng_key: PRNGKey, opt_state: OptState, batch: Batch\n",
    ") -> Tuple[hk.Params, OptState]:\n",
    "    \"\"\"Single SGD update step.\"\"\"\n",
    "    x, theta, d, xi = prepare_data(batch)\n",
    "    grads = jax.grad(loss_fn)(params, prng_key, x, theta, d, xi)\n",
    "    # grads_d = jax.grad(loss_fn, argnums=5)(params, prng_key, x, theta, d, xi)\n",
    "    updates, new_opt_state = optimizer.update(grads, opt_state)\n",
    "    new_params = optax.apply_updates(params, updates)\n",
    "    return new_params, new_opt_state\n",
    "\n"
   ]
  },
  {
   "attachments": {},
   "cell_type": "markdown",
   "metadata": {},
   "source": [
    "## Doing it completely manual\n",
    "Just to work out the bugs ;)"
   ]
  },
  {
   "cell_type": "code",
   "execution_count": 5,
   "metadata": {},
   "outputs": [],
   "source": [
    "from collections import deque\n",
    "\n",
    "def sim_linear_prior(num_samples: int, key: PRNGKey):\n",
    "    \"\"\"\n",
    "    Simulate prior samples and return their log_prob.\n",
    "    \"\"\"\n",
    "    theta_shape = (2,)\n",
    "\n",
    "    mu = jnp.zeros(theta_shape)\n",
    "    sigma = (3**2) * jnp.ones(theta_shape)\n",
    "\n",
    "    base_distribution = distrax.Independent(  # Should this be independent?\n",
    "        distrax.MultivariateNormalDiag(mu, sigma)\n",
    "    )\n",
    "\n",
    "    samples, log_prob = base_distribution.sample_and_log_prob(seed=key, sample_shape=[num_samples])\n",
    "\n",
    "    return samples, log_prob\n",
    "\n",
    "def jax_lexpand(A, *dimensions):\n",
    "    \"\"\"Expand tensor, adding new dimensions on left.\"\"\"\n",
    "    if jnp.isscalar(A):\n",
    "        A = A * jnp.ones(dimensions)\n",
    "        return A\n",
    "    shape = tuple(dimensions) + A.shape\n",
    "    A = A[jnp.newaxis, ...]\n",
    "    A = jnp.broadcast_to(A, shape)\n",
    "    return A\n",
    "\n",
    "\n",
    "def lfi_pce_eig(params: hk.Params, prng_key: PRNGKey, N: int=100, M: int=10, **kwargs):\n",
    "    keys = jrandom.split(prng_key, 3 + M)\n",
    "    xi = jnp.squeeze(params['xi'])\n",
    "    flow_params = {k: v for k, v in params.items() if k != 'xi'}\n",
    "\n",
    "    # simulate the outcomes before finding their log_probs\n",
    "    X = sim_data(d_sim, num_samples, keys[0])  # Do I need to split up the prng_key?\n",
    "\n",
    "    # I'm implicitly returning the prior here, that's a little annoying...\n",
    "    x, theta_0, d, xi = prepare_data(X)  # TODO: Maybe refactor this?\n",
    "\n",
    "    conditional_lp = log_prob.apply(flow_params, x, theta_0, d, xi)\n",
    "\n",
    "    contrastive_lps = []\n",
    "    thetas = []\n",
    "    # TODO: can this be parallelized to speed up the computation?\n",
    "    for i in range(M):\n",
    "        theta, _ = sim_linear_prior(num_samples, keys[i + 1])\n",
    "        thetas.append(theta)\n",
    "        contrastive_lp = log_prob.apply(flow_params, x, theta, d, xi)\n",
    "        contrastive_lps.append(contrastive_lp)\n",
    "\n",
    "    marginal_log_prbs = jnp.concatenate((jax_lexpand(conditional_lp, 1), jnp.array(contrastive_lps)))\n",
    "\n",
    "    marginal_lp = jax.nn.logsumexp(marginal_log_prbs, 0) - math.log(M + 1)\n",
    "\n",
    "    return sum(conditional_lp - marginal_lp) - jnp.mean(contrastive_lp)\n",
    "\n",
    "\n",
    "@jax.jit\n",
    "def update_pce(\n",
    "    params: hk.Params, prng_key: PRNGKey, opt_state: OptState, N: int, M: int\n",
    ") -> Tuple[hk.Params, OptState]:\n",
    "    \"\"\"Single SGD update step.\"\"\"\n",
    "    grads = jax.grad(lfi_pce_eig)(params, prng_key, N=num_samples, M=inner_samples)\n",
    "    updates, new_opt_state = optimizer.update(grads, opt_state)\n",
    "    new_params = optax.apply_updates(params, updates)\n",
    "    return new_params, new_opt_state\n",
    "\n",
    "\n",
    "# Boilerplate setup\n",
    "seed = 1231\n",
    "M = 10\n",
    "key = jrandom.PRNGKey(seed)\n",
    "\n",
    "d = jnp.array([0.])\n",
    "xi = jnp.array([0.1])\n",
    "if d.size == 0:\n",
    "    d_sim = xi\n",
    "else:\n",
    "    d_sim = jnp.concatenate((d, xi), axis=0)\n",
    "# d_sim = jnp.concatenate((d, xi), axis=0)\n",
    "\n",
    "# Params and hyperparams\n",
    "len_x = len(d_sim)\n",
    "len_d = len(d)\n",
    "len_xi = len(xi)\n",
    "\n",
    "theta_shape = (2,)\n",
    "d_shape = (len(d),)\n",
    "xi_shape = (len_xi,)\n",
    "EVENT_SHAPE = (len(d_sim),)\n",
    "# EVENT_DIM is important for the normalizing flow's block.\n",
    "EVENT_DIM = 1\n",
    "cond_info_shape = (theta_shape[0], len_d, len_xi)\n",
    "\n",
    "num_samples = 10\n",
    "inner_samples = 10 # AKA M or L in BOED parlance\n",
    "batch_size = 128\n",
    "flow_num_layers = 5 #3 # 10\n",
    "mlp_num_layers = 1 # 3 # 4\n",
    "hidden_size = 8 # 128 # 500\n",
    "num_bins = 4\n",
    "learning_rate = 1e-4\n",
    "warmup_steps = 10\n",
    "early_stopping_memory = 10\n",
    "early_stopping_threshold = 5e-2\n",
    "\n",
    "training_steps = 100\n",
    "eval_frequency = 5\n",
    "\n",
    "# Initialzie the params\n",
    "prng_seq = hk.PRNGSequence(42)  # TODO: Put one of \"keys\" here?\n",
    "params = log_prob.init(\n",
    "    next(prng_seq),\n",
    "    np.zeros((1, *EVENT_SHAPE)),\n",
    "    np.zeros((1, *theta_shape)),\n",
    "    np.zeros((1, *d_shape)),\n",
    "    np.zeros((1, *xi_shape)),\n",
    ")\n",
    "# init_params = params.copy()\n",
    "params['xi'] = xi\n",
    "\n",
    "optimizer = optax.adam(learning_rate)\n",
    "\n",
    "opt_state = optimizer.init(params)\n",
    "\n",
    "# TODO: put this function in training since d will be changing.\n",
    "# num_samples = 10000\n",
    "# X = sim_data(d_sim, num_samples, key)\n",
    "\n",
    "# shift = X.mean(axis=0)\n",
    "# scale = X.std(axis=0) + 1e-14\n",
    "\n",
    "# # Create tf dataset from sklearn dataset\n",
    "# dataset = tf.data.Dataset.from_tensor_slices(X)\n",
    "\n",
    "# # Splitting into train/validate ds\n",
    "# train = dataset.skip(2000)\n",
    "# val = dataset.take(2000)\n",
    "\n",
    "# # load_dataset(split: tfds.Split, batch_size: int)\n",
    "# train_ds = load_dataset(train, 512)\n",
    "# valid_ds = load_dataset(val, 512)\n",
    "# print(params)\n",
    "# loss_deque = deque(maxlen=early_stopping_memory)\n",
    "# for step in range(training_steps):\n",
    "#     params, opt_state = update_pce(\n",
    "#         params, next(prng_seq), opt_state, N=num_samples, M=M\n",
    "#     )\n",
    "#     # params, opt_state, grads_d = update(\n",
    "#     #     params, next(prng_seq), opt_state, next(train_ds)\n",
    "#     # )\n",
    "\n",
    "#     print(f\"STEP: {step:5d}; Xi: {params['xi']}\")\n",
    "    # if step % eval_frequency == 0:\n",
    "    #     val_loss = eval_fn(params, next(valid_ds))\n",
    "    #     print(f\"STEP: {step:5d}; Validation loss: {val_loss:.3f}\")\n",
    "    \n",
    "    #     loss_deque.append(val_loss)\n",
    "    #     avg_abs_diff = jnp.mean(abs(jnp.array(loss_deque) - sum(loss_deque)/len(loss_deque)))\n",
    "    #     if step > warmup_steps and avg_abs_diff < early_stopping_threshold:\n",
    "    #         break"
   ]
  },
  {
   "cell_type": "code",
   "execution_count": null,
   "metadata": {},
   "outputs": [],
   "source": []
  },
  {
   "cell_type": "code",
   "execution_count": 147,
   "metadata": {},
   "outputs": [],
   "source": [
    "grads[\"xi\"] = grads_xi\n",
    "updates, new_opt_state = optimizer.update(grads, opt_state)\n",
    "new_params = optax.apply_updates(params, updates)"
   ]
  },
  {
   "cell_type": "code",
   "execution_count": null,
   "metadata": {},
   "outputs": [],
   "source": [
    "params['conditioner_module/mlp/~/linear_0']"
   ]
  },
  {
   "cell_type": "code",
   "execution_count": 105,
   "metadata": {},
   "outputs": [
    {
     "data": {
      "text/plain": [
       "DeviceArray(3.6019292, dtype=float32)"
      ]
     },
     "execution_count": 105,
     "metadata": {},
     "output_type": "execute_result"
    }
   ],
   "source": [
    "lfi_pce_eig(params, key, N=num_samples, M=M)"
   ]
  },
  {
   "cell_type": "code",
   "execution_count": 108,
   "metadata": {},
   "outputs": [],
   "source": [
    "grads = jax.grad(lfi_pce_eig)(params, key, N=num_samples, M=M)"
   ]
  },
  {
   "cell_type": "code",
   "execution_count": 109,
   "metadata": {},
   "outputs": [],
   "source": [
    "updates, new_opt_state = optimizer.update(grads, opt_state)\n",
    "new_params = optax.apply_updates(params, updates)"
   ]
  },
  {
   "cell_type": "code",
   "execution_count": null,
   "metadata": {},
   "outputs": [],
   "source": []
  },
  {
   "cell_type": "code",
   "execution_count": 7,
   "metadata": {},
   "outputs": [],
   "source": [
    "params = log_prob.init(\n",
    "    next(prng_seq),\n",
    "    np.zeros((1, *EVENT_SHAPE)),\n",
    "    np.zeros((1, *theta_shape)),\n",
    "    np.zeros((1, *d_shape)),\n",
    "    np.zeros((1, *xi_shape)),\n",
    ")\n",
    "# init_params = params.copy()\n",
    "params['xi'] = xi"
   ]
  },
  {
   "cell_type": "code",
   "execution_count": 10,
   "metadata": {},
   "outputs": [],
   "source": [
    "M = 10\n",
    "keys = jrandom.split(key, 3 + M)\n",
    "num_samples = 10\n",
    "\n",
    "xi = params['xi']\n",
    "flow_params = {k: v for k, v in params.items() if k != 'xi'}\n",
    "\n",
    "X = sim_data(d_sim, num_samples, keys[0])  # Do I need to split up the prng_key?\n",
    "\n",
    "# I'm implicitly returning the prior here, that's a little annoying...\n",
    "x, theta_0, d, xi = prepare_data(X)\n",
    "\n",
    "contrastive_lps = []\n",
    "thetas = []\n",
    "for i in range(M):\n",
    "    theta, _ = sim_linear_prior(num_samples, keys[i + 1])\n",
    "    thetas.append(theta)\n",
    "    contrastive_lp = log_prob.apply(flow_params, x, theta, d, xi)\n",
    "    contrastive_lps.append(contrastive_lp)\n"
   ]
  },
  {
   "cell_type": "code",
   "execution_count": 14,
   "metadata": {},
   "outputs": [
    {
     "data": {
      "text/plain": [
       "[DeviceArray([[  0.64793307,  12.057756  ],\n",
       "              [ -1.8036    , -21.126171  ],\n",
       "              [  1.133066  ,  11.62901   ],\n",
       "              [ -4.5348973 ,  -7.0127087 ],\n",
       "              [ -5.4115043 ,  -3.4683409 ],\n",
       "              [ -7.423147  ,   7.645422  ],\n",
       "              [  1.5872409 ,  11.221082  ],\n",
       "              [  0.8586352 , -10.206353  ],\n",
       "              [  8.100239  ,  -6.1539264 ],\n",
       "              [-13.176195  ,  10.821227  ]], dtype=float32),\n",
       " DeviceArray([[ -6.1988173 ,  -1.2310148 ],\n",
       "              [-12.849492  , -12.620625  ],\n",
       "              [ -7.4009905 ,  -3.9226563 ],\n",
       "              [ 17.474777  ,  14.818273  ],\n",
       "              [  6.0482283 ,   6.752823  ],\n",
       "              [ 13.28307   ,  -1.4132088 ],\n",
       "              [ -2.7293384 ,   3.487775  ],\n",
       "              [  7.874885  ,  -0.23380284],\n",
       "              [-14.064912  ,  11.756083  ],\n",
       "              [  2.0690577 ,  14.524533  ]], dtype=float32),\n",
       " DeviceArray([[ -3.65689  ,   7.231424 ],\n",
       "              [ -1.9369462,   1.1989701],\n",
       "              [ 12.946467 ,   1.407098 ],\n",
       "              [ -3.5840957, -12.995476 ],\n",
       "              [-12.196788 ,  23.040134 ],\n",
       "              [  3.5272124,  -2.0084808],\n",
       "              [ -2.1063745,  -6.3984814],\n",
       "              [ 14.970311 ,   7.23661  ],\n",
       "              [ -7.285979 ,  -8.209857 ],\n",
       "              [  4.1615047, -17.095598 ]], dtype=float32),\n",
       " DeviceArray([[-13.744735 ,  -1.392093 ],\n",
       "              [  3.3621225,  -1.5808239],\n",
       "              [-17.727169 ,   1.4319452],\n",
       "              [  4.982991 ,  -2.221058 ],\n",
       "              [-14.190501 ,   9.979641 ],\n",
       "              [ 16.577234 ,   3.7251465],\n",
       "              [ -1.0247506, -10.063461 ],\n",
       "              [ 11.156546 , -13.290407 ],\n",
       "              [ 12.168148 ,  -6.211318 ],\n",
       "              [ 20.059345 ,  -8.960184 ]], dtype=float32),\n",
       " DeviceArray([[  3.2364473,  -5.7628765],\n",
       "              [ -1.1260009,   2.75081  ],\n",
       "              [  5.3766537,  -5.6687036],\n",
       "              [-16.1931   ,   4.9224205],\n",
       "              [-20.17436  ,  -4.9318695],\n",
       "              [ -1.8989071, -16.489414 ],\n",
       "              [  3.6700122, -15.912622 ],\n",
       "              [  2.958536 ,  -3.0327377],\n",
       "              [ -7.1398616,  -3.5663493],\n",
       "              [ -7.7596307,  13.272042 ]], dtype=float32),\n",
       " DeviceArray([[  3.3430977 ,   1.6305696 ],\n",
       "              [ -5.9304676 ,   1.5628601 ],\n",
       "              [  3.458716  ,  -1.5521276 ],\n",
       "              [-23.666735  ,   7.204771  ],\n",
       "              [  2.3833272 ,  12.6059885 ],\n",
       "              [  0.08012465,  16.417442  ],\n",
       "              [ 11.023899  ,   1.334738  ],\n",
       "              [ -8.274364  ,   6.487465  ],\n",
       "              [  4.8539615 ,   7.545137  ],\n",
       "              [ 15.07491   ,   9.83883   ]], dtype=float32),\n",
       " DeviceArray([[ -4.6484966 ,   2.0848312 ],\n",
       "              [ -1.5853441 ,   8.249429  ],\n",
       "              [-14.634294  ,  11.465833  ],\n",
       "              [  1.3609746 ,  -5.1135073 ],\n",
       "              [  7.9940386 ,  -3.1233866 ],\n",
       "              [ -6.9010124 ,   6.668855  ],\n",
       "              [  0.25995153,  -3.5660882 ],\n",
       "              [ -8.069077  ,  -4.7544723 ],\n",
       "              [  4.3881006 ,  -1.1735852 ],\n",
       "              [ -7.151715  ,   8.583297  ]], dtype=float32),\n",
       " DeviceArray([[  5.995773 ,  -5.84251  ],\n",
       "              [  3.3989809,   2.707823 ],\n",
       "              [  3.953537 ,  11.817855 ],\n",
       "              [ -9.604214 , -12.563715 ],\n",
       "              [ -0.3455139,  14.815364 ],\n",
       "              [-16.427826 ,  10.514871 ],\n",
       "              [-10.316995 ,   6.9162083],\n",
       "              [ -5.8247757, -15.326024 ],\n",
       "              [ -2.8184185,  -2.100858 ],\n",
       "              [ -8.592105 ,  -4.4695926]], dtype=float32),\n",
       " DeviceArray([[ 4.266702  , -3.480713  ],\n",
       "              [-3.6858387 ,  4.6207247 ],\n",
       "              [-5.331479  , -3.3922307 ],\n",
       "              [ 2.2157893 , -9.628382  ],\n",
       "              [ 7.437256  , -5.187854  ],\n",
       "              [ 2.8552182 , -2.1501591 ],\n",
       "              [10.239139  , -0.30657387],\n",
       "              [ 4.5631547 ,  3.3490367 ],\n",
       "              [-2.8893983 ,  3.3446567 ],\n",
       "              [10.422832  , 20.6276    ]], dtype=float32),\n",
       " DeviceArray([[ -4.398278 ,   3.1264844],\n",
       "              [ -9.21753  ,   7.2552476],\n",
       "              [-11.973638 ,  -5.0422826],\n",
       "              [-13.711408 ,   0.8138804],\n",
       "              [ 21.733585 ,  -7.9876537],\n",
       "              [  5.6295214,  -1.5190306],\n",
       "              [ -3.4423   ,   4.632292 ],\n",
       "              [ -2.259205 ,   3.053364 ],\n",
       "              [ -5.7116723, -15.013002 ],\n",
       "              [ -8.434806 ,   5.2537813]], dtype=float32)]"
      ]
     },
     "execution_count": 14,
     "metadata": {},
     "output_type": "execute_result"
    }
   ],
   "source": [
    "thetas"
   ]
  },
  {
   "cell_type": "code",
   "execution_count": 66,
   "metadata": {},
   "outputs": [
    {
     "data": {
      "text/plain": [
       "DeviceArray([[  0.64793307,  12.057756  ],\n",
       "             [ -1.8036    , -21.126171  ],\n",
       "             [  1.133066  ,  11.62901   ],\n",
       "             [ -4.5348973 ,  -7.0127087 ],\n",
       "             [ -5.4115043 ,  -3.4683409 ],\n",
       "             [ -7.423147  ,   7.645422  ],\n",
       "             [  1.5872409 ,  11.221082  ],\n",
       "             [  0.8586352 , -10.206353  ],\n",
       "             [  8.100239  ,  -6.1539264 ],\n",
       "             [-13.176195  ,  10.821227  ]], dtype=float32)"
      ]
     },
     "execution_count": 66,
     "metadata": {},
     "output_type": "execute_result"
    }
   ],
   "source": [
    "thetas[0]"
   ]
  },
  {
   "cell_type": "code",
   "execution_count": 67,
   "metadata": {},
   "outputs": [
    {
     "data": {
      "text/plain": [
       "DeviceArray([-3.253583 , -3.9614515, -3.3008242, -3.7383153, -3.2508907,\n",
       "             -3.7140958, -3.7958465, -3.1544094, -4.623407 , -3.2264678],            dtype=float32)"
      ]
     },
     "execution_count": 67,
     "metadata": {},
     "output_type": "execute_result"
    }
   ],
   "source": [
    "log_prob.apply(flow_params, x, thetas[0], d, xi)"
   ]
  },
  {
   "cell_type": "code",
   "execution_count": 69,
   "metadata": {},
   "outputs": [
    {
     "data": {
      "text/plain": [
       "DeviceArray([[ -6.1988173 ,  -1.2310148 ],\n",
       "             [-12.849492  , -12.620625  ],\n",
       "             [ -7.4009905 ,  -3.9226563 ],\n",
       "             [ 17.474777  ,  14.818273  ],\n",
       "             [  6.0482283 ,   6.752823  ],\n",
       "             [ 13.28307   ,  -1.4132088 ],\n",
       "             [ -2.7293384 ,   3.487775  ],\n",
       "             [  7.874885  ,  -0.23380284],\n",
       "             [-14.064912  ,  11.756083  ],\n",
       "             [  2.0690577 ,  14.524533  ]], dtype=float32)"
      ]
     },
     "execution_count": 69,
     "metadata": {},
     "output_type": "execute_result"
    }
   ],
   "source": [
    "thetas[1]"
   ]
  },
  {
   "cell_type": "code",
   "execution_count": 70,
   "metadata": {},
   "outputs": [
    {
     "data": {
      "text/plain": [
       "DeviceArray([-3.253583 , -3.9614515, -3.3008242, -3.7383153, -3.2508907,\n",
       "             -3.7140958, -3.7958465, -3.1544094, -4.623407 , -3.2264678],            dtype=float32)"
      ]
     },
     "execution_count": 70,
     "metadata": {},
     "output_type": "execute_result"
    }
   ],
   "source": [
    "log_prob.apply(flow_params, x, thetas[1], d, xi)"
   ]
  },
  {
   "cell_type": "code",
   "execution_count": null,
   "metadata": {},
   "outputs": [],
   "source": []
  },
  {
   "cell_type": "code",
   "execution_count": 64,
   "metadata": {},
   "outputs": [
    {
     "data": {
      "text/plain": [
       "DeviceArray([ True,  True,  True,  True,  True,  True,  True,  True,\n",
       "              True,  True], dtype=bool)"
      ]
     },
     "execution_count": 64,
     "metadata": {},
     "output_type": "execute_result"
    }
   ],
   "source": [
    "contrastive_lps[0] == contrastive_lps[4]\n",
    "# wtf? get back to this later."
   ]
  },
  {
   "cell_type": "code",
   "execution_count": 55,
   "metadata": {},
   "outputs": [],
   "source": [
    "marginal_log_prbs = jnp.concatenate((jax_lexpand(conditional_lp, 1), jnp.array(contrastive_lps)))"
   ]
  },
  {
   "cell_type": "code",
   "execution_count": 56,
   "metadata": {},
   "outputs": [
    {
     "data": {
      "text/plain": [
       "(11, 10)"
      ]
     },
     "execution_count": 56,
     "metadata": {},
     "output_type": "execute_result"
    }
   ],
   "source": [
    "marginal_log_prbs.shape  # This may need to have an extra dimension"
   ]
  },
  {
   "cell_type": "code",
   "execution_count": 72,
   "metadata": {},
   "outputs": [],
   "source": [
    "import math\n",
    "marginal_lp = jax.nn.logsumexp(marginal_log_prbs, 0) - math.log(M + 1)"
   ]
  },
  {
   "cell_type": "code",
   "execution_count": 75,
   "metadata": {},
   "outputs": [
    {
     "data": {
      "text/plain": [
       "(10,)"
      ]
     },
     "execution_count": 75,
     "metadata": {},
     "output_type": "execute_result"
    }
   ],
   "source": [
    "# marginal_log_prbs -> marginal_lp needs to be over 0th dimension to remove 11\n",
    "marginal_lp.shape"
   ]
  },
  {
   "cell_type": "code",
   "execution_count": 71,
   "metadata": {},
   "outputs": [
    {
     "data": {
      "text/plain": [
       "(10,)"
      ]
     },
     "execution_count": 71,
     "metadata": {},
     "output_type": "execute_result"
    }
   ],
   "source": [
    "conditional_lp.shape  # Think this needs to be a 1D array not scalar"
   ]
  },
  {
   "cell_type": "code",
   "execution_count": 74,
   "metadata": {},
   "outputs": [
    {
     "data": {
      "text/plain": [
       "DeviceArray([0., 0., 0., 0., 0., 0., 0., 0., 0., 0.], dtype=float32)"
      ]
     },
     "execution_count": 74,
     "metadata": {},
     "output_type": "execute_result"
    }
   ],
   "source": [
    "conditional_lp - marginal_lp"
   ]
  },
  {
   "cell_type": "code",
   "execution_count": 61,
   "metadata": {},
   "outputs": [],
   "source": [
    "def _safe_mean_terms(terms):\n",
    "    mask = torch.isnan(terms) | (terms == float('-inf')) | (terms == float('inf'))\n",
    "    if terms.dtype is torch.float32:\n",
    "        nonnan = (~mask).sum(0).float()\n",
    "    elif terms.dtype is torch.float64:\n",
    "        nonnan = (~mask).sum(0).double()\n",
    "    terms[mask] = 0.\n",
    "    loss = terms.sum(0) / nonnan\n",
    "    agg_loss = loss.sum()\n",
    "    return agg_loss, loss"
   ]
  },
  {
   "cell_type": "code",
   "execution_count": null,
   "metadata": {},
   "outputs": [],
   "source": []
  },
  {
   "cell_type": "code",
   "execution_count": null,
   "metadata": {},
   "outputs": [],
   "source": []
  },
  {
   "cell_type": "code",
   "execution_count": 5,
   "metadata": {},
   "outputs": [
    {
     "data": {
      "text/plain": [
       "dict_keys(['conditioner_module/linear', 'conditioner_module/linear_1', 'conditioner_module/linear_2', 'conditioner_module/linear_3', 'conditioner_module/linear_4', 'conditioner_module/mlp/~/linear_0', 'conditioner_module/mlp_1/~/linear_0', 'conditioner_module/mlp_2/~/linear_0', 'conditioner_module/mlp_3/~/linear_0'])"
      ]
     },
     "execution_count": 5,
     "metadata": {},
     "output_type": "execute_result"
    }
   ],
   "source": [
    "params.keys()"
   ]
  },
  {
   "cell_type": "code",
   "execution_count": 19,
   "metadata": {},
   "outputs": [],
   "source": [
    "params['xi'] = 1"
   ]
  },
  {
   "cell_type": "code",
   "execution_count": 20,
   "metadata": {},
   "outputs": [
    {
     "data": {
      "text/plain": [
       "dict_keys(['conditioner_module/linear', 'conditioner_module/linear_1', 'conditioner_module/linear_2', 'conditioner_module/linear_3', 'conditioner_module/linear_4', 'conditioner_module/mlp/~/linear_0', 'conditioner_module/mlp_1/~/linear_0', 'conditioner_module/mlp_2/~/linear_0', 'conditioner_module/mlp_3/~/linear_0', 'xi'])"
      ]
     },
     "execution_count": 20,
     "metadata": {},
     "output_type": "execute_result"
    }
   ],
   "source": [
    "params.keys()"
   ]
  },
  {
   "cell_type": "code",
   "execution_count": 21,
   "metadata": {},
   "outputs": [],
   "source": [
    "testy = params.pop('xi', None)"
   ]
  },
  {
   "cell_type": "code",
   "execution_count": 22,
   "metadata": {},
   "outputs": [
    {
     "data": {
      "text/plain": [
       "dict_keys(['conditioner_module/linear', 'conditioner_module/linear_1', 'conditioner_module/linear_2', 'conditioner_module/linear_3', 'conditioner_module/linear_4', 'conditioner_module/mlp/~/linear_0', 'conditioner_module/mlp_1/~/linear_0', 'conditioner_module/mlp_2/~/linear_0', 'conditioner_module/mlp_3/~/linear_0'])"
      ]
     },
     "execution_count": 22,
     "metadata": {},
     "output_type": "execute_result"
    }
   ],
   "source": [
    "params.keys()"
   ]
  },
  {
   "cell_type": "code",
   "execution_count": 23,
   "metadata": {},
   "outputs": [
    {
     "data": {
      "text/plain": [
       "1"
      ]
     },
     "execution_count": 23,
     "metadata": {},
     "output_type": "execute_result"
    }
   ],
   "source": [
    "testy"
   ]
  },
  {
   "attachments": {},
   "cell_type": "markdown",
   "metadata": {},
   "source": [
    "Time to train. Just need a vector of the samples and thetas that produced them. Don't need a simulator or the prior quite yet.\n",
    "- How do I track the training curves in Jax/Haiku? Gave in and am using WANDB."
   ]
  },
  {
   "cell_type": "code",
   "execution_count": 13,
   "metadata": {},
   "outputs": [
    {
     "name": "stdout",
     "output_type": "stream",
     "text": [
      "STEP:     0; Validation loss: 9.587\n",
      "STEP:    10; Validation loss: 9.453\n",
      "STEP:    20; Validation loss: 9.295\n",
      "STEP:    30; Validation loss: 9.160\n",
      "STEP:    40; Validation loss: 8.990\n",
      "STEP:    50; Validation loss: 8.950\n",
      "STEP:    60; Validation loss: 8.914\n",
      "STEP:    70; Validation loss: 8.899\n",
      "STEP:    80; Validation loss: 8.833\n",
      "STEP:    90; Validation loss: 8.782\n",
      "STEP:   100; Validation loss: 8.803\n",
      "STEP:   110; Validation loss: 8.844\n",
      "STEP:   120; Validation loss: 8.850\n",
      "STEP:   130; Validation loss: 8.681\n",
      "STEP:   140; Validation loss: 8.731\n",
      "STEP:   150; Validation loss: 8.693\n",
      "STEP:   160; Validation loss: 8.693\n",
      "STEP:   170; Validation loss: 8.739\n",
      "STEP:   180; Validation loss: 8.609\n",
      "STEP:   190; Validation loss: 8.722\n",
      "STEP:   200; Validation loss: 8.581\n",
      "STEP:   210; Validation loss: 8.620\n",
      "STEP:   220; Validation loss: 8.705\n"
     ]
    }
   ],
   "source": [
    "# import wandb\n",
    "\n",
    "# wandb.init(project=\"lfiax_linRegression_ACE\", entity=\"vz_uci\")\n",
    "\n",
    "# TODO: Put this in hydra config file\n",
    "seed = 1231\n",
    "key = jrandom.PRNGKey(seed)\n",
    "\n",
    "# d = jnp.array([-10.0, 0.0, 5.0, 10.0])\n",
    "# d = jnp.array([1., 2.])\n",
    "# d = jnp.array([1.])\n",
    "# d_obs = jnp.array([0.])\n",
    "d_obs = jnp.array([])\n",
    "# d_prop = jrandom.uniform(key, shape=(1,), minval=-10.0, maxval=10.0)\n",
    "xi = jnp.array([0.])\n",
    "# d_prop = jnp.array([])\n",
    "d_sim = jnp.concatenate((d_obs, xi), axis=0)\n",
    "len_x = len(d_sim)\n",
    "len_d = len(d_obs)\n",
    "len_xi = len(xi)\n",
    "num_samples = 100\n",
    "\n",
    "# Params and hyperparams\n",
    "theta_shape = (2,)\n",
    "d_shape = (len(d_obs),)\n",
    "xi_shape = (len_xi,)\n",
    "EVENT_SHAPE = (len(d_sim),)\n",
    "# EVENT_DIM is important for the normalizing flow's block.\n",
    "EVENT_DIM = 1\n",
    "cond_info_shape = (theta_shape[0], len_d, len_xi)\n",
    "\n",
    "batch_size = 128\n",
    "flow_num_layers = 5 #3 # 10\n",
    "mlp_num_layers = 4 # 3 # 4\n",
    "hidden_size = 128 # 500\n",
    "num_bins = 4\n",
    "learning_rate = 1e-4\n",
    "warmup_steps = 100\n",
    "early_stopping_memory = 10\n",
    "early_stopping_threshold = 5e-2\n",
    "\n",
    "training_steps = 500\n",
    "eval_frequency = 10\n",
    "\n",
    "optimizer = optax.adam(learning_rate)\n",
    "\n",
    "# Simulating the data to be used to train the flow.\n",
    "num_samples = 10000\n",
    "# TODO: put this function in training since d will be changing.\n",
    "X = sim_data(d_sim, num_samples, key)\n",
    "\n",
    "shift = X.mean(axis=0)\n",
    "scale = X.std(axis=0) + 1e-14\n",
    "\n",
    "# Create tf dataset from sklearn dataset\n",
    "dataset = tf.data.Dataset.from_tensor_slices(X)\n",
    "\n",
    "# Splitting into train/validate ds\n",
    "train = dataset.skip(2000)\n",
    "val = dataset.take(2000)\n",
    "\n",
    "# load_dataset(split: tfds.Split, batch_size: int)\n",
    "train_ds = load_dataset(train, 512)\n",
    "valid_ds = load_dataset(val, 512)\n",
    "\n",
    "# Training\n",
    "prng_seq = hk.PRNGSequence(42)\n",
    "params = log_prob.init(\n",
    "    next(prng_seq),\n",
    "    np.zeros((1, *EVENT_SHAPE)),\n",
    "    np.zeros((1, *theta_shape)),\n",
    "    np.zeros((1, *d_shape)),\n",
    "    np.zeros((1, *xi_shape)),\n",
    ")\n",
    "params['xi'] = xi\n",
    "opt_state = optimizer.init(params)\n",
    "\n",
    "# Can change the length of the deque for more/less leniency in measuring the loss\n",
    "loss_deque = deque(maxlen=early_stopping_memory)\n",
    "for step in range(training_steps):\n",
    "    params, opt_state, grads_d = update(\n",
    "        params, next(prng_seq), opt_state, next(train_ds)\n",
    "    )\n",
    "\n",
    "    if step % eval_frequency == 0:\n",
    "        val_loss = eval_fn(params, next(valid_ds))\n",
    "        print(f\"STEP: {step:5d}; Validation loss: {val_loss:.3f}\")\n",
    "    \n",
    "        loss_deque.append(val_loss)\n",
    "        avg_abs_diff = jnp.mean(abs(jnp.array(loss_deque) - sum(loss_deque)/len(loss_deque)))\n",
    "        if step > warmup_steps and avg_abs_diff < early_stopping_threshold:\n",
    "            break\n"
   ]
  },
  {
   "cell_type": "code",
   "execution_count": 16,
   "metadata": {},
   "outputs": [
    {
     "data": {
      "text/plain": [
       "DeviceArray([10.], dtype=float32)"
      ]
     },
     "execution_count": 16,
     "metadata": {},
     "output_type": "execute_result"
    }
   ],
   "source": [
    "params['xi']"
   ]
  },
  {
   "cell_type": "code",
   "execution_count": 46,
   "metadata": {},
   "outputs": [
    {
     "data": {
      "text/plain": [
       "(1,)"
      ]
     },
     "execution_count": 46,
     "metadata": {},
     "output_type": "execute_result"
    }
   ],
   "source": [
    "d_prop.shape"
   ]
  },
  {
   "attachments": {},
   "cell_type": "markdown",
   "metadata": {},
   "source": [
    "Making the sampling/log-prob stuff work. Now to actually implment LFI ACE. I've got the flow, now just going to do some of the ACE computations manually."
   ]
  },
  {
   "cell_type": "code",
   "execution_count": null,
   "metadata": {},
   "outputs": [],
   "source": [
    "def jax_lexpand(A, *dimensions):\n",
    "    \"\"\"Expand tensor, adding new dimensions on left.\"\"\"\n",
    "    if jnp.isscalar(A):\n",
    "        A = A * jnp.ones(dimensions)\n",
    "        return A\n",
    "    shape = tuple(dimensions) + A.shape\n",
    "    A = A[jnp.newaxis, ...]\n",
    "    A = jnp.broadcast_to(A, shape)\n",
    "    return A\n",
    "\n",
    "\n",
    "# Walking through and commenting the code\n",
    "def lfi_ace_eig_loss(model:NormalizingFlow, guide:NormalizingFlow, M, observation_labels, target_labels):\n",
    "    def loss_fn(design, num_particles, evaluation=False, **kwargs):\n",
    "        N = num_particles\n",
    "        # Expand to the number of parallel designs being evaluated\n",
    "        expanded_design = lexpand(design, N)\n",
    "        \n",
    "        # TODO: make a for loop over the proposed models here.\n",
    "        for model in models:\n",
    "            # TODO: would be cool to make sampling from the model's prior a method\n",
    "             # Hmm I need N copies for parallelization. I can figure that out later, though.\n",
    "            model_thetas_0 = model.prior_distribution.sample(num_samples)\n",
    "            y_0, log_prob_y_0 = model.sample_with_log_prob(model_thetas_0, expanded_design)\n",
    "            # Get a dictionary of the expanded y and theta values, just make M copies of y values\n",
    "            # TODO: think of a better way to add these into expanded dictionary values...\n",
    "            y_dict_exp = lexpand(y, M)\n",
    "\n",
    "            # This is essentially the p(y|theta)p(theta)\n",
    "            # Ohh, each model will have two ratios, it's current prob and its prior one\n",
    "            marginal_terms_cross = sum(model.prior_distribution.log_prob(model_thetas_0))\n",
    "            marginal_terms_cross += sum(log_prob_y_0)\n",
    "\n",
    "        # Pray that jax can handle this parallelization - vmap and pmap to the rescue!...?\n",
    "        for _ in range(m):\n",
    "            for model in models:\n",
    "                # Sample from q(theta | y, d) using the guide normalizing flow\n",
    "                theta, log_prob = guide.sample_with_log_prob(y, expanded_design, observation_labels, target_labels)\n",
    "                theta_y_dict = {l: theta[l] for l in target_labels}\n",
    "                theta_y_dict.update(y_dict_exp)\n",
    "\n",
    "                marginal_terms_proposal = -sum(log_prob[l] for l in target_labels)\n",
    "                marginal_terms_proposal += sum(log_prob[l] for l in target_labels)\n",
    "                marginal_terms_proposal += sum(log_prob[l] for l in observation_labels)\n",
    "\n",
    "                marginal_terms = torch.cat([lexpand(marginal_terms_cross, 1), marginal_terms_proposal])\n",
    "                terms = -marginal_terms.logsumexp(0) + math.log(M + 1)\n",
    "\n",
    "                # At eval time, add p(y | theta, d) terms\n",
    "                if evaluation:\n",
    "                    terms += sum(log_prob[l] for l in observation_labels)\n",
    "                return _safe_mean_terms(terms)\n",
    "\n",
    "        # Sample from q(theta | y, d) using the guide normalizing flow\n",
    "        theta, log_prob = guide.sample_with_log_prob(y, expanded_design, observation_labels, target_labels)\n",
    "        theta_y_dict = {l: theta[l] for l in target_labels}\n",
    "        theta_y_dict.update(y_dict_exp)\n",
    "\n",
    "        marginal_terms_proposal = -sum(log_prob[l] for l in target_labels)\n",
    "        marginal_terms_proposal += sum(log_prob[l] for l in target_labels)\n",
    "        marginal_terms_proposal += sum(log_prob[l] for l in observation_labels)\n",
    "\n",
    "        marginal_terms = torch.cat([lexpand(marginal_terms_cross, 1), marginal_terms_proposal])\n",
    "        terms = -marginal_terms.logsumexp(0) + math.log(M + 1)\n",
    "\n",
    "        # At eval time, add p(y | theta, d) terms\n",
    "        if evaluation:\n",
    "            terms += sum(log_prob[l] for l in observation_labels)\n",
    "        return _safe_mean_terms(terms)\n",
    "\n",
    "    return loss_fn\n"
   ]
  },
  {
   "cell_type": "code",
   "execution_count": null,
   "metadata": {},
   "outputs": [],
   "source": []
  },
  {
   "cell_type": "code",
   "execution_count": null,
   "metadata": {},
   "outputs": [],
   "source": []
  },
  {
   "cell_type": "code",
   "execution_count": null,
   "metadata": {},
   "outputs": [],
   "source": []
  },
  {
   "cell_type": "code",
   "execution_count": null,
   "metadata": {},
   "outputs": [],
   "source": []
  },
  {
   "cell_type": "code",
   "execution_count": 111,
   "metadata": {},
   "outputs": [],
   "source": [
    "device = 'cpu'\n",
    "p = 20\n",
    "n = 20\n",
    "N = 2 # num_parallel\n",
    "M = 2\n",
    "design = torch.zeros([10, 20, 20])\n",
    "expanded_design = lexpand(design, N)\n",
    "\n",
    "w_prior_loc = torch.zeros(p, device=device)\n",
    "w_prior_scale = scale * torch.ones(p, device=device)\n",
    "sigma_prior_scale = scale * torch.tensor(1., device=device)\n",
    "\n",
    "model_learn_xi = make_regression_model(\n",
    "    w_prior_loc, w_prior_scale, sigma_prior_scale, xi_init)\n",
    "\n",
    "model = model_learn_xi\n",
    "guide = PosteriorGuide(n, p, (N,)).to(device)\n",
    "observation_labels = [\"y\"]\n",
    "target_labels = ['w', 'sigma']"
   ]
  },
  {
   "cell_type": "code",
   "execution_count": 91,
   "metadata": {},
   "outputs": [],
   "source": [
    "trace = poutine.trace(model).get_trace(expanded_design)\n",
    "y_dict_exp = {l: lexpand(trace.nodes[l][\"value\"], M) for l in observation_labels}\n",
    "y_dict = {l: trace.nodes[l][\"value\"] for l in observation_labels}\n",
    "theta_dict = {l: trace.nodes[l][\"value\"] for l in target_labels}"
   ]
  },
  {
   "cell_type": "code",
   "execution_count": 101,
   "metadata": {},
   "outputs": [
    {
     "data": {
      "text/plain": [
       "torch.Size([2, 10, 20])"
      ]
     },
     "execution_count": 101,
     "metadata": {},
     "output_type": "execute_result"
    }
   ],
   "source": [
    "y_dict['y'].shape"
   ]
  },
  {
   "cell_type": "code",
   "execution_count": 104,
   "metadata": {},
   "outputs": [
    {
     "data": {
      "text/plain": [
       "torch.Size([2, 10, 20])"
      ]
     },
     "execution_count": 104,
     "metadata": {},
     "output_type": "execute_result"
    }
   ],
   "source": [
    "theta_dict['w'].shape"
   ]
  },
  {
   "cell_type": "code",
   "execution_count": 105,
   "metadata": {},
   "outputs": [
    {
     "data": {
      "text/plain": [
       "torch.Size([2, 10])"
      ]
     },
     "execution_count": 105,
     "metadata": {},
     "output_type": "execute_result"
    }
   ],
   "source": [
    "theta_dict['sigma'].shape"
   ]
  },
  {
   "cell_type": "code",
   "execution_count": 107,
   "metadata": {},
   "outputs": [
    {
     "data": {
      "text/plain": [
       "[torch.Size([2, 10]), torch.Size([2, 10])]"
      ]
     },
     "execution_count": 107,
     "metadata": {},
     "output_type": "execute_result"
    }
   ],
   "source": [
    "[trace.nodes[l][\"log_prob\"].shape for l in target_labels]"
   ]
  },
  {
   "attachments": {},
   "cell_type": "markdown",
   "metadata": {},
   "source": [
    "That's what's throwing me off. Determining the `log_prob` of the `w` vector compresses it for some reason... Oh, wait, it's the probability of each *vector*. That's why it's compressed to the shape of the `y` and `sigma` shapes. Yea, that makes a lot more sense."
   ]
  },
  {
   "cell_type": "code",
   "execution_count": 92,
   "metadata": {},
   "outputs": [],
   "source": [
    "trace.compute_log_prob()\n",
    "# This is taking the log_prob of a vector from a distribution. I can either use a distribution that \n",
    "# is in a vector format or I think it should be fine to add two separate ones together...\n",
    "marginal_terms_cross = sum(trace.nodes[l][\"log_prob\"] for l in target_labels)"
   ]
  },
  {
   "cell_type": "code",
   "execution_count": 108,
   "metadata": {},
   "outputs": [],
   "source": [
    "marginal_terms_cross += sum(trace.nodes[l][\"log_prob\"] for l in observation_labels)"
   ]
  },
  {
   "cell_type": "code",
   "execution_count": 109,
   "metadata": {},
   "outputs": [
    {
     "data": {
      "text/plain": [
       "tensor([[-48.1695, -70.6690, -58.5410, -57.8346, -82.7463, -79.5401, -34.3802,\n",
       "         -75.5568, -62.8853, -90.3731],\n",
       "        [-68.9690, -46.9697, -79.1669, -81.4540, -75.3442, -28.8084, -77.4504,\n",
       "         -67.5315,   2.8248, -70.4339]], grad_fn=<AddBackward0>)"
      ]
     },
     "execution_count": 109,
     "metadata": {},
     "output_type": "execute_result"
    }
   ],
   "source": [
    "marginal_terms_cross"
   ]
  },
  {
   "attachments": {},
   "cell_type": "markdown",
   "metadata": {},
   "source": [
    "This next part would be the denominator of LFI-ACE with the sum of all of the models' log_probs. The numerator might actually be the sum of all the log_probs. The denominator would be the weighted sum... Yea, that makes more sense....\n",
    "\n",
    "Part of the loss could then just be adding on the loss of the prediction of each normalizing flow. That makes one scalar loss. Although, there's an EIG for each of the 'y' outputs, too."
   ]
  },
  {
   "cell_type": "code",
   "execution_count": 112,
   "metadata": {},
   "outputs": [
    {
     "ename": "RuntimeError",
     "evalue": "The size of tensor a (2) must match the size of tensor b (10) at non-singleton dimension 1\nTrace Shapes:\n Param Sites:\nSample Sites:",
     "output_type": "error",
     "traceback": [
      "\u001b[0;31m---------------------------------------------------------------------------\u001b[0m",
      "\u001b[0;31mRuntimeError\u001b[0m                              Traceback (most recent call last)",
      "File \u001b[0;32m~/anaconda3/envs/sdm3/lib/python3.9/site-packages/pyro/poutine/trace_messenger.py:174\u001b[0m, in \u001b[0;36mTraceHandler.__call__\u001b[0;34m(self, *args, **kwargs)\u001b[0m\n\u001b[1;32m    173\u001b[0m \u001b[39mtry\u001b[39;00m:\n\u001b[0;32m--> 174\u001b[0m     ret \u001b[39m=\u001b[39m \u001b[39mself\u001b[39;49m\u001b[39m.\u001b[39;49mfn(\u001b[39m*\u001b[39;49margs, \u001b[39m*\u001b[39;49m\u001b[39m*\u001b[39;49mkwargs)\n\u001b[1;32m    175\u001b[0m \u001b[39mexcept\u001b[39;00m (\u001b[39mValueError\u001b[39;00m, \u001b[39mRuntimeError\u001b[39;00m) \u001b[39mas\u001b[39;00m e:\n",
      "File \u001b[0;32m~/anaconda3/envs/sdm3/lib/python3.9/site-packages/pyro/poutine/messenger.py:12\u001b[0m, in \u001b[0;36m_context_wrap\u001b[0;34m(context, fn, *args, **kwargs)\u001b[0m\n\u001b[1;32m     11\u001b[0m \u001b[39mwith\u001b[39;00m context:\n\u001b[0;32m---> 12\u001b[0m     \u001b[39mreturn\u001b[39;00m fn(\u001b[39m*\u001b[39;49margs, \u001b[39m*\u001b[39;49m\u001b[39m*\u001b[39;49mkwargs)\n",
      "File \u001b[0;32m~/anaconda3/envs/sdm3/lib/python3.9/site-packages/torch/nn/modules/module.py:1190\u001b[0m, in \u001b[0;36mModule._call_impl\u001b[0;34m(self, *input, **kwargs)\u001b[0m\n\u001b[1;32m   1188\u001b[0m \u001b[39mif\u001b[39;00m \u001b[39mnot\u001b[39;00m (\u001b[39mself\u001b[39m\u001b[39m.\u001b[39m_backward_hooks \u001b[39mor\u001b[39;00m \u001b[39mself\u001b[39m\u001b[39m.\u001b[39m_forward_hooks \u001b[39mor\u001b[39;00m \u001b[39mself\u001b[39m\u001b[39m.\u001b[39m_forward_pre_hooks \u001b[39mor\u001b[39;00m _global_backward_hooks\n\u001b[1;32m   1189\u001b[0m         \u001b[39mor\u001b[39;00m _global_forward_hooks \u001b[39mor\u001b[39;00m _global_forward_pre_hooks):\n\u001b[0;32m-> 1190\u001b[0m     \u001b[39mreturn\u001b[39;00m forward_call(\u001b[39m*\u001b[39;49m\u001b[39minput\u001b[39;49m, \u001b[39m*\u001b[39;49m\u001b[39m*\u001b[39;49mkwargs)\n\u001b[1;32m   1191\u001b[0m \u001b[39m# Do not call functions when jit is used\u001b[39;00m\n",
      "Cell \u001b[0;32mIn [12], line 108\u001b[0m, in \u001b[0;36mPosteriorGuide.forward\u001b[0;34m(self, y_dict, design_prototype, observation_labels, target_labels)\u001b[0m\n\u001b[1;32m    107\u001b[0m y \u001b[39m=\u001b[39m y_dict[\u001b[39m\"\u001b[39m\u001b[39my\u001b[39m\u001b[39m\"\u001b[39m] \u001b[39m-\u001b[39m \u001b[39m.5\u001b[39m\n\u001b[0;32m--> 108\u001b[0m x \u001b[39m=\u001b[39m \u001b[39mself\u001b[39m\u001b[39m.\u001b[39mrelu(\u001b[39mself\u001b[39;49m\u001b[39m.\u001b[39;49mlinear1(y))\n\u001b[1;32m    109\u001b[0m x \u001b[39m=\u001b[39m \u001b[39mself\u001b[39m\u001b[39m.\u001b[39mrelu(\u001b[39mself\u001b[39m\u001b[39m.\u001b[39mlinear2(x))\n",
      "File \u001b[0;32m~/anaconda3/envs/sdm3/lib/python3.9/site-packages/torch/nn/modules/module.py:1190\u001b[0m, in \u001b[0;36mModule._call_impl\u001b[0;34m(self, *input, **kwargs)\u001b[0m\n\u001b[1;32m   1188\u001b[0m \u001b[39mif\u001b[39;00m \u001b[39mnot\u001b[39;00m (\u001b[39mself\u001b[39m\u001b[39m.\u001b[39m_backward_hooks \u001b[39mor\u001b[39;00m \u001b[39mself\u001b[39m\u001b[39m.\u001b[39m_forward_hooks \u001b[39mor\u001b[39;00m \u001b[39mself\u001b[39m\u001b[39m.\u001b[39m_forward_pre_hooks \u001b[39mor\u001b[39;00m _global_backward_hooks\n\u001b[1;32m   1189\u001b[0m         \u001b[39mor\u001b[39;00m _global_forward_hooks \u001b[39mor\u001b[39;00m _global_forward_pre_hooks):\n\u001b[0;32m-> 1190\u001b[0m     \u001b[39mreturn\u001b[39;00m forward_call(\u001b[39m*\u001b[39;49m\u001b[39minput\u001b[39;49m, \u001b[39m*\u001b[39;49m\u001b[39m*\u001b[39;49mkwargs)\n\u001b[1;32m   1191\u001b[0m \u001b[39m# Do not call functions when jit is used\u001b[39;00m\n",
      "Cell \u001b[0;32mIn [12], line 92\u001b[0m, in \u001b[0;36mTensorLinear.forward\u001b[0;34m(self, input)\u001b[0m\n\u001b[1;32m     91\u001b[0m \u001b[39mdef\u001b[39;00m \u001b[39mforward\u001b[39m(\u001b[39mself\u001b[39m, \u001b[39minput\u001b[39m):\n\u001b[0;32m---> 92\u001b[0m     \u001b[39mreturn\u001b[39;00m rmv(\u001b[39mself\u001b[39;49m\u001b[39m.\u001b[39;49mweight, \u001b[39minput\u001b[39;49m) \u001b[39m+\u001b[39m \u001b[39mself\u001b[39m\u001b[39m.\u001b[39mbias\n",
      "File \u001b[0;32m~/anaconda3/envs/sdm3/lib/python3.9/site-packages/pyro/contrib/util.py:44\u001b[0m, in \u001b[0;36mrmv\u001b[0;34m(A, b)\u001b[0m\n\u001b[1;32m     43\u001b[0m \u001b[39m\"\"\"Tensorized matrix vector multiplication of rightmost dimensions.\"\"\"\u001b[39;00m\n\u001b[0;32m---> 44\u001b[0m \u001b[39mreturn\u001b[39;00m torch\u001b[39m.\u001b[39;49mmatmul(A, b\u001b[39m.\u001b[39;49munsqueeze(\u001b[39m-\u001b[39;49m\u001b[39m1\u001b[39;49m))\u001b[39m.\u001b[39msqueeze(\u001b[39m-\u001b[39m\u001b[39m1\u001b[39m)\n",
      "\u001b[0;31mRuntimeError\u001b[0m: The size of tensor a (2) must match the size of tensor b (10) at non-singleton dimension 1",
      "\nThe above exception was the direct cause of the following exception:\n",
      "\u001b[0;31mRuntimeError\u001b[0m                              Traceback (most recent call last)",
      "Cell \u001b[0;32mIn [112], line 1\u001b[0m\n\u001b[0;32m----> 1\u001b[0m reguide_trace \u001b[39m=\u001b[39m poutine\u001b[39m.\u001b[39;49mtrace(\n\u001b[1;32m      2\u001b[0m     pyro\u001b[39m.\u001b[39;49mcondition(guide, data\u001b[39m=\u001b[39;49mtheta_dict))\u001b[39m.\u001b[39;49mget_trace(\n\u001b[1;32m      3\u001b[0m     y_dict, expanded_design, observation_labels, target_labels)\n\u001b[1;32m      4\u001b[0m \u001b[39m# Here's a spot where you could update each model's parameters based on log_prob\u001b[39;00m\n\u001b[1;32m      5\u001b[0m reguide_trace\u001b[39m.\u001b[39mcompute_log_prob()\n",
      "File \u001b[0;32m~/anaconda3/envs/sdm3/lib/python3.9/site-packages/pyro/poutine/trace_messenger.py:198\u001b[0m, in \u001b[0;36mTraceHandler.get_trace\u001b[0;34m(self, *args, **kwargs)\u001b[0m\n\u001b[1;32m    190\u001b[0m \u001b[39mdef\u001b[39;00m \u001b[39mget_trace\u001b[39m(\u001b[39mself\u001b[39m, \u001b[39m*\u001b[39margs, \u001b[39m*\u001b[39m\u001b[39m*\u001b[39mkwargs):\n\u001b[1;32m    191\u001b[0m     \u001b[39m\"\"\"\u001b[39;00m\n\u001b[1;32m    192\u001b[0m \u001b[39m    :returns: data structure\u001b[39;00m\n\u001b[1;32m    193\u001b[0m \u001b[39m    :rtype: pyro.poutine.Trace\u001b[39;00m\n\u001b[0;32m   (...)\u001b[0m\n\u001b[1;32m    196\u001b[0m \u001b[39m    Calls this poutine and returns its trace instead of the function's return value.\u001b[39;00m\n\u001b[1;32m    197\u001b[0m \u001b[39m    \"\"\"\u001b[39;00m\n\u001b[0;32m--> 198\u001b[0m     \u001b[39mself\u001b[39;49m(\u001b[39m*\u001b[39;49margs, \u001b[39m*\u001b[39;49m\u001b[39m*\u001b[39;49mkwargs)\n\u001b[1;32m    199\u001b[0m     \u001b[39mreturn\u001b[39;00m \u001b[39mself\u001b[39m\u001b[39m.\u001b[39mmsngr\u001b[39m.\u001b[39mget_trace()\n",
      "File \u001b[0;32m~/anaconda3/envs/sdm3/lib/python3.9/site-packages/pyro/poutine/trace_messenger.py:180\u001b[0m, in \u001b[0;36mTraceHandler.__call__\u001b[0;34m(self, *args, **kwargs)\u001b[0m\n\u001b[1;32m    178\u001b[0m         exc \u001b[39m=\u001b[39m exc_type(\u001b[39m\"\u001b[39m\u001b[39m{}\u001b[39;00m\u001b[39m\\n\u001b[39;00m\u001b[39m{}\u001b[39;00m\u001b[39m\"\u001b[39m\u001b[39m.\u001b[39mformat(exc_value, shapes))\n\u001b[1;32m    179\u001b[0m         exc \u001b[39m=\u001b[39m exc\u001b[39m.\u001b[39mwith_traceback(traceback)\n\u001b[0;32m--> 180\u001b[0m         \u001b[39mraise\u001b[39;00m exc \u001b[39mfrom\u001b[39;00m \u001b[39me\u001b[39;00m\n\u001b[1;32m    181\u001b[0m     \u001b[39mself\u001b[39m\u001b[39m.\u001b[39mmsngr\u001b[39m.\u001b[39mtrace\u001b[39m.\u001b[39madd_node(\n\u001b[1;32m    182\u001b[0m         \u001b[39m\"\u001b[39m\u001b[39m_RETURN\u001b[39m\u001b[39m\"\u001b[39m, name\u001b[39m=\u001b[39m\u001b[39m\"\u001b[39m\u001b[39m_RETURN\u001b[39m\u001b[39m\"\u001b[39m, \u001b[39mtype\u001b[39m\u001b[39m=\u001b[39m\u001b[39m\"\u001b[39m\u001b[39mreturn\u001b[39m\u001b[39m\"\u001b[39m, value\u001b[39m=\u001b[39mret\n\u001b[1;32m    183\u001b[0m     )\n\u001b[1;32m    184\u001b[0m \u001b[39mreturn\u001b[39;00m ret\n",
      "File \u001b[0;32m~/anaconda3/envs/sdm3/lib/python3.9/site-packages/pyro/poutine/trace_messenger.py:174\u001b[0m, in \u001b[0;36mTraceHandler.__call__\u001b[0;34m(self, *args, **kwargs)\u001b[0m\n\u001b[1;32m    170\u001b[0m \u001b[39mself\u001b[39m\u001b[39m.\u001b[39mmsngr\u001b[39m.\u001b[39mtrace\u001b[39m.\u001b[39madd_node(\n\u001b[1;32m    171\u001b[0m     \u001b[39m\"\u001b[39m\u001b[39m_INPUT\u001b[39m\u001b[39m\"\u001b[39m, name\u001b[39m=\u001b[39m\u001b[39m\"\u001b[39m\u001b[39m_INPUT\u001b[39m\u001b[39m\"\u001b[39m, \u001b[39mtype\u001b[39m\u001b[39m=\u001b[39m\u001b[39m\"\u001b[39m\u001b[39margs\u001b[39m\u001b[39m\"\u001b[39m, args\u001b[39m=\u001b[39margs, kwargs\u001b[39m=\u001b[39mkwargs\n\u001b[1;32m    172\u001b[0m )\n\u001b[1;32m    173\u001b[0m \u001b[39mtry\u001b[39;00m:\n\u001b[0;32m--> 174\u001b[0m     ret \u001b[39m=\u001b[39m \u001b[39mself\u001b[39;49m\u001b[39m.\u001b[39;49mfn(\u001b[39m*\u001b[39;49margs, \u001b[39m*\u001b[39;49m\u001b[39m*\u001b[39;49mkwargs)\n\u001b[1;32m    175\u001b[0m \u001b[39mexcept\u001b[39;00m (\u001b[39mValueError\u001b[39;00m, \u001b[39mRuntimeError\u001b[39;00m) \u001b[39mas\u001b[39;00m e:\n\u001b[1;32m    176\u001b[0m     exc_type, exc_value, traceback \u001b[39m=\u001b[39m sys\u001b[39m.\u001b[39mexc_info()\n",
      "File \u001b[0;32m~/anaconda3/envs/sdm3/lib/python3.9/site-packages/pyro/poutine/messenger.py:12\u001b[0m, in \u001b[0;36m_context_wrap\u001b[0;34m(context, fn, *args, **kwargs)\u001b[0m\n\u001b[1;32m     10\u001b[0m \u001b[39mdef\u001b[39;00m \u001b[39m_context_wrap\u001b[39m(context, fn, \u001b[39m*\u001b[39margs, \u001b[39m*\u001b[39m\u001b[39m*\u001b[39mkwargs):\n\u001b[1;32m     11\u001b[0m     \u001b[39mwith\u001b[39;00m context:\n\u001b[0;32m---> 12\u001b[0m         \u001b[39mreturn\u001b[39;00m fn(\u001b[39m*\u001b[39;49margs, \u001b[39m*\u001b[39;49m\u001b[39m*\u001b[39;49mkwargs)\n",
      "File \u001b[0;32m~/anaconda3/envs/sdm3/lib/python3.9/site-packages/torch/nn/modules/module.py:1190\u001b[0m, in \u001b[0;36mModule._call_impl\u001b[0;34m(self, *input, **kwargs)\u001b[0m\n\u001b[1;32m   1186\u001b[0m \u001b[39m# If we don't have any hooks, we want to skip the rest of the logic in\u001b[39;00m\n\u001b[1;32m   1187\u001b[0m \u001b[39m# this function, and just call forward.\u001b[39;00m\n\u001b[1;32m   1188\u001b[0m \u001b[39mif\u001b[39;00m \u001b[39mnot\u001b[39;00m (\u001b[39mself\u001b[39m\u001b[39m.\u001b[39m_backward_hooks \u001b[39mor\u001b[39;00m \u001b[39mself\u001b[39m\u001b[39m.\u001b[39m_forward_hooks \u001b[39mor\u001b[39;00m \u001b[39mself\u001b[39m\u001b[39m.\u001b[39m_forward_pre_hooks \u001b[39mor\u001b[39;00m _global_backward_hooks\n\u001b[1;32m   1189\u001b[0m         \u001b[39mor\u001b[39;00m _global_forward_hooks \u001b[39mor\u001b[39;00m _global_forward_pre_hooks):\n\u001b[0;32m-> 1190\u001b[0m     \u001b[39mreturn\u001b[39;00m forward_call(\u001b[39m*\u001b[39;49m\u001b[39minput\u001b[39;49m, \u001b[39m*\u001b[39;49m\u001b[39m*\u001b[39;49mkwargs)\n\u001b[1;32m   1191\u001b[0m \u001b[39m# Do not call functions when jit is used\u001b[39;00m\n\u001b[1;32m   1192\u001b[0m full_backward_hooks, non_full_backward_hooks \u001b[39m=\u001b[39m [], []\n",
      "Cell \u001b[0;32mIn [12], line 108\u001b[0m, in \u001b[0;36mPosteriorGuide.forward\u001b[0;34m(self, y_dict, design_prototype, observation_labels, target_labels)\u001b[0m\n\u001b[1;32m    106\u001b[0m \u001b[39mdef\u001b[39;00m \u001b[39mforward\u001b[39m(\u001b[39mself\u001b[39m, y_dict, design_prototype, observation_labels, target_labels):\n\u001b[1;32m    107\u001b[0m     y \u001b[39m=\u001b[39m y_dict[\u001b[39m\"\u001b[39m\u001b[39my\u001b[39m\u001b[39m\"\u001b[39m] \u001b[39m-\u001b[39m \u001b[39m.5\u001b[39m\n\u001b[0;32m--> 108\u001b[0m     x \u001b[39m=\u001b[39m \u001b[39mself\u001b[39m\u001b[39m.\u001b[39mrelu(\u001b[39mself\u001b[39;49m\u001b[39m.\u001b[39;49mlinear1(y))\n\u001b[1;32m    109\u001b[0m     x \u001b[39m=\u001b[39m \u001b[39mself\u001b[39m\u001b[39m.\u001b[39mrelu(\u001b[39mself\u001b[39m\u001b[39m.\u001b[39mlinear2(x))\n\u001b[1;32m    110\u001b[0m     final \u001b[39m=\u001b[39m \u001b[39mself\u001b[39m\u001b[39m.\u001b[39moutput_layer(x)\n",
      "File \u001b[0;32m~/anaconda3/envs/sdm3/lib/python3.9/site-packages/torch/nn/modules/module.py:1190\u001b[0m, in \u001b[0;36mModule._call_impl\u001b[0;34m(self, *input, **kwargs)\u001b[0m\n\u001b[1;32m   1186\u001b[0m \u001b[39m# If we don't have any hooks, we want to skip the rest of the logic in\u001b[39;00m\n\u001b[1;32m   1187\u001b[0m \u001b[39m# this function, and just call forward.\u001b[39;00m\n\u001b[1;32m   1188\u001b[0m \u001b[39mif\u001b[39;00m \u001b[39mnot\u001b[39;00m (\u001b[39mself\u001b[39m\u001b[39m.\u001b[39m_backward_hooks \u001b[39mor\u001b[39;00m \u001b[39mself\u001b[39m\u001b[39m.\u001b[39m_forward_hooks \u001b[39mor\u001b[39;00m \u001b[39mself\u001b[39m\u001b[39m.\u001b[39m_forward_pre_hooks \u001b[39mor\u001b[39;00m _global_backward_hooks\n\u001b[1;32m   1189\u001b[0m         \u001b[39mor\u001b[39;00m _global_forward_hooks \u001b[39mor\u001b[39;00m _global_forward_pre_hooks):\n\u001b[0;32m-> 1190\u001b[0m     \u001b[39mreturn\u001b[39;00m forward_call(\u001b[39m*\u001b[39;49m\u001b[39minput\u001b[39;49m, \u001b[39m*\u001b[39;49m\u001b[39m*\u001b[39;49mkwargs)\n\u001b[1;32m   1191\u001b[0m \u001b[39m# Do not call functions when jit is used\u001b[39;00m\n\u001b[1;32m   1192\u001b[0m full_backward_hooks, non_full_backward_hooks \u001b[39m=\u001b[39m [], []\n",
      "Cell \u001b[0;32mIn [12], line 92\u001b[0m, in \u001b[0;36mTensorLinear.forward\u001b[0;34m(self, input)\u001b[0m\n\u001b[1;32m     91\u001b[0m \u001b[39mdef\u001b[39;00m \u001b[39mforward\u001b[39m(\u001b[39mself\u001b[39m, \u001b[39minput\u001b[39m):\n\u001b[0;32m---> 92\u001b[0m     \u001b[39mreturn\u001b[39;00m rmv(\u001b[39mself\u001b[39;49m\u001b[39m.\u001b[39;49mweight, \u001b[39minput\u001b[39;49m) \u001b[39m+\u001b[39m \u001b[39mself\u001b[39m\u001b[39m.\u001b[39mbias\n",
      "File \u001b[0;32m~/anaconda3/envs/sdm3/lib/python3.9/site-packages/pyro/contrib/util.py:44\u001b[0m, in \u001b[0;36mrmv\u001b[0;34m(A, b)\u001b[0m\n\u001b[1;32m     42\u001b[0m \u001b[39mdef\u001b[39;00m \u001b[39mrmv\u001b[39m(A, b):\n\u001b[1;32m     43\u001b[0m     \u001b[39m\"\"\"Tensorized matrix vector multiplication of rightmost dimensions.\"\"\"\u001b[39;00m\n\u001b[0;32m---> 44\u001b[0m     \u001b[39mreturn\u001b[39;00m torch\u001b[39m.\u001b[39;49mmatmul(A, b\u001b[39m.\u001b[39;49munsqueeze(\u001b[39m-\u001b[39;49m\u001b[39m1\u001b[39;49m))\u001b[39m.\u001b[39msqueeze(\u001b[39m-\u001b[39m\u001b[39m1\u001b[39m)\n",
      "\u001b[0;31mRuntimeError\u001b[0m: The size of tensor a (2) must match the size of tensor b (10) at non-singleton dimension 1\nTrace Shapes:\n Param Sites:\nSample Sites:"
     ]
    }
   ],
   "source": [
    "reguide_trace = poutine.trace(\n",
    "    pyro.condition(guide, data=theta_dict)).get_trace(\n",
    "    y_dict, expanded_design, observation_labels, target_labels)\n",
    "# Here's a spot where you could update each model's parameters based on log_prob\n",
    "reguide_trace.compute_log_prob()\n",
    "marginal_terms_cross -= sum(reguide_trace.nodes[l][\"log_prob\"] for l in target_labels)\n",
    "marginal_terms_cross"
   ]
  },
  {
   "cell_type": "code",
   "execution_count": null,
   "metadata": {},
   "outputs": [],
   "source": []
  },
  {
   "cell_type": "code",
   "execution_count": null,
   "metadata": {},
   "outputs": [],
   "source": []
  },
  {
   "cell_type": "code",
   "execution_count": null,
   "metadata": {},
   "outputs": [],
   "source": [
    "trace = poutine.trace(model).get_trace(expanded_design)\n",
    "y_dict_exp = {l: lexpand(trace.nodes[l][\"value\"], M) for l in observation_labels}\n",
    "y_dict = {l: trace.nodes[l][\"value\"] for l in observation_labels}\n",
    "theta_dict = {l: trace.nodes[l][\"value\"] for l in target_labels}\n",
    "\n",
    "trace.compute_log_prob()\n",
    "marginal_terms_cross = sum(trace.nodes[l][\"log_prob\"] for l in target_labels)\n",
    "marginal_terms_cross += sum(trace.nodes[l][\"log_prob\"] for l in observation_labels)\n",
    "\n",
    "reguide_trace = poutine.trace(\n",
    "    pyro.condition(guide, data=theta_dict)).get_trace(\n",
    "    y_dict, expanded_design, observation_labels, target_labels)\n",
    "# Here's a spot where you could update each model's parameters based on log_prob\n",
    "reguide_trace.compute_log_prob()\n",
    "marginal_terms_cross -= sum(reguide_trace.nodes[l][\"log_prob\"] for l in target_labels)\n",
    "\n",
    "# Sample M times from q(theta | y, d) for each y\n",
    "reexpanded_design = lexpand(expanded_design, M)\n",
    "guide_trace = poutine.trace(guide).get_trace(\n",
    "    y_dict, reexpanded_design, observation_labels, target_labels\n",
    ")\n",
    "theta_y_dict = {l: guide_trace.nodes[l][\"value\"] for l in target_labels}\n",
    "theta_y_dict.update(y_dict_exp)\n",
    "guide_trace.compute_log_prob()\n",
    "\n",
    "# Re-run that through the model to compute the joint\n",
    "model_trace = poutine.trace(\n",
    "pyro.condition(model, data=theta_y_dict)).get_trace(reexpanded_design)\n",
    "model_trace.compute_log_prob()\n",
    "\n",
    "marginal_terms_proposal = -sum(guide_trace.nodes[l][\"log_prob\"] for l in target_labels)\n",
    "marginal_terms_proposal += sum(model_trace.nodes[l][\"log_prob\"] for l in target_labels)\n",
    "marginal_terms_proposal += sum(model_trace.nodes[l][\"log_prob\"] for l in observation_labels)\n",
    "\n",
    "marginal_terms = torch.cat([lexpand(marginal_terms_cross, 1), marginal_terms_proposal])\n",
    "terms = -marginal_terms.logsumexp(0) + math.log(M + 1)\n",
    "\n",
    "# At eval time, add p(y | theta, d) terms\n",
    "# if evaluation:\n",
    "terms += sum(trace.nodes[l][\"log_prob\"] for l in observation_labels)\n",
    "# breakpoint()\n",
    "_safe_mean_terms(terms)\n"
   ]
  },
  {
   "cell_type": "code",
   "execution_count": null,
   "metadata": {},
   "outputs": [],
   "source": []
  },
  {
   "cell_type": "code",
   "execution_count": null,
   "metadata": {},
   "outputs": [],
   "source": []
  },
  {
   "cell_type": "code",
   "execution_count": null,
   "metadata": {},
   "outputs": [],
   "source": []
  },
  {
   "cell_type": "code",
   "execution_count": null,
   "metadata": {},
   "outputs": [],
   "source": []
  },
  {
   "cell_type": "code",
   "execution_count": null,
   "metadata": {},
   "outputs": [],
   "source": []
  },
  {
   "cell_type": "code",
   "execution_count": null,
   "metadata": {},
   "outputs": [],
   "source": []
  },
  {
   "cell_type": "code",
   "execution_count": null,
   "metadata": {},
   "outputs": [],
   "source": []
  }
 ],
 "metadata": {
  "kernelspec": {
   "display_name": "Python 3.9.13 ('sdm3')",
   "language": "python",
   "name": "python3"
  },
  "language_info": {
   "codemirror_mode": {
    "name": "ipython",
    "version": 3
   },
   "file_extension": ".py",
   "mimetype": "text/x-python",
   "name": "python",
   "nbconvert_exporter": "python",
   "pygments_lexer": "ipython3",
   "version": "3.9.13"
  },
  "orig_nbformat": 4,
  "vscode": {
   "interpreter": {
    "hash": "32bac022e209f3f8f811ac02bf6d6b971751e1ab224096f1893a92a620959b98"
   }
  }
 },
 "nbformat": 4,
 "nbformat_minor": 2
}
