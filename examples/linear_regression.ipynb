{
 "cells": [
  {
   "cell_type": "code",
   "execution_count": 1,
   "metadata": {},
   "outputs": [],
   "source": [
    "# from omegaconf import DictConfig, OmegaConf\n",
    "# import hydra\n",
    "from collections import deque\n",
    "import math\n",
    "import matplotlib.pyplot as plt\n",
    "\n",
    "import jax\n",
    "import jax.numpy as jnp\n",
    "import jax.lax as lax\n",
    "import jax.random as jrandom\n",
    "# from jax.test_util import check_grads\n",
    "\n",
    "import numpy as np\n",
    "from functools import partial\n",
    "import optax\n",
    "import distrax\n",
    "import haiku as hk\n",
    "\n",
    "import tensorflow as tf\n",
    "import tensorflow_datasets as tfds\n",
    "\n",
    "from lfiax.flows.nsf import make_nsf\n",
    "\n",
    "from typing import (\n",
    "    Any,\n",
    "    Iterator,\n",
    "    Mapping,\n",
    "    Optional,\n",
    "    Tuple,\n",
    "    Callable,\n",
    ")\n",
    "\n",
    "Array = jnp.ndarray\n",
    "PRNGKey = Array\n",
    "Batch = Mapping[str, np.ndarray]\n",
    "OptState = Any\n",
    "\n",
    "\n",
    "def jax_lexpand(A, *dimensions):\n",
    "    \"\"\"Expand tensor, adding new dimensions on left.\"\"\"\n",
    "    if jnp.isscalar(A):\n",
    "        A = A * jnp.ones(dimensions)\n",
    "        return A\n",
    "    shape = tuple(dimensions) + A.shape\n",
    "    A = A[jnp.newaxis, ...]\n",
    "    A = jnp.broadcast_to(A, shape)\n",
    "    return A\n",
    "\n",
    "# ----------------------------------------\n",
    "# Prior simulators\n",
    "# ----------------------------------------\n",
    "def sim_linear_prior(num_samples: int, key: PRNGKey):\n",
    "    \"\"\"\n",
    "    Simulate prior samples and return their log_prob.\n",
    "    \"\"\"\n",
    "    theta_shape = (2,)\n",
    "\n",
    "    mu = jnp.zeros(theta_shape)\n",
    "    sigma = (3**2) * jnp.ones(theta_shape)\n",
    "\n",
    "    base_distribution = distrax.Independent(\n",
    "        distrax.MultivariateNormalDiag(mu, sigma)\n",
    "    )\n",
    "\n",
    "    samples, log_prob = base_distribution.sample_and_log_prob(seed=key, sample_shape=[num_samples])\n",
    "\n",
    "    return samples, log_prob\n",
    "\n",
    "# ----------------------------------------\n",
    "# Likelihood simulators\n",
    "# ----------------------------------------\n",
    "def sim_linear_jax(d: Array, priors: Array, key: PRNGKey):\n",
    "    \"\"\"\n",
    "    Simulate linear model with normal and gamma noise, from Kleinegesse et al. 2020.\n",
    "    \"\"\"\n",
    "    # Keys for the appropriate functions\n",
    "    keys = jrandom.split(key, 3)\n",
    "\n",
    "    # sample random normal dist\n",
    "    noise_shape = (1,)\n",
    "\n",
    "    mu_noise = jnp.zeros(noise_shape)\n",
    "    sigma_noise = jnp.ones(noise_shape)\n",
    "\n",
    "    n_n = distrax.Independent(\n",
    "        distrax.MultivariateNormalDiag(mu_noise, sigma_noise)\n",
    "    ).sample(seed=keys[0], sample_shape=[len(d), len(priors)])\n",
    "\n",
    "    # sample random gamma noise\n",
    "    n_g = distrax.Gamma(2.0, 1.0 / 2.0).sample(\n",
    "        seed=keys[1], sample_shape=[len(d), len(priors)]\n",
    "    )\n",
    "\n",
    "    # perform forward pass\n",
    "    y = jnp.broadcast_to(priors[:, 0], (len(d), len(priors)))\n",
    "    y = y + jnp.expand_dims(d, 1) @ jnp.expand_dims(priors[:, 1], 0)\n",
    "    y = y + n_g + jnp.squeeze(n_n)\n",
    "    ygrads = priors[:, 1]\n",
    "\n",
    "    return y, ygrads\n",
    "\n",
    "\n",
    "def sim_linear_jax_laplace(d: Array, priors: Array, key: PRNGKey):\n",
    "    \"\"\"\n",
    "    Sim linear laplace prior regression model.\n",
    "\n",
    "    Returns: \n",
    "        y: scalar value, or, array of scalars.\n",
    "    \"\"\"\n",
    "    # Keys for the appropriate functions\n",
    "    keys = jrandom.split(key, 3)\n",
    "\n",
    "    # sample random normal dist\n",
    "    noise_shape = (1,)\n",
    "\n",
    "    concentration = jnp.ones(noise_shape)\n",
    "    rate = jnp.ones(noise_shape)\n",
    "\n",
    "    n_n = distrax.Gamma(concentration, rate).sample(seed=keys[0], sample_shape=[len(d), len(priors)])\n",
    "\n",
    "    # perform forward pass\n",
    "    y = jnp.broadcast_to(priors[:, 0], (len(d), len(priors)))\n",
    "    y = distrax.MultivariateNormalDiag(y, jnp.squeeze(n_n)).sample(seed=keys[1], sample_shape=())\n",
    "\n",
    "    return y\n",
    "\n",
    "\n",
    "def sim_data_laplace(d: Array, priors: Array, key: PRNGKey):\n",
    "    \"\"\"\n",
    "    Returns data in a format suitable for normalizing flow training.\n",
    "    Data will be in shape [y, thetas]. The `y` variable can vary in size.\n",
    "    Uses `sim_linear_jax_laplace` function.\n",
    "    \"\"\"\n",
    "    keys = jrandom.split(key, 2)\n",
    "    theta_shape = (1,)\n",
    "\n",
    "    loc = jnp.zeros(theta_shape)\n",
    "    scale = jnp.ones(theta_shape)\n",
    "\n",
    "    # Leaving in case this fixes future dimensionality issues\n",
    "    # base_distribution = distrax.Independent(\n",
    "    #     distrax.Laplace(loc, scale)\n",
    "    # )\n",
    "    base_distribution = distrax.Laplace(loc, scale)\n",
    "\n",
    "    priors = base_distribution.sample(seed=keys[0], sample_shape=[num_samples])\n",
    "\n",
    "    y = sim_linear_jax_laplace(d, priors, keys[1])\n",
    "\n",
    "    return jnp.column_stack(\n",
    "        (y.T, jnp.squeeze(priors), jnp.broadcast_to(d, (num_samples, len(d))))\n",
    "    )\n",
    "\n",
    "\n",
    "def sim_data(d: Array, num_samples: Array, key: PRNGKey):\n",
    "    \"\"\"\n",
    "    Returns data in a format suitable for normalizing flow training.\n",
    "    Data will be in shape [y, thetas]. The `y` variable can vary in size.\n",
    "    \"\"\"\n",
    "    keys = jrandom.split(key, 2)\n",
    "\n",
    "    theta_shape = (2,)\n",
    "\n",
    "    mu = jnp.zeros(theta_shape)\n",
    "    sigma = (3**2) * jnp.ones(theta_shape)\n",
    "\n",
    "    base_distribution = distrax.Independent(  # Should this be independent?\n",
    "        distrax.MultivariateNormalDiag(mu, sigma)\n",
    "    )\n",
    "\n",
    "    priors = base_distribution.sample(seed=keys[0], sample_shape=[num_samples])\n",
    "\n",
    "    # ygrads allows to be compared to other implementations (Kleinegesse et)\n",
    "    y, ygrads = sim_linear_jax(d, priors, keys[1])\n",
    "\n",
    "    return jnp.column_stack(\n",
    "        (y.T, jnp.squeeze(priors), jnp.broadcast_to(d, (num_samples, len(d))))\n",
    "    )\n",
    "\n",
    "\n",
    "# ----------------------------------------\n",
    "# Helper functions to simulate data\n",
    "# ----------------------------------------\n",
    "def load_dataset(split: tfds.Split, batch_size: int) -> Iterator[Batch]:\n",
    "    ds = split\n",
    "    ds = ds.shuffle(buffer_size=10 * batch_size)\n",
    "    ds = ds.batch(batch_size)\n",
    "    ds = ds.prefetch(buffer_size=1000)\n",
    "    ds = ds.repeat()\n",
    "    return iter(tfds.as_numpy(ds))\n",
    "\n",
    "\n",
    "def prepare_data(batch: Batch, prng_key: Optional[PRNGKey] = None) -> Array:\n",
    "    # Batch is [y, thetas, d]\n",
    "    data = batch.astype(np.float32)\n",
    "    x = data[:, :len_x]\n",
    "    cond_data = data[:, len_x:]\n",
    "    theta = cond_data[:, :-len_x]\n",
    "    d = cond_data[:, -len_x:-len_xi]\n",
    "    xi = cond_data[:, -len_xi:]\n",
    "    return x, theta, d, xi\n",
    "\n",
    "\n",
    "# ----------------------------\n",
    "# Haiku transform functions for training and evaluation\n",
    "# ----------------------------\n",
    "@hk.without_apply_rng\n",
    "@hk.transform\n",
    "def log_prob(data: Array, theta: Array, xi: Array) -> Array:\n",
    "    # Get batch\n",
    "    shift = data.mean(axis=0)\n",
    "    scale = data.std(axis=0) + 1e-14\n",
    "\n",
    "    model = make_nsf(\n",
    "        event_shape=EVENT_SHAPE,\n",
    "        num_layers=flow_num_layers,\n",
    "        hidden_sizes=[hidden_size] * mlp_num_layers,\n",
    "        num_bins=num_bins,\n",
    "        standardize_x=True,\n",
    "        standardize_theta=False,\n",
    "        use_resnet=True,\n",
    "        event_dim=EVENT_DIM,\n",
    "        shift=shift,\n",
    "        scale=scale,\n",
    "    )\n",
    "    return model.log_prob(data, theta, xi)\n",
    "\n",
    "\n",
    "@hk.without_apply_rng\n",
    "@hk.transform\n",
    "def model_sample(key: PRNGKey, num_samples: int, theta: Array, xi: Array) -> Array:\n",
    "    model = make_nsf(\n",
    "        event_shape=EVENT_SHAPE,\n",
    "        num_layers=flow_num_layers,\n",
    "        hidden_sizes=[hidden_size] * mlp_num_layers,\n",
    "        num_bins=num_bins,\n",
    "        standardize_x=False,\n",
    "        standardize_theta=False,\n",
    "        use_resnet=True,\n",
    "        event_dim=EVENT_DIM,\n",
    "    )\n",
    "    return model._sample_n(key=key, n=[num_samples], theta=theta, xi=xi)\n",
    "\n",
    "\n",
    "def loss_fn(\n",
    "    params: hk.Params, prng_key: PRNGKey, x: Array, theta: Array, d: Array, xi: Array\n",
    ") -> Array:\n",
    "    loss = -jnp.mean(log_prob.apply(params, x, theta, d, xi))\n",
    "    return loss\n",
    "\n",
    "\n",
    "@jax.jit\n",
    "def eval_fn(params: hk.Params, batch: Batch) -> Array:\n",
    "    x, theta, d, xi = prepare_data(batch)\n",
    "    loss = -jnp.mean(log_prob.apply(params, x, theta, xi))\n",
    "    return loss\n",
    "\n",
    "\n",
    "def unified_loss_fn(\n",
    "    params: hk.Params, prng_key: PRNGKey, x: Array, theta: Array\n",
    ") -> Array:\n",
    "    xi = jnp.asarray(params['xi'])\n",
    "    xi = jnp.broadcast_to(xi, (len(x), len(xi)))\n",
    "    flow_params = {k: v for k, v in params.items() if k != 'xi'}\n",
    "    \n",
    "    # Loss is average negative log likelihood.\n",
    "    loss = -jnp.mean(log_prob.apply(flow_params, x, theta, xi))\n",
    "    return loss\n",
    "\n",
    "@jax.jit\n",
    "def update(\n",
    "    params: hk.Params, prng_key: PRNGKey, opt_state: OptState, batch: Batch\n",
    ") -> Tuple[hk.Params, OptState]:\n",
    "    \"\"\"Single SGD update step.\"\"\"\n",
    "    x, theta, d, xi = prepare_data(batch)\n",
    "    # Note that `xi` is passed as a parameter to be updated during optimization\n",
    "    grads = jax.grad(unified_loss_fn)(params, prng_key, x, theta)\n",
    "    updates, new_opt_state = optimizer.update(grads, opt_state)\n",
    "    new_params = optax.apply_updates(params, updates)\n",
    "    return new_params, new_opt_state\n",
    "\n",
    "\n",
    "def lfi_pce_eig(params: hk.Params, prng_key: PRNGKey, N: int=100, M: int=10, **kwargs):\n",
    "    keys = jrandom.split(prng_key, 3 + M)\n",
    "    xi = params['xi']\n",
    "    flow_params = {k: v for k, v in params.items() if k != 'xi'}\n",
    "\n",
    "    # simulate the outcomes before finding their log_probs\n",
    "    X = sim_data(d_sim, num_samples, keys[0])  # Do I need to split up the prng_key?\n",
    "\n",
    "    # I'm implicitly returning the prior here, that's a little annoying...\n",
    "    x, theta_0, d, xi = prepare_data(X)  # TODO: Maybe refactor this?\n",
    "\n",
    "    conditional_lp = log_prob.apply(flow_params, x, theta_0, d, xi)\n",
    "\n",
    "    contrastive_lps = []\n",
    "    thetas = []\n",
    "    for i in range(M):\n",
    "        theta, _ = sim_linear_prior(num_samples, keys[i + 1])\n",
    "        thetas.append(theta)\n",
    "        contrastive_lp = log_prob.apply(flow_params, x, theta, d, xi)\n",
    "        contrastive_lps.append(contrastive_lp)\n",
    "\n",
    "    marginal_log_prbs = jnp.concatenate((jax_lexpand(conditional_lp, 1), jnp.array(contrastive_lps)))\n",
    "\n",
    "    marginal_lp = jax.nn.logsumexp(marginal_log_prbs, 0) - math.log(M + 1)\n",
    "\n",
    "    return - sum(conditional_lp - marginal_lp) - jnp.mean(conditional_lp)\n",
    "\n",
    "\n",
    "@jax.jit\n",
    "def update_pce(\n",
    "    params: hk.Params, prng_key: PRNGKey, opt_state: OptState, N: int, M: int\n",
    ") -> Tuple[hk.Params, OptState]:\n",
    "    \"\"\"Single SGD update step.\"\"\"\n",
    "    grads = jax.grad(lfi_pce_eig)(params, prng_key, N=num_samples, M=inner_samples)\n",
    "    updates, new_opt_state = optimizer.update(grads, opt_state)\n",
    "    new_params = optax.apply_updates(params, updates)\n",
    "    return new_params, new_opt_state"
   ]
  },
  {
   "cell_type": "code",
   "execution_count": 3,
   "metadata": {},
   "outputs": [
    {
     "name": "stdout",
     "output_type": "stream",
     "text": [
      "STEP:     0; Xi: [0.]\n",
      "STEP:     0; Validation loss: 3.609\n",
      "STEP:     1; Xi: [7.441119e-05]\n"
     ]
    }
   ],
   "source": [
    "seed = 1231\n",
    "M = 3\n",
    "key = jrandom.PRNGKey(seed)\n",
    "\n",
    "# d = jnp.array([1.])\n",
    "d = jnp.array([])\n",
    "xi = jnp.array([0.])\n",
    "d_sim = jnp.concatenate((d, xi), axis=0)\n",
    "\n",
    "# Params and hyperparams\n",
    "len_x = len(d_sim)\n",
    "len_d = len(d)\n",
    "len_xi = len(xi)\n",
    "\n",
    "theta_shape = (2,)\n",
    "d_shape = (len(d),)\n",
    "xi_shape = (len_xi,)\n",
    "EVENT_SHAPE = (len(d_sim),)\n",
    "# EVENT_DIM is important for the normalizing flow's block.\n",
    "EVENT_DIM = 1\n",
    "\n",
    "num_samples = 2\n",
    "inner_samples = 10 # AKA M or L in BOED parlance\n",
    "batch_size = 128\n",
    "flow_num_layers = 1 # 5 #3 # 10\n",
    "mlp_num_layers = 1 # 3 # 4\n",
    "hidden_size = 128 # 500\n",
    "num_bins = 4\n",
    "learning_rate = 1e-4\n",
    "warmup_steps = 10\n",
    "early_stopping_memory = 10\n",
    "early_stopping_threshold = 5e-2\n",
    "\n",
    "training_steps = 2\n",
    "eval_frequency = 5\n",
    "\n",
    "# Initialize the params\n",
    "prng_seq = hk.PRNGSequence(42)  # TODO: Put one of \"keys\" here?\n",
    "params = log_prob.init(\n",
    "    next(prng_seq),\n",
    "    np.zeros((1, *EVENT_SHAPE)),\n",
    "    np.zeros((1, *theta_shape)),\n",
    "    np.zeros((1, *xi_shape)),\n",
    ")\n",
    "params['xi'] = xi\n",
    "\n",
    "optimizer = optax.adam(learning_rate)\n",
    "\n",
    "opt_state = optimizer.init(params)\n",
    "\n",
    "# TODO: put this function in training since d will be changing.\n",
    "X_samples = 512*20\n",
    "X = sim_data(d_sim, X_samples, key)\n",
    "\n",
    "shift = X.mean(axis=0)\n",
    "scale = X.std(axis=0) + 1e-14\n",
    "\n",
    "# Create tf dataset from sklearn dataset\n",
    "dataset = tf.data.Dataset.from_tensor_slices(X)\n",
    "\n",
    "# Splitting into train/validate ds\n",
    "train = dataset.skip(2000)\n",
    "val = dataset.take(2000)\n",
    "\n",
    "# load_dataset(split: tfds.Split, batch_size: int)\n",
    "train_ds = load_dataset(train, 512)\n",
    "valid_ds = load_dataset(val, 512)\n",
    "\n",
    "loss_deque = deque(maxlen=early_stopping_memory)\n",
    "for step in range(training_steps):\n",
    "    # params, opt_state = update_pce(\n",
    "    #     params, next(prng_seq), opt_state, N=num_samples, M=M\n",
    "    # )\n",
    "    params, opt_state = update(\n",
    "        params, next(prng_seq), opt_state, next(train_ds)\n",
    "    )\n",
    "\n",
    "    print(f\"STEP: {step:5d}; Xi: {params['xi']}\")\n",
    "    if step % eval_frequency == 0:\n",
    "        val_loss = eval_fn(params, next(valid_ds))\n",
    "        print(f\"STEP: {step:5d}; Validation loss: {val_loss:.3f}\")\n",
    "    \n",
    "        loss_deque.append(val_loss)\n",
    "        avg_abs_diff = jnp.mean(abs(jnp.array(loss_deque) - sum(loss_deque)/len(loss_deque)))\n",
    "        if step > warmup_steps and avg_abs_diff < early_stopping_threshold:\n",
    "            break\n"
   ]
  },
  {
   "attachments": {},
   "cell_type": "markdown",
   "metadata": {},
   "source": [
    "Doing it manually."
   ]
  },
  {
   "cell_type": "code",
   "execution_count": 6,
   "metadata": {},
   "outputs": [],
   "source": [
    "prng_seq = hk.PRNGSequence(42)  # TODO: Put one of \"keys\" here?\n",
    "params = log_prob.init(\n",
    "    next(prng_seq),\n",
    "    np.zeros((1, *EVENT_SHAPE)),\n",
    "    np.zeros((1, *theta_shape)),\n",
    "    np.zeros((1, *xi_shape)),\n",
    ")\n",
    "params['xi'] = xi\n",
    "\n",
    "optimizer = optax.adam(learning_rate)\n",
    "\n",
    "opt_state = optimizer.init(params)"
   ]
  },
  {
   "cell_type": "code",
   "execution_count": 9,
   "metadata": {},
   "outputs": [
    {
     "name": "stdout",
     "output_type": "stream",
     "text": [
      "[7.4411095e-05]\n",
      "[0.00015835]\n"
     ]
    }
   ],
   "source": [
    "print(params['xi'])\n",
    "params, opt_state = update(\n",
    "        params, next(prng_seq), opt_state, next(train_ds)\n",
    "    )\n",
    "print(params['xi'])"
   ]
  },
  {
   "attachments": {},
   "cell_type": "markdown",
   "metadata": {},
   "source": [
    "## Testing out new `sim_data` function\n",
    "Want to `vmap` it."
   ]
  },
  {
   "cell_type": "code",
   "execution_count": 4,
   "metadata": {},
   "outputs": [],
   "source": [
    "from functools import partial\n",
    "\n",
    "\n",
    "@partial(jax.jit, static_argnums=1)\n",
    "def sim_linear_data_vmap(d: Array, num_samples: Array, key: PRNGKey):\n",
    "    \"\"\"\n",
    "    Returns data in a format suitable for normalizing flow training.\n",
    "    Data will be in shape (y, thetas, d). The `y` variable can vary in size.\n",
    "    Has a fixed prior.\n",
    "    \"\"\"\n",
    "    keys = jrandom.split(key, 3)\n",
    "\n",
    "    # Simulating the priors\n",
    "    theta_shape = (2,)\n",
    "\n",
    "    mu = jnp.zeros(theta_shape)\n",
    "    sigma = (3**2) * jnp.ones(theta_shape)\n",
    "\n",
    "    base_distribution = distrax.Independent(  # Should this be independent?\n",
    "        distrax.MultivariateNormalDiag(mu, sigma)\n",
    "    )\n",
    "\n",
    "    priors = base_distribution.sample(seed=keys[0], sample_shape=[num_samples])\n",
    "\n",
    "    # Simulating noise and response\n",
    "    noise_shape = (1,)\n",
    "\n",
    "    mu_noise = jnp.zeros(noise_shape)\n",
    "    sigma_noise = jnp.ones(noise_shape)\n",
    "\n",
    "    n_n = distrax.Independent(\n",
    "        distrax.MultivariateNormalDiag(mu_noise, sigma_noise)\n",
    "    ).sample(seed=keys[1], sample_shape=[len(d), len(priors)])\n",
    "\n",
    "    # sample random gamma noise\n",
    "    n_g = distrax.Gamma(2.0, 0.5).sample(\n",
    "        seed=keys[2], sample_shape=[len(d), len(priors)]\n",
    "    )\n",
    "\n",
    "    # perform forward pass\n",
    "    y = jax.vmap(partial(jnp.dot, priors[:, 0]))(d)\n",
    "    y = jax.vmap(partial(jnp.add, priors[:, 1]))(y) + n_g + jnp.squeeze(n_n)\n",
    "    ygrads = priors[:, 1]\n",
    "\n",
    "    return y.T, jnp.squeeze(priors)\n",
    "\n",
    "\n",
    "@partial(jax.jit, static_argnums=0)\n",
    "def sim_linear_prior(num_samples: int, key: PRNGKey):\n",
    "    \"\"\"\n",
    "    Simulate prior samples and return their log_prob.\n",
    "    \"\"\"\n",
    "    theta_shape = (2,)\n",
    "\n",
    "    mu = jnp.zeros(theta_shape)\n",
    "    sigma = (3**2) * jnp.ones(theta_shape)\n",
    "\n",
    "    base_distribution = distrax.Independent(\n",
    "        distrax.MultivariateNormalDiag(mu, sigma)\n",
    "    )\n",
    "\n",
    "    samples, log_prob = base_distribution.sample_and_log_prob(seed=key, sample_shape=[num_samples])\n",
    "\n",
    "    return samples, log_prob"
   ]
  },
  {
   "attachments": {},
   "cell_type": "markdown",
   "metadata": {},
   "source": [
    "# Making PCE loss with new simulator function\n",
    "Now that I have a simulator that's a little more efficient, can plug that in with the PCE loss to see how training it works.\n",
    "1. Want to do a test to make sure the log probs are working.\n",
    "2. Run 10 training steps and profile its performance."
   ]
  },
  {
   "attachments": {},
   "cell_type": "markdown",
   "metadata": {},
   "source": [
    "Works. Before moving on to creating a new `update` function and incorporating the new loss function... I should check to see that the encapsulated loss function is able to get a single loss and gradients w.r.t. all of the appropriate parameters. "
   ]
  },
  {
   "cell_type": "code",
   "execution_count": 88,
   "metadata": {},
   "outputs": [],
   "source": [
    "import jax.lax as lax\n",
    "\n",
    "@partial(jax.jit, static_argnums=[2,4,5])\n",
    "def lfi_pce_eig_scan(\n",
    "    params: hk.Params, prng_key: PRNGKey, log_prob_fun: Callable, designs: Array, N: int=100, M: int=10,):\n",
    "    def compute_marginal_lp3(keys, log_prob_fun, M, num_samples, x, conditional_lp):\n",
    "        def scan_fun(contrastive_lps, i):\n",
    "            theta, _ = sim_linear_prior(N, keys[i + 1])\n",
    "            contrastive_lp = log_prob_fun(flow_params, x, theta, xi)\n",
    "            contrastive_lps += jnp.exp(contrastive_lp)\n",
    "            return contrastive_lps, i + 1\n",
    "        result = jax.lax.scan(scan_fun, conditional_lp, jnp.array(range(M)))\n",
    "        return jnp.log(result[0])\n",
    "    keys = jrandom.split(prng_key, 3 + M)\n",
    "    xi = jnp.asarray(params['xi'])\n",
    "    xi = jnp.broadcast_to(xi, (N, len(xi)))\n",
    "    flow_params = {k: v for k, v in params.items() if k != 'xi'}\n",
    "    # xi = params['xi']\n",
    "    # flow_params = {k: v for k, v in params.items() if k != 'xi'}\n",
    "\n",
    "    # simulate the outcomes before finding their log_probs\n",
    "    x, theta_0 = sim_linear_data_vmap(d_sim, N, keys[0])\n",
    "    # xi_broadcast = jnp.broadcast_to(xi, (N, len(xi)))\n",
    "    \n",
    "    conditional_lp = log_prob_fun(flow_params, x, theta_0, xi)\n",
    "    conditional_lp_exp = jnp.exp(conditional_lp)\n",
    "    marginal_lp = compute_marginal_lp3(keys[1:M+1], log_prob_fun, M, N, x, conditional_lp_exp)\n",
    "    return - sum(conditional_lp - marginal_lp) - jnp.mean(conditional_lp)\n",
    "\n",
    "\n",
    "@partial(jax.jit, static_argnums=[3,4])\n",
    "def update_pce(\n",
    "    params: hk.Params, prng_key: PRNGKey, opt_state: OptState, N: int, M: int, designs: Array,\n",
    ") -> Tuple[hk.Params, OptState]:\n",
    "    \"\"\"Single SGD update step.\"\"\"\n",
    "    # xi_broadcast = jnp.broadcast_to(params[\"xi\"], (N, len(xi)))\n",
    "    log_prob_fun = lambda params, x, theta, xi: log_prob.apply(\n",
    "        params, x, theta, xi)\n",
    "    # Bingo. This is where to change data generation process\n",
    "    # params_values = tuple(params[key] for key in params)\n",
    "    # flow_params = {k: v for k, v in params.items() if k != 'xi'}\n",
    "    loss, grads = jax.value_and_grad(lfi_pce_eig_scan)(\n",
    "        params, prng_key, log_prob_fun, designs, N=N, M=M)\n",
    "    updates, new_opt_state = optimizer.update(grads, opt_state)\n",
    "    new_params = optax.apply_updates(params, updates)\n",
    "    return new_params, new_opt_state, loss, grads['xi']"
   ]
  },
  {
   "cell_type": "code",
   "execution_count": 89,
   "metadata": {},
   "outputs": [],
   "source": [
    "prng_seq = hk.PRNGSequence(42)\n",
    "params = log_prob.init(\n",
    "    next(prng_seq),\n",
    "    np.zeros((1, *EVENT_SHAPE)),\n",
    "    np.zeros((1, *theta_shape)),\n",
    "    np.zeros((1, *xi_shape)),\n",
    ")\n",
    "params['xi'] = xi\n",
    "\n",
    "optimizer = optax.adam(learning_rate)\n",
    "\n",
    "opt_state = optimizer.init(params)"
   ]
  },
  {
   "cell_type": "code",
   "execution_count": 94,
   "metadata": {},
   "outputs": [
    {
     "name": "stdout",
     "output_type": "stream",
     "text": [
      "[7.44129e-05]\n",
      "[0.00015999]\n"
     ]
    }
   ],
   "source": [
    "N = 100\n",
    "M = 10\n",
    "print(params['xi'])\n",
    "params, opt_state, loss, xi_grads = update_pce(\n",
    "        params, next(prng_seq), opt_state, N, M, designs = d_sim\n",
    "    )\n",
    "print(params['xi'])"
   ]
  },
  {
   "cell_type": "code",
   "execution_count": 95,
   "metadata": {},
   "outputs": [
    {
     "data": {
      "text/plain": [
       "DeviceArray([-0.04012257], dtype=float32)"
      ]
     },
     "execution_count": 95,
     "metadata": {},
     "output_type": "execute_result"
    }
   ],
   "source": [
    "xi_grads"
   ]
  },
  {
   "cell_type": "code",
   "execution_count": null,
   "metadata": {},
   "outputs": [],
   "source": []
  },
  {
   "cell_type": "code",
   "execution_count": 8,
   "metadata": {},
   "outputs": [
    {
     "data": {
      "text/plain": [
       "DeviceArray(247.3694, dtype=float32)"
      ]
     },
     "execution_count": 8,
     "metadata": {},
     "output_type": "execute_result"
    }
   ],
   "source": [
    "N=100\n",
    "M=10\n",
    "xi = params['xi']\n",
    "xi_broadcast = jnp.broadcast_to(xi, (N, len(xi)))\n",
    "log_prob_fun_test = lambda x, theta: log_prob.apply(params, x, theta, xi_broadcast)\n",
    "lfi_pce_eig_scan(params, key, log_prob_fun_test, d_sim, N=N, M=M)"
   ]
  },
  {
   "cell_type": "code",
   "execution_count": 9,
   "metadata": {},
   "outputs": [
    {
     "data": {
      "text/plain": [
       "DeviceArray(247.3694, dtype=float32)"
      ]
     },
     "execution_count": 9,
     "metadata": {},
     "output_type": "execute_result"
    }
   ],
   "source": [
    "lfi_pce_eig_scan(params, key, log_prob_fun_test, d_sim, N=N, M=M)"
   ]
  },
  {
   "cell_type": "code",
   "execution_count": 33,
   "metadata": {},
   "outputs": [
    {
     "name": "stdout",
     "output_type": "stream",
     "text": [
      "[0.]\n",
      "[0.]\n"
     ]
    }
   ],
   "source": [
    "print(params['xi'])\n",
    "grads = jax.grad(lfi_pce_eig_scan)(params, key, log_prob_fun_test, d_sim, N=N, M=M)\n",
    "updates, new_opt_state = optimizer.update(grads, opt_state)\n",
    "new_params = optax.apply_updates(params, updates)\n",
    "print(new_params['xi'])"
   ]
  },
  {
   "cell_type": "code",
   "execution_count": 15,
   "metadata": {},
   "outputs": [
    {
     "name": "stdout",
     "output_type": "stream",
     "text": [
      "STEP:     0; Xi: [10.004369]; Loss: 243.20777893066406\n",
      "STEP:     1; Xi: [10.004406]; Loss: 243.22930908203125\n",
      "STEP:     2; Xi: [10.00444]; Loss: 243.2487335205078\n",
      "STEP:     3; Xi: [10.004471]; Loss: 243.26617431640625\n",
      "STEP:     4; Xi: [10.0044985]; Loss: 243.2819366455078\n",
      "STEP:     5; Xi: [10.004524]; Loss: 243.29620361328125\n",
      "STEP:     6; Xi: [10.004547]; Loss: 243.30908203125\n",
      "STEP:     7; Xi: [10.004568]; Loss: 243.32064819335938\n",
      "STEP:     8; Xi: [10.004587]; Loss: 243.33119201660156\n",
      "STEP:     9; Xi: [10.004604]; Loss: 243.3407440185547\n",
      "STEP:    10; Xi: [10.00462]; Loss: 243.34930419921875\n",
      "STEP:    11; Xi: [10.004634]; Loss: 243.3569793701172\n",
      "STEP:    12; Xi: [10.004646]; Loss: 243.36404418945312\n",
      "STEP:    13; Xi: [10.004658]; Loss: 243.37033081054688\n",
      "STEP:    14; Xi: [10.004668]; Loss: 243.37612915039062\n",
      "STEP:    15; Xi: [10.004678]; Loss: 243.3813018798828\n",
      "STEP:    16; Xi: [10.004686]; Loss: 243.38597106933594\n",
      "STEP:    17; Xi: [10.004694]; Loss: 243.39028930664062\n",
      "STEP:    18; Xi: [10.004701]; Loss: 243.39410400390625\n",
      "STEP:    19; Xi: [10.004707]; Loss: 243.39756774902344\n",
      "STEP:    20; Xi: [10.004713]; Loss: 243.40072631835938\n",
      "STEP:    21; Xi: [10.004719]; Loss: 243.403564453125\n",
      "STEP:    22; Xi: [10.004724]; Loss: 243.40621948242188\n",
      "STEP:    23; Xi: [10.004728]; Loss: 243.4084930419922\n",
      "STEP:    24; Xi: [10.004732]; Loss: 243.41067504882812\n",
      "STEP:    25; Xi: [10.004736]; Loss: 243.41250610351562\n",
      "STEP:    26; Xi: [10.004739]; Loss: 243.41424560546875\n",
      "STEP:    27; Xi: [10.004742]; Loss: 243.41580200195312\n",
      "STEP:    28; Xi: [10.004745]; Loss: 243.41725158691406\n",
      "STEP:    29; Xi: [10.004747]; Loss: 243.41851806640625\n",
      "STEP:    30; Xi: [10.004749]; Loss: 243.4196319580078\n",
      "STEP:    31; Xi: [10.004751]; Loss: 243.42071533203125\n",
      "STEP:    32; Xi: [10.004753]; Loss: 243.4216766357422\n",
      "STEP:    33; Xi: [10.004755]; Loss: 243.4225616455078\n",
      "STEP:    34; Xi: [10.004757]; Loss: 243.42335510253906\n",
      "STEP:    35; Xi: [10.004758]; Loss: 243.4240264892578\n",
      "STEP:    36; Xi: [10.004759]; Loss: 243.42469787597656\n",
      "STEP:    37; Xi: [10.00476]; Loss: 243.42529296875\n",
      "STEP:    38; Xi: [10.004761]; Loss: 243.42578125\n",
      "STEP:    39; Xi: [10.004762]; Loss: 243.4263153076172\n",
      "STEP:    40; Xi: [10.004763]; Loss: 243.42672729492188\n",
      "STEP:    41; Xi: [10.004764]; Loss: 243.42709350585938\n",
      "STEP:    42; Xi: [10.004765]; Loss: 243.42745971679688\n",
      "STEP:    43; Xi: [10.0047655]; Loss: 243.42779541015625\n",
      "STEP:    44; Xi: [10.004766]; Loss: 243.42808532714844\n",
      "STEP:    45; Xi: [10.004767]; Loss: 243.42831420898438\n",
      "STEP:    46; Xi: [10.004767]; Loss: 243.42855834960938\n",
      "STEP:    47; Xi: [10.004767]; Loss: 243.42877197265625\n",
      "STEP:    48; Xi: [10.004767]; Loss: 243.4289093017578\n",
      "STEP:    49; Xi: [10.004767]; Loss: 243.42910766601562\n",
      "STEP:    50; Xi: [10.004767]; Loss: 243.4292755126953\n",
      "STEP:    51; Xi: [10.004767]; Loss: 243.4293670654297\n",
      "STEP:    52; Xi: [10.004767]; Loss: 243.42955017089844\n",
      "STEP:    53; Xi: [10.004767]; Loss: 243.42965698242188\n",
      "STEP:    54; Xi: [10.004767]; Loss: 243.42974853515625\n",
      "STEP:    55; Xi: [10.004767]; Loss: 243.42984008789062\n",
      "STEP:    56; Xi: [10.004767]; Loss: 243.42994689941406\n",
      "STEP:    57; Xi: [10.004767]; Loss: 243.43002319335938\n",
      "STEP:    58; Xi: [10.004767]; Loss: 243.4300994873047\n",
      "STEP:    59; Xi: [10.004767]; Loss: 243.43016052246094\n",
      "STEP:    60; Xi: [10.004767]; Loss: 243.43019104003906\n",
      "STEP:    61; Xi: [10.004767]; Loss: 243.43026733398438\n",
      "STEP:    62; Xi: [10.004767]; Loss: 243.4302978515625\n",
      "STEP:    63; Xi: [10.004767]; Loss: 243.43031311035156\n",
      "STEP:    64; Xi: [10.004767]; Loss: 243.43043518066406\n",
      "STEP:    65; Xi: [10.004767]; Loss: 243.43045043945312\n",
      "STEP:    66; Xi: [10.004767]; Loss: 243.43048095703125\n",
      "STEP:    67; Xi: [10.004767]; Loss: 243.43051147460938\n",
      "STEP:    68; Xi: [10.004767]; Loss: 243.43051147460938\n",
      "STEP:    69; Xi: [10.004767]; Loss: 243.4305419921875\n",
      "STEP:    70; Xi: [10.004767]; Loss: 243.43057250976562\n",
      "STEP:    71; Xi: [10.004767]; Loss: 243.43060302734375\n",
      "STEP:    72; Xi: [10.004767]; Loss: 243.4306182861328\n",
      "STEP:    73; Xi: [10.004767]; Loss: 243.43060302734375\n",
      "STEP:    74; Xi: [10.004767]; Loss: 243.43064880371094\n",
      "STEP:    75; Xi: [10.004767]; Loss: 243.43064880371094\n",
      "STEP:    76; Xi: [10.004767]; Loss: 243.43063354492188\n",
      "STEP:    77; Xi: [10.004767]; Loss: 243.4306640625\n",
      "STEP:    78; Xi: [10.004767]; Loss: 243.4306640625\n",
      "STEP:    79; Xi: [10.004767]; Loss: 243.4306640625\n",
      "STEP:    80; Xi: [10.004767]; Loss: 243.4306640625\n",
      "STEP:    81; Xi: [10.004767]; Loss: 243.4306640625\n",
      "STEP:    82; Xi: [10.004767]; Loss: 243.43069458007812\n",
      "STEP:    83; Xi: [10.004767]; Loss: 243.43072509765625\n",
      "STEP:    84; Xi: [10.004767]; Loss: 243.43072509765625\n",
      "STEP:    85; Xi: [10.004767]; Loss: 243.43072509765625\n",
      "STEP:    86; Xi: [10.004767]; Loss: 243.43069458007812\n",
      "STEP:    87; Xi: [10.004767]; Loss: 243.43072509765625\n",
      "STEP:    88; Xi: [10.004767]; Loss: 243.43072509765625\n",
      "STEP:    89; Xi: [10.004767]; Loss: 243.43072509765625\n",
      "STEP:    90; Xi: [10.004767]; Loss: 243.43072509765625\n",
      "STEP:    91; Xi: [10.004767]; Loss: 243.4307403564453\n",
      "STEP:    92; Xi: [10.004767]; Loss: 243.43072509765625\n",
      "STEP:    93; Xi: [10.004767]; Loss: 243.43072509765625\n",
      "STEP:    94; Xi: [10.004767]; Loss: 243.43072509765625\n",
      "STEP:    95; Xi: [10.004767]; Loss: 243.43072509765625\n",
      "STEP:    96; Xi: [10.004767]; Loss: 243.43072509765625\n",
      "STEP:    97; Xi: [10.004767]; Loss: 243.43072509765625\n",
      "STEP:    98; Xi: [10.004767]; Loss: 243.43072509765625\n",
      "STEP:    99; Xi: [10.004767]; Loss: 243.4307403564453\n"
     ]
    }
   ],
   "source": [
    "N=100\n",
    "M=10\n",
    "\n",
    "@partial(jax.jit, static_argnums=[3,4])\n",
    "def update_pce(\n",
    "    params: hk.Params, prng_key: PRNGKey, opt_state: OptState, N: int, M: int, designs: Array,\n",
    ") -> Tuple[hk.Params, OptState, Array]:\n",
    "    \"\"\"Single SGD update step.\"\"\"\n",
    "    xi_broadcast = jnp.broadcast_to(params[\"xi\"], (N, len(xi)))\n",
    "    log_prob_fun = lambda x, theta: log_prob.apply(\n",
    "        params, x, theta, xi_broadcast)\n",
    "    loss, grads = jax.value_and_grad(lfi_pce_eig_scan)(\n",
    "        params, key, log_prob_fun, designs, N=N, M=M)\n",
    "    updates, new_opt_state = optimizer.update(grads, opt_state)\n",
    "    new_params = optax.apply_updates(params, updates)\n",
    "    return new_params, new_opt_state, loss\n",
    "\n",
    "training_steps = 100\n",
    "for step in range(training_steps):\n",
    "    params, opt_state, loss = update_pce(\n",
    "        params, next(prng_seq), opt_state, N, M, designs = d_sim\n",
    "    )\n",
    "    d_sim = jnp.concatenate((d, params['xi']), axis=0)\n",
    "\n",
    "    print(f\"STEP: {step:5d}; Xi: {params['xi']}; Loss: {loss}\")\n",
    "    # if step % eval_frequency == 0:\n",
    "    #     val_loss = eval_fn(params, next(valid_ds))\n",
    "    #     print(f\"STEP: {step:5d}; Validation loss: {val_loss:.3f}\")\n",
    "    \n",
    "    #     loss_deque.append(val_loss)\n",
    "    #     avg_abs_diff = jnp.mean(abs(jnp.array(loss_deque) - sum(loss_deque)/len(loss_deque)))\n",
    "    #     if step > warmup_steps and avg_abs_diff < early_stopping_threshold:\n",
    "    #         break"
   ]
  },
  {
   "cell_type": "code",
   "execution_count": null,
   "metadata": {},
   "outputs": [],
   "source": []
  },
  {
   "cell_type": "code",
   "execution_count": null,
   "metadata": {},
   "outputs": [],
   "source": []
  },
  {
   "cell_type": "code",
   "execution_count": 291,
   "metadata": {},
   "outputs": [
    {
     "ename": "TypeError",
     "evalue": "Argument '<function make_jax_compatible.<locals>.wrapped at 0x7fa2325995e0>' of type <class 'function'> is not a valid JAX type.",
     "output_type": "error",
     "traceback": [
      "\u001b[0;31m---------------------------------------------------------------------------\u001b[0m",
      "\u001b[0;31mTypeError\u001b[0m                                 Traceback (most recent call last)",
      "Cell \u001b[0;32mIn [291], line 22\u001b[0m\n\u001b[1;32m     19\u001b[0m params \u001b[39m=\u001b[39m jnp\u001b[39m.\u001b[39marray([\u001b[39m1.\u001b[39m, \u001b[39m2.\u001b[39m, \u001b[39m3.\u001b[39m])\n\u001b[1;32m     20\u001b[0m log_prob_fun \u001b[39m=\u001b[39m make_jax_compatible(log_prob)\n\u001b[0;32m---> 22\u001b[0m \u001b[39mprint\u001b[39m(loss_fn(params, log_prob_fun))\n",
      "    \u001b[0;31m[... skipping hidden 2 frame]\u001b[0m\n",
      "File \u001b[0;32m~/anaconda3/envs/sdm3/lib/python3.9/site-packages/jax/_src/api.py:2993\u001b[0m, in \u001b[0;36m_check_arg\u001b[0;34m(arg)\u001b[0m\n\u001b[1;32m   2991\u001b[0m \u001b[39mdef\u001b[39;00m \u001b[39m_check_arg\u001b[39m(arg):\n\u001b[1;32m   2992\u001b[0m   \u001b[39mif\u001b[39;00m \u001b[39mnot\u001b[39;00m (\u001b[39misinstance\u001b[39m(arg, core\u001b[39m.\u001b[39mTracer) \u001b[39mor\u001b[39;00m _valid_jaxtype(arg)):\n\u001b[0;32m-> 2993\u001b[0m     \u001b[39mraise\u001b[39;00m \u001b[39mTypeError\u001b[39;00m(\u001b[39mf\u001b[39m\u001b[39m\"\u001b[39m\u001b[39mArgument \u001b[39m\u001b[39m'\u001b[39m\u001b[39m{\u001b[39;00marg\u001b[39m}\u001b[39;00m\u001b[39m'\u001b[39m\u001b[39m of type \u001b[39m\u001b[39m{\u001b[39;00m\u001b[39mtype\u001b[39m(arg)\u001b[39m}\u001b[39;00m\u001b[39m is not a valid JAX type.\u001b[39m\u001b[39m\"\u001b[39m)\n",
      "\u001b[0;31mTypeError\u001b[0m: Argument '<function make_jax_compatible.<locals>.wrapped at 0x7fa2325995e0>' of type <class 'function'> is not a valid JAX type."
     ]
    }
   ],
   "source": [
    "import jax.numpy as jnp\n",
    "import jax\n",
    "from functools import partial\n",
    "\n",
    "@jax.jit\n",
    "def loss_fn(params, log_prob_fun):\n",
    "  x = jnp.array([1., 2., 3.])\n",
    "  return -jnp.sum(log_prob_fun(params, x))\n",
    "\n",
    "def make_jax_compatible(haiku_func):\n",
    "  def wrapped(params, x):\n",
    "    return haiku_func(params, x)\n",
    "  return wrapped\n",
    "\n",
    "@hk.transform\n",
    "def log_prob(params, x):\n",
    "  return jnp.sum(params * x)\n",
    "\n",
    "params = jnp.array([1., 2., 3.])\n",
    "log_prob_fun = make_jax_compatible(log_prob)\n",
    "\n",
    "print(loss_fn(params, log_prob_fun))\n"
   ]
  },
  {
   "attachments": {},
   "cell_type": "markdown",
   "metadata": {},
   "source": [
    "## `vmap`ing `distrax`\n",
    "Want to generate an array of priors from a distribution. Really, I need to pass an array of random keys that's used to generate the samples, then concatenate however i like using the `out_axes` of the `vmap` function."
   ]
  },
  {
   "cell_type": "code",
   "execution_count": 233,
   "metadata": {},
   "outputs": [],
   "source": [
    "# y = jax.vmap(partial(jnp.dot, priors[:, 0]))(d)\n",
    "@partial(jax.jit, static_argnums=[0])\n",
    "def sim_linear_prior(num_samples: int, key: PRNGKey):\n",
    "    \"\"\"\n",
    "    Simulate prior samples and return their log_prob.\n",
    "    \"\"\"\n",
    "    theta_shape = (2,)\n",
    "\n",
    "    mu = jnp.zeros(theta_shape)\n",
    "    sigma = (3**2) * jnp.ones(theta_shape)\n",
    "\n",
    "    base_distribution = distrax.Independent(\n",
    "        distrax.MultivariateNormalDiag(mu, sigma)\n",
    "    )\n",
    "\n",
    "    samples, log_prob = base_distribution.sample_and_log_prob(seed=key, sample_shape=[num_samples])\n",
    "\n",
    "    return samples, log_prob\n",
    "\n",
    "\n",
    "# y = jax.vmap(partial(jnp.dot, priors[:, 0]))(d)\n",
    "@partial(jax.jit, static_argnums=[0,1])\n",
    "def sim_linear_prior_M_samples(num_samples: int, M: int, key: PRNGKey):\n",
    "    \"\"\"\n",
    "    Simulate prior samples and return their log_prob.\n",
    "    \"\"\"\n",
    "    theta_shape = (2,)\n",
    "\n",
    "    mu = jnp.zeros(theta_shape)\n",
    "    sigma = (3**2) * jnp.ones(theta_shape)\n",
    "\n",
    "    base_distribution = distrax.Independent(\n",
    "        distrax.MultivariateNormalDiag(mu, sigma)\n",
    "    )\n",
    "\n",
    "    samples, log_prob = base_distribution.sample_and_log_prob(seed=key, sample_shape=[M, num_samples])\n",
    "\n",
    "    return samples, log_prob\n",
    "\n"
   ]
  },
  {
   "cell_type": "code",
   "execution_count": 219,
   "metadata": {},
   "outputs": [],
   "source": [
    "testy3 = sim_linear_prior_M_samples(num_samples=num_samples, M=M, key=key)"
   ]
  },
  {
   "cell_type": "code",
   "execution_count": 220,
   "metadata": {},
   "outputs": [
    {
     "data": {
      "text/plain": [
       "(10, 1000, 2)"
      ]
     },
     "execution_count": 220,
     "metadata": {},
     "output_type": "execute_result"
    }
   ],
   "source": [
    "testy3[0].shape"
   ]
  },
  {
   "cell_type": "code",
   "execution_count": 181,
   "metadata": {},
   "outputs": [
    {
     "data": {
      "text/plain": [
       "(10, 5)"
      ]
     },
     "execution_count": 181,
     "metadata": {},
     "output_type": "execute_result"
    }
   ],
   "source": [
    "testy3[1].shape"
   ]
  },
  {
   "cell_type": "code",
   "execution_count": 137,
   "metadata": {},
   "outputs": [],
   "source": [
    "test_keys = jrandom.split(key, M)"
   ]
  },
  {
   "cell_type": "code",
   "execution_count": 213,
   "metadata": {},
   "outputs": [],
   "source": [
    "num_samples = 1000\n",
    "testy = jax.vmap(partial(sim_linear_prior, num_samples))(test_keys)"
   ]
  },
  {
   "cell_type": "code",
   "execution_count": 201,
   "metadata": {},
   "outputs": [
    {
     "data": {
      "text/plain": [
       "(10, 5, 2)"
      ]
     },
     "execution_count": 201,
     "metadata": {},
     "output_type": "execute_result"
    }
   ],
   "source": [
    "testy.shape"
   ]
  },
  {
   "attachments": {},
   "cell_type": "markdown",
   "metadata": {},
   "source": [
    "Now I need to get the `log_prob` of the 10 samples."
   ]
  },
  {
   "cell_type": "code",
   "execution_count": 163,
   "metadata": {},
   "outputs": [],
   "source": [
    "xi_broadcast = jnp.broadcast_to(xi, (num_samples, len(xi)))"
   ]
  },
  {
   "cell_type": "code",
   "execution_count": 167,
   "metadata": {},
   "outputs": [],
   "source": [
    "x = jnp.broadcast_to(x[:,0], (num_samples, len(x)))"
   ]
  },
  {
   "cell_type": "code",
   "execution_count": 168,
   "metadata": {},
   "outputs": [
    {
     "data": {
      "text/plain": [
       "(5, 2)"
      ]
     },
     "execution_count": 168,
     "metadata": {},
     "output_type": "execute_result"
    }
   ],
   "source": [
    "x.shape"
   ]
  },
  {
   "cell_type": "code",
   "execution_count": 170,
   "metadata": {},
   "outputs": [],
   "source": [
    "testy2 = jax.vmap(lambda theta: log_prob.apply(params, x, theta, xi_broadcast))(testy)"
   ]
  },
  {
   "cell_type": "code",
   "execution_count": 171,
   "metadata": {},
   "outputs": [
    {
     "data": {
      "text/plain": [
       "(10, 5)"
      ]
     },
     "execution_count": 171,
     "metadata": {},
     "output_type": "execute_result"
    }
   ],
   "source": [
    "testy2.shape"
   ]
  },
  {
   "attachments": {},
   "cell_type": "markdown",
   "metadata": {},
   "source": [
    "## Testing it out\n",
    "Got vmapped version set up, time to test it out."
   ]
  },
  {
   "cell_type": "code",
   "execution_count": 234,
   "metadata": {},
   "outputs": [],
   "source": [
    "# @partial(jax.jit, static_argnums=[2,3])\n",
    "def lfi_pce_eig(params: hk.Params, prng_key: PRNGKey, N: int=100, M: int=10, **kwargs):\n",
    "    keys = jrandom.split(prng_key, 3 + M)\n",
    "    xi = params['xi']\n",
    "    flow_params = {k: v for k, v in params.items() if k != 'xi'}\n",
    "\n",
    "    # simulate the outcomes before finding their log_probs\n",
    "    x, theta_0 = sim_linear_data_vmap(d_sim, num_samples, keys[0])\n",
    "    xi_broadcast = jnp.broadcast_to(xi, (num_samples, len(xi)))\n",
    "\n",
    "    conditional_lp = log_prob.apply(flow_params, x, theta_0, xi_broadcast)\n",
    "\n",
    "    contrastive_lps = []\n",
    "    thetas = []\n",
    "    # TODO: Make this a vmapped expression\n",
    "    for i in range(M):\n",
    "        theta, _ = sim_linear_prior(num_samples, keys[i + 1])\n",
    "        thetas.append(theta)\n",
    "        contrastive_lp = log_prob.apply(flow_params, x, theta, xi_broadcast)\n",
    "        contrastive_lps.append(contrastive_lp)\n",
    "\n",
    "    marginal_log_prbs = jnp.concatenate((jax_lexpand(conditional_lp, 1), jnp.array(contrastive_lps)))\n",
    "\n",
    "    marginal_lp = jax.nn.logsumexp(marginal_log_prbs, 0) - math.log(M + 1)\n",
    "\n",
    "    return - sum(conditional_lp - marginal_lp) - jnp.mean(conditional_lp)\n",
    "\n",
    "\n",
    "@partial(jax.jit, static_argnums=[2,3])\n",
    "def lfi_pce_eig_vmap(params: hk.Params, prng_key: PRNGKey, N: int=100, M: int=10, **kwargs):\n",
    "    keys = jrandom.split(prng_key, 2)\n",
    "    xi = params['xi']\n",
    "    flow_params = {k: v for k, v in params.items() if k != 'xi'}\n",
    "\n",
    "    # simulate the outcomes before finding their log_probs\n",
    "    x, theta_0 = sim_linear_data_vmap(d_sim, num_samples, keys[0])\n",
    "\n",
    "    xi_broadcast = jnp.broadcast_to(xi, (num_samples, len(xi)))\n",
    "\n",
    "    conditional_lp = log_prob.apply(flow_params, x, theta_0, xi_broadcast)\n",
    "\n",
    "    # TODO: Make function that returns M x num_samples priors\n",
    "    thetas, log_probs = sim_linear_prior_M_samples(num_samples=num_samples, M=M, key=keys[1])\n",
    "    \n",
    "    # conditional_lp could be the initial starting state that is added upon... \n",
    "    contrastive_lps = jax.vmap(lambda theta: log_prob.apply(params, x, theta, xi_broadcast))(thetas)\n",
    "    marginal_log_prbs = jnp.concatenate((jax_lexpand(conditional_lp, 1), jnp.array(contrastive_lps)))\n",
    "    marginal_lp = jax.nn.logsumexp(marginal_log_prbs, 0) - math.log(M + 1)\n",
    "    # marginal_lp = compute_marginal_lp3(M, num_samples, key, flow_params, x, xi_broadcast, conditional_lp)\n",
    "\n",
    "    return - sum(conditional_lp - marginal_lp) - jnp.mean(conditional_lp)\n",
    "\n",
    "\n",
    "@partial(jax.jit, static_argnums=[2,3])\n",
    "def lfi_pce_eig_vmap2(params: hk.Params, prng_key: PRNGKey, N: int=100, M: int=10, **kwargs):\n",
    "    keys = jrandom.split(prng_key, M + 1)\n",
    "    xi = params['xi']\n",
    "    flow_params = {k: v for k, v in params.items() if k != 'xi'}\n",
    "\n",
    "    # simulate the outcomes before finding their log_probs\n",
    "    x, theta_0 = sim_linear_data_vmap(d_sim, num_samples, keys[0])\n",
    "\n",
    "    xi_broadcast = jnp.broadcast_to(xi, (num_samples, len(xi)))\n",
    "\n",
    "    conditional_lp = log_prob.apply(flow_params, x, theta_0, xi_broadcast)\n",
    "\n",
    "    thetas, log_probs = jax.vmap(partial(sim_linear_prior, num_samples))(keys[1:M+1])\n",
    "    \n",
    "    # conditional_lp could be the initial starting state that is added upon... \n",
    "    contrastive_lps = jax.vmap(lambda theta: log_prob.apply(params, x, theta, xi_broadcast))(thetas)\n",
    "    marginal_log_prbs = jnp.concatenate((jax_lexpand(conditional_lp, 1), jnp.array(contrastive_lps)))\n",
    "    marginal_lp = jax.nn.logsumexp(marginal_log_prbs, 0) - math.log(M + 1)\n",
    "    # marginal_lp = compute_marginal_lp3(M, num_samples, key, flow_params, x, xi_broadcast, conditional_lp)\n",
    "\n",
    "    return - sum(conditional_lp - marginal_lp) - jnp.mean(conditional_lp)\n",
    "\n",
    "\n",
    "@jax.jit\n",
    "def update_pce(\n",
    "    params: hk.Params, prng_key: PRNGKey, opt_state: OptState, N: int, M: int\n",
    ") -> Tuple[hk.Params, OptState]:\n",
    "    \"\"\"Single SGD update step.\"\"\"\n",
    "    grads = jax.grad(lfi_pce_eig)(params, prng_key, N=num_samples, M=inner_samples)\n",
    "    updates, new_opt_state = optimizer.update(grads, opt_state)\n",
    "    new_params = optax.apply_updates(params, updates)\n",
    "    return new_params, new_opt_state"
   ]
  },
  {
   "cell_type": "code",
   "execution_count": 225,
   "metadata": {},
   "outputs": [
    {
     "data": {
      "text/plain": [
       "DeviceArray(7.6992054, dtype=float32)"
      ]
     },
     "execution_count": 225,
     "metadata": {},
     "output_type": "execute_result"
    }
   ],
   "source": [
    "lfi_pce_eig_vmap(params, key, 10, 5)"
   ]
  },
  {
   "cell_type": "code",
   "execution_count": 235,
   "metadata": {},
   "outputs": [
    {
     "data": {
      "text/plain": [
       "DeviceArray(7.64139, dtype=float32)"
      ]
     },
     "execution_count": 235,
     "metadata": {},
     "output_type": "execute_result"
    }
   ],
   "source": [
    "lfi_pce_eig_vmap2(params, key, 10, 5)"
   ]
  },
  {
   "cell_type": "code",
   "execution_count": 245,
   "metadata": {},
   "outputs": [
    {
     "name": "stderr",
     "output_type": "stream",
     "text": [
      "2023-02-01 22:06:54.540302: E external/org_tensorflow/tensorflow/compiler/xla/service/slow_operation_alarm.cc:133] The operation took 2m7.268412s\n",
      "\n",
      "********************************\n",
      "[Compiling module jit_backward_pass] Very slow compile?  If you want to file a bug, run with envvar XLA_FLAGS=--xla_dump_to=/tmp/foo and attach the results.\n",
      "********************************\n"
     ]
    }
   ],
   "source": [
    "grads = jax.grad(lfi_pce_eig_vmap)(params, key, N=N, M=M)\n",
    "updates, new_opt_state = optimizer.update(grads, opt_state)\n",
    "new_params = optax.apply_updates(params, updates)"
   ]
  },
  {
   "cell_type": "code",
   "execution_count": 246,
   "metadata": {},
   "outputs": [],
   "source": [
    "grads = jax.grad(lfi_pce_eig_vmap)(params, key, N=N, M=M)\n",
    "updates, new_opt_state = optimizer.update(grads, opt_state)\n",
    "new_params = optax.apply_updates(params, updates)"
   ]
  },
  {
   "cell_type": "code",
   "execution_count": 247,
   "metadata": {},
   "outputs": [
    {
     "name": "stderr",
     "output_type": "stream",
     "text": [
      "2023-02-01 22:11:15.249467: E external/org_tensorflow/tensorflow/compiler/xla/service/slow_operation_alarm.cc:133] The operation took 2m0.762934s\n",
      "\n",
      "********************************\n",
      "[Compiling module jit_backward_pass] Very slow compile?  If you want to file a bug, run with envvar XLA_FLAGS=--xla_dump_to=/tmp/foo and attach the results.\n",
      "********************************\n"
     ]
    }
   ],
   "source": [
    "grads = jax.grad(lfi_pce_eig_vmap2)(params, key, N=N, M=M)\n",
    "updates, new_opt_state = optimizer.update(grads, opt_state)\n",
    "new_params = optax.apply_updates(params, updates)"
   ]
  },
  {
   "cell_type": "code",
   "execution_count": 248,
   "metadata": {},
   "outputs": [],
   "source": [
    "grads = jax.grad(lfi_pce_eig_vmap2)(params, key, N=N, M=M)\n",
    "updates, new_opt_state = optimizer.update(grads, opt_state)\n",
    "new_params = optax.apply_updates(params, updates)"
   ]
  },
  {
   "cell_type": "code",
   "execution_count": null,
   "metadata": {},
   "outputs": [],
   "source": []
  },
  {
   "cell_type": "code",
   "execution_count": null,
   "metadata": {},
   "outputs": [],
   "source": [
    "jax.grad(unified_loss_fn)(params, key, N=3, M=M)"
   ]
  },
  {
   "cell_type": "code",
   "execution_count": 182,
   "metadata": {},
   "outputs": [
    {
     "name": "stderr",
     "output_type": "stream",
     "text": [
      "2023-01-30 13:11:17.239048: E external/org_tensorflow/tensorflow/compiler/xla/service/slow_operation_alarm.cc:65] \n",
      "********************************\n",
      "[Compiling module jit_update_pce] Very slow compile?  If you want to file a bug, run with envvar XLA_FLAGS=--xla_dump_to=/tmp/foo and attach the results.\n",
      "********************************\n"
     ]
    }
   ],
   "source": [
    "seed = 1231\n",
    "M = 3\n",
    "key = jrandom.PRNGKey(seed)\n",
    "\n",
    "d = jnp.array([1.])\n",
    "xi = jnp.array([0.])\n",
    "d_sim = jnp.concatenate((d, xi), axis=0)\n",
    "\n",
    "# helper variables for `prepare_tf_dataset`\n",
    "len_x = len(d_sim)\n",
    "len_d = len(d)\n",
    "# Actually necessary value for `sim_data` output\n",
    "len_xi = len(xi)\n",
    "\n",
    "# Params and hyperparams\n",
    "theta_shape = (2,)\n",
    "d_shape = (len(d),)\n",
    "xi_shape = (len_xi,)\n",
    "EVENT_SHAPE = (len(d_sim),)\n",
    "# EVENT_DIM is important for the normalizing flow's block.\n",
    "EVENT_DIM = 1\n",
    "\n",
    "num_samples = 2\n",
    "inner_samples = 10 # AKA M or L in BOED parlance\n",
    "batch_size = 128\n",
    "flow_num_layers = 5 #3 # 10\n",
    "mlp_num_layers = 1 # 3 # 4\n",
    "hidden_size = 128 # 500\n",
    "num_bins = 4\n",
    "learning_rate = 1e-4\n",
    "warmup_steps = 10\n",
    "early_stopping_memory = 10\n",
    "early_stopping_threshold = 5e-2\n",
    "\n",
    "training_steps = 100\n",
    "eval_frequency = 5\n",
    "\n",
    "prng_seq = hk.PRNGSequence(42)  # TODO: Put one of \"keys\" here?\n",
    "params = log_prob.init(\n",
    "    next(prng_seq),\n",
    "    np.zeros((1, *EVENT_SHAPE)),\n",
    "    np.zeros((1, *theta_shape)),\n",
    "    np.zeros((1, *xi_shape)),\n",
    ")\n",
    "params['xi'] = xi\n",
    "\n",
    "optimizer = optax.adam(learning_rate)\n",
    "\n",
    "opt_state = optimizer.init(params)\n",
    "\n",
    "loss_deque = deque(maxlen=early_stopping_memory)\n",
    "for step in range(training_steps):\n",
    "    params, opt_state = update_pce(\n",
    "        params, next(prng_seq), opt_state, N=10, M=M\n",
    "    )\n",
    "    # params, opt_state = update(\n",
    "    #     params, next(prng_seq), opt_state, next(train_ds)\n",
    "    # )\n",
    "\n",
    "    print(f\"STEP: {step:5d}; Xi: {params['xi']}\")\n",
    "    # if step % eval_frequency == 0:\n",
    "    #     val_loss = eval_fn(params, next(valid_ds))\n",
    "    #     print(f\"STEP: {step:5d}; Validation loss: {val_loss:.3f}\")\n",
    "    \n",
    "    #     loss_deque.append(val_loss)\n",
    "    #     avg_abs_diff = jnp.mean(abs(jnp.array(loss_deque) - sum(loss_deque)/len(loss_deque)))\n",
    "    #     if step > warmup_steps and avg_abs_diff < early_stopping_threshold:\n",
    "    #         break\n"
   ]
  },
  {
   "cell_type": "code",
   "execution_count": null,
   "metadata": {},
   "outputs": [],
   "source": []
  },
  {
   "cell_type": "code",
   "execution_count": null,
   "metadata": {},
   "outputs": [],
   "source": []
  },
  {
   "cell_type": "code",
   "execution_count": null,
   "metadata": {},
   "outputs": [],
   "source": []
  },
  {
   "attachments": {},
   "cell_type": "markdown",
   "metadata": {},
   "source": [
    "# Plot Gaussian input samples\n",
    "Want to plot the gaussian samples that are used to sample new values. To compare, also want to plot some of the original samples... It's like we want to see how the _path_ changes from the input to output samples based on the conditioning variables."
   ]
  },
  {
   "cell_type": "code",
   "execution_count": 26,
   "metadata": {},
   "outputs": [],
   "source": [
    "theta_test = X[:10, len_x:-len_x]\n",
    "xi_test = X[:10, -len_xi:]"
   ]
  },
  {
   "cell_type": "code",
   "execution_count": 27,
   "metadata": {},
   "outputs": [],
   "source": [
    "samples = model_sample.apply(params, \n",
    "                    next(prng_seq),\n",
    "                    num_samples=len(theta_test),\n",
    "                    theta=theta_test,\n",
    "                    # d=d_test,\n",
    "                    # d=d_obs,\n",
    "                    xi=xi_test)"
   ]
  },
  {
   "cell_type": "code",
   "execution_count": 28,
   "metadata": {},
   "outputs": [
    {
     "data": {
      "text/plain": [
       "(10, 2)"
      ]
     },
     "execution_count": 28,
     "metadata": {},
     "output_type": "execute_result"
    }
   ],
   "source": [
    "samples.shape"
   ]
  },
  {
   "cell_type": "code",
   "execution_count": 39,
   "metadata": {},
   "outputs": [
    {
     "data": {
      "image/png": "[encoded data removed]",
      "text/plain": [
       "<Figure size 640x480 with 1 Axes>"
      ]
     },
     "metadata": {},
     "output_type": "display_data"
    }
   ],
   "source": [
    "import matplotlib.pyplot as plt\n",
    "from scipy.stats import gaussian_kde\n",
    "# plt.hist(samples)[-1]\n",
    "\n",
    "density_1 = gaussian_kde(samples[:, 0])\n",
    "# density_2 = gaussian_kde(samples[:, 1])\n",
    "\n",
    "\n",
    "# Plot the density\n",
    "fig, ax = plt.subplots()\n",
    "x = np.linspace(jnp.min(samples), jnp.max(samples), 100)\n",
    "ax.plot(x, density_1(x), label='x1')\n",
    "# ax.plot(x, density_2(x), label='x2')\n",
    "plt.xlabel('x')\n",
    "plt.ylabel('density')\n",
    "plt.legend()\n",
    "plt.show()"
   ]
  },
  {
   "attachments": {},
   "cell_type": "markdown",
   "metadata": {},
   "source": [
    "Now just messing it up by changing the $\\xi$ input value."
   ]
  },
  {
   "cell_type": "code",
   "execution_count": 42,
   "metadata": {},
   "outputs": [],
   "source": [
    "samples2 = model_sample.apply(params, \n",
    "                    next(prng_seq),\n",
    "                    num_samples=len(theta_test),\n",
    "                    theta=theta_test,\n",
    "                    # d=d_test,\n",
    "                    # d=d_obs,\n",
    "                    xi=xi_test+3.)"
   ]
  },
  {
   "cell_type": "code",
   "execution_count": 43,
   "metadata": {},
   "outputs": [
    {
     "data": {
      "image/png": "[encoded data removed]",
      "text/plain": [
       "<Figure size 640x480 with 1 Axes>"
      ]
     },
     "metadata": {},
     "output_type": "display_data"
    }
   ],
   "source": [
    "density_1 = gaussian_kde(samples2[:, 0])\n",
    "# density_2 = gaussian_kde(samples[:, 1])\n",
    "\n",
    "\n",
    "# Plot the density\n",
    "fig, ax = plt.subplots()\n",
    "x = np.linspace(jnp.min(samples2), jnp.max(samples2), 100)\n",
    "ax.plot(x, density_1(x), label='x1')\n",
    "# ax.plot(x, density_2(x), label='x2')\n",
    "plt.xlabel('x')\n",
    "plt.ylabel('density')\n",
    "plt.legend()\n",
    "plt.show()"
   ]
  },
  {
   "cell_type": "code",
   "execution_count": 46,
   "metadata": {},
   "outputs": [
    {
     "data": {
      "text/plain": [
       "DeviceArray(False, dtype=bool)"
      ]
     },
     "execution_count": 46,
     "metadata": {},
     "output_type": "execute_result"
    }
   ],
   "source": [
    "(samples == samples2).any()"
   ]
  },
  {
   "attachments": {},
   "cell_type": "markdown",
   "metadata": {},
   "source": [
    "Ok, so changing the $\\xi$ value changes the sampled distribution. What about the $\\theta$ samples?"
   ]
  },
  {
   "cell_type": "code",
   "execution_count": 59,
   "metadata": {},
   "outputs": [],
   "source": [
    "theta_test2 = jnp.flip(theta_test, axis=1)"
   ]
  },
  {
   "cell_type": "code",
   "execution_count": 61,
   "metadata": {},
   "outputs": [],
   "source": [
    "samples3 = model_sample.apply(params, \n",
    "                    next(prng_seq),\n",
    "                    num_samples=len(theta_test),\n",
    "                    theta=theta_test2,\n",
    "                    # d=d_test,\n",
    "                    # d=d_obs,\n",
    "                    xi=xi_test)"
   ]
  },
  {
   "cell_type": "code",
   "execution_count": 62,
   "metadata": {},
   "outputs": [
    {
     "data": {
      "image/png": "[encoded data removed]",
      "text/plain": [
       "<Figure size 640x480 with 1 Axes>"
      ]
     },
     "metadata": {},
     "output_type": "display_data"
    }
   ],
   "source": [
    "density_1 = gaussian_kde(samples3[:, 0])\n",
    "# density_2 = gaussian_kde(samples[:, 1])\n",
    "\n",
    "\n",
    "# Plot the density\n",
    "fig, ax = plt.subplots()\n",
    "x = np.linspace(jnp.min(samples3), jnp.max(samples3), 100)\n",
    "ax.plot(x, density_1(x), label='x1')\n",
    "# ax.plot(x, density_2(x), label='x2')\n",
    "plt.xlabel('x')\n",
    "plt.ylabel('density')\n",
    "plt.legend()\n",
    "plt.show()"
   ]
  },
  {
   "cell_type": "code",
   "execution_count": 65,
   "metadata": {},
   "outputs": [
    {
     "data": {
      "text/plain": [
       "DeviceArray(False, dtype=bool)"
      ]
     },
     "execution_count": 65,
     "metadata": {},
     "output_type": "execute_result"
    }
   ],
   "source": [
    "(samples == samples2).any()"
   ]
  },
  {
   "attachments": {},
   "cell_type": "markdown",
   "metadata": {},
   "source": [
    "Alriiiight, so changing the conditioning information yields... different samples. But what about log_probs?\n",
    "\n",
    "## Testing Log_probs"
   ]
  },
  {
   "cell_type": "code",
   "execution_count": 6,
   "metadata": {},
   "outputs": [
    {
     "data": {
      "text/plain": [
       "(10, 1)"
      ]
     },
     "execution_count": 6,
     "metadata": {},
     "output_type": "execute_result"
    }
   ],
   "source": [
    "samples.shape"
   ]
  },
  {
   "cell_type": "code",
   "execution_count": 29,
   "metadata": {},
   "outputs": [
    {
     "data": {
      "text/plain": [
       "DeviceArray(2.7751296, dtype=float32)"
      ]
     },
     "execution_count": 29,
     "metadata": {},
     "output_type": "execute_result"
    }
   ],
   "source": [
    "# samples's log_prob should be different under different conditioning variables\n",
    "-jnp.mean(log_prob.apply(params, samples, theta_test, xi_test))"
   ]
  },
  {
   "cell_type": "code",
   "execution_count": 30,
   "metadata": {},
   "outputs": [
    {
     "data": {
      "text/plain": [
       "DeviceArray(2.768444, dtype=float32)"
      ]
     },
     "execution_count": 30,
     "metadata": {},
     "output_type": "execute_result"
    }
   ],
   "source": [
    "-jnp.mean(log_prob.apply(params, samples, theta_test, xi_test + 3.))"
   ]
  },
  {
   "cell_type": "code",
   "execution_count": 31,
   "metadata": {},
   "outputs": [
    {
     "data": {
      "text/plain": [
       "DeviceArray(2.7901638, dtype=float32)"
      ]
     },
     "execution_count": 31,
     "metadata": {},
     "output_type": "execute_result"
    }
   ],
   "source": [
    "-jnp.mean(log_prob.apply(params, samples, jnp.flip(theta_test, 1), xi_test))"
   ]
  },
  {
   "attachments": {},
   "cell_type": "markdown",
   "metadata": {},
   "source": [
    "### log_probs for simulated data\n",
    "The above verified that log_probs for _generated_ data acted like I thought whenever applying the log_prob to it using flow params. However, this doesn't look at _simulated_ data. "
   ]
  },
  {
   "cell_type": "code",
   "execution_count": 51,
   "metadata": {},
   "outputs": [
    {
     "data": {
      "text/plain": [
       "DeviceArray([[0.],\n",
       "             [0.],\n",
       "             [0.],\n",
       "             [0.],\n",
       "             [0.],\n",
       "             [0.],\n",
       "             [0.],\n",
       "             [0.],\n",
       "             [0.],\n",
       "             [0.]], dtype=float32)"
      ]
     },
     "execution_count": 51,
     "metadata": {},
     "output_type": "execute_result"
    }
   ],
   "source": [
    "xi"
   ]
  },
  {
   "cell_type": "code",
   "execution_count": 32,
   "metadata": {},
   "outputs": [],
   "source": [
    "X = sim_data(d_sim, num_samples=len(theta_test), key=key)  # Do I need to split up the prng_key?\n",
    "\n",
    "# I'm implicitly returning the prior here, that's a little annoying...\n",
    "x, theta_0, d, xi = prepare_data(X)"
   ]
  },
  {
   "cell_type": "code",
   "execution_count": 35,
   "metadata": {},
   "outputs": [
    {
     "data": {
      "text/plain": [
       "DeviceArray(7.13578, dtype=float32)"
      ]
     },
     "execution_count": 35,
     "metadata": {},
     "output_type": "execute_result"
    }
   ],
   "source": [
    "-jnp.mean(log_prob.apply(params, x, theta_0, xi))"
   ]
  },
  {
   "cell_type": "code",
   "execution_count": 36,
   "metadata": {},
   "outputs": [
    {
     "data": {
      "text/plain": [
       "DeviceArray(7.148746, dtype=float32)"
      ]
     },
     "execution_count": 36,
     "metadata": {},
     "output_type": "execute_result"
    }
   ],
   "source": [
    "-jnp.mean(log_prob.apply(params, x, jnp.flip(theta_0, axis=1), xi))"
   ]
  },
  {
   "cell_type": "code",
   "execution_count": 37,
   "metadata": {},
   "outputs": [
    {
     "data": {
      "text/plain": [
       "DeviceArray(7.1353607, dtype=float32)"
      ]
     },
     "execution_count": 37,
     "metadata": {},
     "output_type": "execute_result"
    }
   ],
   "source": [
    "-jnp.mean(log_prob.apply(params, x, theta_0, xi + 3.))"
   ]
  },
  {
   "attachments": {},
   "cell_type": "markdown",
   "metadata": {},
   "source": [
    "## log_probs work\n",
    "Why not when I've tried the PCE loss?"
   ]
  },
  {
   "cell_type": "code",
   "execution_count": 40,
   "metadata": {},
   "outputs": [],
   "source": [
    "M = 10\n",
    "keys = jrandom.split(key, 3 + M)\n",
    "num_samples = 10\n",
    "\n",
    "# xi = params['xi']\n",
    "# flow_params = {k: v for k, v in params.items() if k != 'xi'}\n",
    "\n",
    "X = sim_data(d_sim, num_samples, keys[0])  # Do I need to split up the prng_key?\n",
    "\n",
    "# I'm implicitly returning the prior here, that's a little annoying...\n",
    "x, theta_0, d, xi = prepare_data(X)\n",
    "\n",
    "contrastive_lps = []\n",
    "thetas = []\n",
    "for i in range(M):\n",
    "    theta, _ = sim_linear_prior(num_samples, keys[i + 1])\n",
    "    thetas.append(theta)\n",
    "    contrastive_lp = log_prob.apply(params, x, theta, xi)\n",
    "    contrastive_lps.append(contrastive_lp)\n"
   ]
  },
  {
   "cell_type": "code",
   "execution_count": null,
   "metadata": {},
   "outputs": [],
   "source": [
    "contrastive_lps"
   ]
  },
  {
   "cell_type": "code",
   "execution_count": 44,
   "metadata": {},
   "outputs": [
    {
     "data": {
      "text/plain": [
       "DeviceArray(7.830993, dtype=float32)"
      ]
     },
     "execution_count": 44,
     "metadata": {},
     "output_type": "execute_result"
    }
   ],
   "source": [
    "conditional_lp = log_prob.apply(params, x, theta_0, xi)\n",
    "\n",
    "marginal_log_prbs = jnp.concatenate((jax_lexpand(conditional_lp, 1), jnp.array(contrastive_lps)))\n",
    "\n",
    "marginal_lp = jax.nn.logsumexp(marginal_log_prbs, 0) - math.log(M + 1)\n",
    "\n",
    "sum(conditional_lp - marginal_lp) - jnp.mean(contrastive_lp)"
   ]
  },
  {
   "cell_type": "code",
   "execution_count": 45,
   "metadata": {},
   "outputs": [
    {
     "data": {
      "text/plain": [
       "DeviceArray([[-6.6525245, -7.334112 , -6.8119946, -6.5381484, -6.567997 ,\n",
       "              -6.8708863, -6.199002 , -6.5186396, -7.452368 , -7.3830347],\n",
       "             [-6.569809 , -7.559225 , -6.725845 , -6.526496 , -6.673326 ,\n",
       "              -6.896696 , -6.3781633, -6.7583585, -7.5782037, -8.794767 ],\n",
       "             [-6.6859007, -7.4570117, -6.834794 , -6.958585 , -6.5040655,\n",
       "              -7.058741 , -6.224936 , -6.542375 , -7.626199 , -7.5463586],\n",
       "             [-6.6079445, -7.33452  , -6.718301 , -6.4771147, -6.3280044,\n",
       "              -6.9939547, -6.158974 , -6.495627 , -7.480525 , -9.910831 ],\n",
       "             [-6.6840515, -7.3341107, -6.8081636, -6.633423 , -6.475223 ,\n",
       "              -7.1661158, -6.1138706, -6.7829494, -7.5835342, -8.585045 ],\n",
       "             [-6.7376723, -7.3368926, -6.7818146, -6.4458237, -6.741234 ,\n",
       "              -6.768721 , -6.0479784, -6.5972233, -7.5532255, -8.240985 ],\n",
       "             [-6.651277 , -7.3343854, -6.7848053, -6.3908324, -6.4510765,\n",
       "              -7.098256 , -6.3482113, -6.5958643, -7.825919 , -7.3351045],\n",
       "             [-6.6577835, -7.3503366, -6.7124453, -6.578536 , -6.537038 ,\n",
       "              -6.89886  , -6.20527  , -6.7031784, -7.6644335, -8.38169  ],\n",
       "             [-6.7440867, -7.342089 , -6.719078 , -6.4508276, -6.4263077,\n",
       "              -6.7796764, -6.136995 , -6.9280157, -7.6112967, -9.13043  ],\n",
       "             [-6.713032 , -7.3366423, -6.8238745, -6.526683 , -6.5593596,\n",
       "              -6.9868894, -6.3152485, -6.513795 , -7.6857843, -7.1407127],\n",
       "             [-6.6462307, -7.334083 , -6.862208 , -6.4584756, -6.4299183,\n",
       "              -7.015811 , -6.222979 , -6.550604 , -7.380868 , -8.6483755]],            dtype=float32)"
      ]
     },
     "execution_count": 45,
     "metadata": {},
     "output_type": "execute_result"
    }
   ],
   "source": [
    "marginal_log_prbs"
   ]
  },
  {
   "cell_type": "code",
   "execution_count": 46,
   "metadata": {},
   "outputs": [
    {
     "data": {
      "text/plain": [
       "DeviceArray([-6.666951 , -7.366186 , -6.7790036, -6.534328 , -6.511456 ,\n",
       "             -6.950374 , -6.2091656, -6.626684 , -7.5789866, -7.98161  ],            dtype=float32)"
      ]
     },
     "execution_count": 46,
     "metadata": {},
     "output_type": "execute_result"
    }
   ],
   "source": [
    "marginal_lp"
   ]
  },
  {
   "cell_type": "code",
   "execution_count": 47,
   "metadata": {},
   "outputs": [
    {
     "data": {
      "text/plain": [
       "DeviceArray(6.078916, dtype=float32)"
      ]
     },
     "execution_count": 47,
     "metadata": {},
     "output_type": "execute_result"
    }
   ],
   "source": [
    "-sum(conditional_lp - marginal_lp) - jnp.mean(contrastive_lp)"
   ]
  },
  {
   "attachments": {},
   "cell_type": "markdown",
   "metadata": {},
   "source": [
    "Cool, this function works as expected. Now time to scale it up. "
   ]
  },
  {
   "cell_type": "code",
   "execution_count": null,
   "metadata": {},
   "outputs": [],
   "source": [
    "def lfi_pce_eig(params: hk.Params, prng_key: PRNGKey, N: int=100, M: int=10, **kwargs):\n",
    "    keys = jrandom.split(prng_key, 1 + M)\n",
    "    xi = jnp.squeeze(params['xi'])\n",
    "    # flow_params = {k: v for k, v in params.items() if k != 'xi'}\n",
    "\n",
    "    # simulate the outcomes before finding their log_probs\n",
    "    # TODO: should `d_sim` be here? Or how should designs be influenced?\n",
    "    X = sim_data(d_sim, num_samples, keys[0])  # Do I need to split up the prng_key?\n",
    "\n",
    "    # I'm implicitly returning the prior here, that's a little annoying...\n",
    "    x, theta_0, _, xi = prepare_data(X)  # TODO: Maybe refactor this?\n",
    "\n",
    "    conditional_lp = log_prob.apply(params, x, theta_0, xi)\n",
    "\n",
    "    contrastive_lps = []\n",
    "    thetas = []\n",
    "    # TODO: can this be parallelized to speed up the computation?\n",
    "    for i in range(M):\n",
    "        theta, _ = sim_linear_prior(num_samples, keys[i + 1])\n",
    "        thetas.append(theta)\n",
    "        contrastive_lp = log_prob.apply(params, x, theta, xi)\n",
    "        contrastive_lps.append(contrastive_lp)\n",
    "\n",
    "    marginal_log_prbs = jnp.concatenate((jax_lexpand(conditional_lp, 1), jnp.array(contrastive_lps)))\n",
    "\n",
    "    marginal_lp = jax.nn.logsumexp(marginal_log_prbs, 0) - math.log(M + 1)\n",
    "\n",
    "    return - sum(conditional_lp - marginal_lp) - jnp.mean(contrastive_lp)"
   ]
  },
  {
   "cell_type": "code",
   "execution_count": 49,
   "metadata": {},
   "outputs": [
    {
     "data": {
      "text/plain": [
       "DeviceArray(-0.00022329, dtype=float32)"
      ]
     },
     "execution_count": 49,
     "metadata": {},
     "output_type": "execute_result"
    }
   ],
   "source": [
    "jnp.squeeze(params['xi'])"
   ]
  },
  {
   "cell_type": "code",
   "execution_count": null,
   "metadata": {},
   "outputs": [],
   "source": []
  },
  {
   "cell_type": "code",
   "execution_count": 38,
   "metadata": {},
   "outputs": [
    {
     "data": {
      "text/plain": [
       "DeviceArray([-0.00022329], dtype=float32)"
      ]
     },
     "execution_count": 38,
     "metadata": {},
     "output_type": "execute_result"
    }
   ],
   "source": [
    "params['xi']"
   ]
  },
  {
   "cell_type": "code",
   "execution_count": 5,
   "metadata": {},
   "outputs": [
    {
     "data": {
      "text/plain": [
       "dict_keys(['scalar_conditioner_module/linear', 'scalar_conditioner_module/linear_1', 'scalar_conditioner_module/mlp/~/linear_0', 'xi'])"
      ]
     },
     "execution_count": 5,
     "metadata": {},
     "output_type": "execute_result"
    }
   ],
   "source": [
    "params.keys()"
   ]
  },
  {
   "cell_type": "code",
   "execution_count": 4,
   "metadata": {},
   "outputs": [
    {
     "ename": "KeyError",
     "evalue": "'conditioner_module/mlp_2/~/linear_0'",
     "output_type": "error",
     "traceback": [
      "\u001b[0;31m---------------------------------------------------------------------------\u001b[0m",
      "\u001b[0;31mKeyError\u001b[0m                                  Traceback (most recent call last)",
      "Cell \u001b[0;32mIn [4], line 1\u001b[0m\n\u001b[0;32m----> 1\u001b[0m params[\u001b[39m'\u001b[39;49m\u001b[39mconditioner_module/mlp_2/~/linear_0\u001b[39;49m\u001b[39m'\u001b[39;49m]\n",
      "\u001b[0;31mKeyError\u001b[0m: 'conditioner_module/mlp_2/~/linear_0'"
     ]
    }
   ],
   "source": [
    "params['conditioner_module/mlp_2/~/linear_0']"
   ]
  },
  {
   "cell_type": "code",
   "execution_count": null,
   "metadata": {},
   "outputs": [],
   "source": []
  },
  {
   "attachments": {},
   "cell_type": "markdown",
   "metadata": {},
   "source": [
    "## Sampling and checking outputs"
   ]
  },
  {
   "cell_type": "code",
   "execution_count": null,
   "metadata": {},
   "outputs": [],
   "source": [
    "jnp.expand_dims(X[:, X.shape[1] // 2], -1) == jnp.expand_dims(X[:, 2], -1)"
   ]
  },
  {
   "cell_type": "code",
   "execution_count": 19,
   "metadata": {},
   "outputs": [
    {
     "data": {
      "text/plain": [
       "DeviceArray([[5.],\n",
       "             [5.],\n",
       "             [5.],\n",
       "             ...,\n",
       "             [5.],\n",
       "             [5.],\n",
       "             [5.]], dtype=float32)"
      ]
     },
     "execution_count": 19,
     "metadata": {},
     "output_type": "execute_result"
    }
   ],
   "source": [
    "X[:, -len_xi:]"
   ]
  },
  {
   "cell_type": "code",
   "execution_count": 21,
   "metadata": {},
   "outputs": [
    {
     "data": {
      "image/png": "[encoded data removed]",
      "text/plain": [
       "<Figure size 640x480 with 1 Axes>"
      ]
     },
     "metadata": {},
     "output_type": "display_data"
    }
   ],
   "source": [
    "from scipy.stats import gaussian_kde\n",
    "\n",
    "# TODO: Make code that automatically slices these up.\n",
    "theta_test = jnp.expand_dims(X[:, X.shape[1] // 2], -1)\n",
    "# d_test = jnp.expand_dims(X[:, 4], -1)\n",
    "d_test = X[:, -len_x:-len_xi]\n",
    "xi_test = X[:, -len_xi:]\n",
    "# xi_test = jnp.expand_dims(X[:, 2], -1)\n",
    "# xi_test = jnp.ones((10000, 1)) * 3\n",
    "# xi_test = jnp.expand_dims(X[:, 1], -1)\n",
    "\n",
    "\n",
    "samples = model_sample.apply(params, \n",
    "                    next(prng_seq),\n",
    "                    num_samples=len(theta_test),\n",
    "                    theta=theta_test,\n",
    "                    d=d_test,\n",
    "                    # d=d_obs,\n",
    "                    xi=xi_test)\n",
    "\n",
    "\n",
    "density_1 = gaussian_kde(samples[:, 0])\n",
    "density_2 = gaussian_kde(samples[:, 1])\n",
    "\n",
    "\n",
    "# Plot the density\n",
    "fig, ax = plt.subplots()\n",
    "x = np.linspace(jnp.min(samples), jnp.max(samples), 100)\n",
    "ax.plot(x, density_1(x), label='x1')\n",
    "ax.plot(x, density_2(x), label='x2')\n",
    "plt.xlabel('x')\n",
    "plt.ylabel('density')\n",
    "plt.legend()\n",
    "plt.show()"
   ]
  },
  {
   "cell_type": "code",
   "execution_count": null,
   "metadata": {},
   "outputs": [],
   "source": []
  },
  {
   "cell_type": "code",
   "execution_count": null,
   "metadata": {},
   "outputs": [],
   "source": []
  },
  {
   "attachments": {},
   "cell_type": "markdown",
   "metadata": {},
   "source": [
    "## LFI-ACE\n",
    "Manually trained and stepped-through LFI-ACE model.\n",
    "\n",
    "1. Approximate likelihood using normalizing flow. Use a bunch of samples and their corresponding $\\theta$ values. Also, since the `pyro` version only uses one noise element, get rid of the other one that Kleinegesse used.\n",
    "2. Use approximated likelihood in ACE computation.\n",
    "3. Approximate the likelihood using LFI-ACE.\n",
    "\n",
    "This is code where i'm experimenting with the `update`, `loss`, and `params` stuff."
   ]
  },
  {
   "cell_type": "code",
   "execution_count": 18,
   "metadata": {},
   "outputs": [],
   "source": [
    "def sim_linear_jax(d: Array, priors: Array, key: PRNGKey):\n",
    "    # Keys for the appropriate functions\n",
    "    keys = jrandom.split(key, 3)\n",
    "\n",
    "    # sample random normal dist\n",
    "    noise_shape = (1,)\n",
    "\n",
    "    mu_noise = jnp.zeros(noise_shape)\n",
    "    sigma_noise = jnp.ones(noise_shape)\n",
    "\n",
    "    n_n = distrax.Independent(\n",
    "        distrax.MultivariateNormalDiag(mu_noise, sigma_noise)\n",
    "    ).sample(seed=keys[0], sample_shape=[len(d), len(priors)])\n",
    "\n",
    "    # sample random gamma noise\n",
    "    n_g = distrax.Gamma(2.0, 1.0 / 2.0).sample(\n",
    "        seed=keys[1], sample_shape=[len(d), len(priors)]\n",
    "    )\n",
    "\n",
    "    # forward pass\n",
    "    y = jnp.broadcast_to(priors[:, 0], (len(d), len(priors)))\n",
    "    y = y + jnp.expand_dims(d, 1) @ jnp.expand_dims(priors[:, 1], 0)\n",
    "    y = y + n_g + jnp.squeeze(n_n)\n",
    "    ygrads = priors[:, 1]\n",
    "\n",
    "    return y, ygrads\n",
    "\n",
    "\n",
    "def sim_data(d: Array, priors: Array, key: PRNGKey):\n",
    "    \"\"\"\n",
    "    Returns data in a format suitable for normalizing flow training.\n",
    "    Data will be in shape [y, thetas]. The `y` variable can vary in size.\n",
    "    \"\"\"\n",
    "    keys = jrandom.split(key, 2)\n",
    "\n",
    "    theta_shape = (2,)\n",
    "\n",
    "    mu = jnp.zeros(theta_shape)\n",
    "    sigma = (3**2) * jnp.ones(theta_shape)\n",
    "\n",
    "    base_distribution = distrax.Independent(  # Should this be independent?\n",
    "        distrax.MultivariateNormalDiag(mu, sigma)\n",
    "    )\n",
    "\n",
    "    priors = base_distribution.sample(seed=keys[0], sample_shape=[num_samples])\n",
    "\n",
    "    # ygrads allows to be compared to other implementations (Kleinegesse et)\n",
    "    y, ygrads = sim_linear_jax(d, priors, keys[1])\n",
    "\n",
    "    return jnp.column_stack(\n",
    "        (y.T, jnp.squeeze(priors), jnp.broadcast_to(d, (num_samples, len(d))))\n",
    "    )\n",
    "\n",
    "def lfi_ace_loss_fn(\n",
    "    params: hk.Params, prng_key: PRNGKey, x: Array, theta: Array, d: Array, xi: Array, \n",
    "    M: int, prior_dists, \n",
    ") -> Array:\n",
    "    loss = -jnp.mean(log_prob.apply(params, x, theta, d, xi))\n",
    "    return loss\n",
    "\n",
    "\n",
    "def sim_linear_prior(num_samples: int, key: PRNGKey):\n",
    "    \"\"\"\n",
    "    Simulate prior samples and return their log_prob.\n",
    "    \"\"\"\n",
    "    theta_shape = (2,)\n",
    "\n",
    "    mu = jnp.zeros(theta_shape)\n",
    "    sigma = (3**2) * jnp.ones(theta_shape)\n",
    "\n",
    "    base_distribution = distrax.Independent(  # Should this be independent?\n",
    "        distrax.MultivariateNormalDiag(mu, sigma)\n",
    "    )\n",
    "\n",
    "    samples, log_prob = base_distribution.sample_and_log_prob(seed=key, sample_shape=[num_samples])\n",
    "\n",
    "    return samples, log_prob\n",
    "\n",
    "\n",
    "def lfi_pce_loss_fn(\n",
    "    params: hk.Params, prng_key: PRNGKey, x: Array, theta: Array, d: Array, num_samples: int, # xi: Array, \n",
    "    M: int #, prior_dist: Distribution\n",
    ") -> Array:\n",
    "    keys = jrandom.split(prng_key, 2)\n",
    "    xi = params['xi']\n",
    "    flow_params = {k: v for k, v in params.items() if k != 'xi'}\n",
    "    # theta_0 = prior_dist.sample((num_samples, 1))\n",
    "    # simulate the outcomes before finding their log_probs\n",
    "    d_sim = jnp.concatenate((d, xi), axis=0)\n",
    "    X = sim_data(d_sim, num_samples, keys[0])  # Do I need to split up the prng_key?\n",
    "\n",
    "    # I'm implicitly returning the prior here, that's a little annoying...\n",
    "    x, theta_0, d, xi = prepare_data(X)  # TODO: Maybe refactor this?\n",
    "\n",
    "    conditional_lp = log_prob.apply(flow_params, x, theta_0, d, xi)\n",
    "    # theta_L = prior_dist.sample((num_samples, M-1))\n",
    "    # Need to make an array of the new theta values\n",
    "    \n",
    "    contrastive_lps = []\n",
    "    for _ in range(M):\n",
    "        theta, _ = sim_linear_prior(num_samples, keys[1])\n",
    "        contrastive_lp = log_prob.apply(flow_params, x, theta, d, xi)\n",
    "        contrastive_lps.append(contrastive_lp)\n",
    "\n",
    "    marginal_log_prbs = jnp.concatenate((conditional_lp, jnp.array(contrastive_lps)))\n",
    "\n",
    "    marginal_lp = jax.nn.logsumexp(marginal_log_prbs, -1) - math.log(num_samples)\n",
    "\n",
    "    return _safe_mean_terms(conditional_lp - marginal_lp)\n",
    "\n",
    "\n",
    "    \n",
    "    theta_L = jnp.concatenate((theta_0, theta_L), axis=-1)\n",
    "    flow_loss = -jnp.mean(likelihood_0)\n",
    "    likelihood_L = log_prob.apply(flow_params, x, theta_L, d, xi)\n",
    "\n",
    "    marginal = jax.nn.logsumexp(likelihoods, -1) - math.log(num_samples)\n",
    "    eig_estimate = (likelihoods.exp() * (likelihoods - marginal)).sum(-1).mean(0)\n",
    "    surrogate_loss = eig_estimate.sum() + flow_loss\n",
    "    return surrogate_loss, eig_estimate\n",
    "\n",
    "    # Take N samples of the model\n",
    "    expanded_design = lexpand(design, N)  # N copies of the model\n",
    "    trace = poutine.trace(model).get_trace(expanded_design)\n",
    "    trace.compute_log_prob()\n",
    "    conditional_lp = sum(trace.nodes[l][\"log_prob\"] for l in observation_labels)\n",
    "\n",
    "    y_dict = {l: lexpand(trace.nodes[l][\"value\"], M) for l in observation_labels}\n",
    "    # Resample M values of theta and compute conditional probabilities\n",
    "    conditional_model = pyro.condition(model, data=y_dict)\n",
    "    # Using (M, 1) instead of (M, N) - acceptable to re-use thetas between ys because\n",
    "    # theta comes before y in graphical model\n",
    "    reexpanded_design = lexpand(design, M, 1)  # sample M theta\n",
    "    retrace = poutine.trace(conditional_model).get_trace(reexpanded_design)\n",
    "    retrace.compute_log_prob()\n",
    "    marginal_log_probs = torch.cat([lexpand(conditional_lp, 1),\n",
    "                                    sum(retrace.nodes[l][\"log_prob\"] for l in observation_labels)])\n",
    "    marginal_lp = marginal_log_probs.logsumexp(0) - math.log(M+1)\n",
    "\n",
    "    return _safe_mean_terms(conditional_lp - marginal_lp)\n",
    "\n",
    "\n",
    "@jax.jit\n",
    "def update(\n",
    "    params: hk.Params, prng_key: PRNGKey, opt_state: OptState, batch: Batch\n",
    ") -> Tuple[hk.Params, OptState]:\n",
    "    \"\"\"Single SGD update step.\"\"\"\n",
    "    x, theta, d, xi = prepare_data(batch)\n",
    "    grads = jax.grad(loss_fn)(params, prng_key, x, theta, d, xi)\n",
    "    # grads_d = jax.grad(loss_fn, argnums=5)(params, prng_key, x, theta, d, xi)\n",
    "    updates, new_opt_state = optimizer.update(grads, opt_state)\n",
    "    new_params = optax.apply_updates(params, updates)\n",
    "    return new_params, new_opt_state\n",
    "\n"
   ]
  },
  {
   "attachments": {},
   "cell_type": "markdown",
   "metadata": {},
   "source": [
    "## Doing it completely manual\n",
    "Just to work out the bugs ;)"
   ]
  },
  {
   "cell_type": "code",
   "execution_count": 75,
   "metadata": {},
   "outputs": [],
   "source": [
    "from collections import deque\n",
    "\n",
    "def sim_linear_prior(num_samples: int, key: PRNGKey):\n",
    "    \"\"\"\n",
    "    Simulate prior samples and return their log_prob.\n",
    "    \"\"\"\n",
    "    theta_shape = (2,)\n",
    "\n",
    "    mu = jnp.zeros(theta_shape)\n",
    "    sigma = (3**2) * jnp.ones(theta_shape)\n",
    "\n",
    "    base_distribution = distrax.Independent(  # Should this be independent?\n",
    "        distrax.MultivariateNormalDiag(mu, sigma)\n",
    "    )\n",
    "\n",
    "    samples, log_prob = base_distribution.sample_and_log_prob(seed=key, sample_shape=[num_samples])\n",
    "\n",
    "    return samples, log_prob\n",
    "\n",
    "def jax_lexpand(A, *dimensions):\n",
    "    \"\"\"Expand tensor, adding new dimensions on left.\"\"\"\n",
    "    if jnp.isscalar(A):\n",
    "        A = A * jnp.ones(dimensions)\n",
    "        return A\n",
    "    shape = tuple(dimensions) + A.shape\n",
    "    A = A[jnp.newaxis, ...]\n",
    "    A = jnp.broadcast_to(A, shape)\n",
    "    return A\n",
    "\n",
    "\n",
    "def lfi_pce_eig(params: hk.Params, prng_key: PRNGKey, N: int=100, M: int=10, **kwargs):\n",
    "    keys = jrandom.split(prng_key, 3 + M)\n",
    "    xi = jnp.squeeze(params['xi'])\n",
    "    flow_params = {k: v for k, v in params.items() if k != 'xi'}\n",
    "\n",
    "    # simulate the outcomes before finding their log_probs\n",
    "    X = sim_data(d_sim, num_samples, keys[0])  # Do I need to split up the prng_key?\n",
    "\n",
    "    # I'm implicitly returning the prior here, that's a little annoying...\n",
    "    x, theta_0, d, xi = prepare_data(X)  # TODO: Maybe refactor this?\n",
    "\n",
    "    conditional_lp = log_prob.apply(flow_params, x, theta_0, d, xi)\n",
    "\n",
    "    contrastive_lps = []\n",
    "    thetas = []\n",
    "    # TODO: can this be parallelized to speed up the computation?\n",
    "    for i in range(M):\n",
    "        theta, _ = sim_linear_prior(num_samples, keys[i + 1])\n",
    "        thetas.append(theta)\n",
    "        contrastive_lp = log_prob.apply(flow_params, x, theta, d, xi)\n",
    "        contrastive_lps.append(contrastive_lp)\n",
    "\n",
    "    marginal_log_prbs = jnp.concatenate((jax_lexpand(conditional_lp, 1), jnp.array(contrastive_lps)))\n",
    "\n",
    "    marginal_lp = jax.nn.logsumexp(marginal_log_prbs, 0) - math.log(M + 1)\n",
    "\n",
    "    return sum(conditional_lp - marginal_lp) - jnp.mean(contrastive_lp)\n",
    "\n",
    "\n",
    "@jax.jit\n",
    "def update_pce(\n",
    "    params: hk.Params, prng_key: PRNGKey, opt_state: OptState, N: int, M: int\n",
    ") -> Tuple[hk.Params, OptState]:\n",
    "    \"\"\"Single SGD update step.\"\"\"\n",
    "    grads = jax.grad(lfi_pce_eig)(params, prng_key, N=num_samples, M=inner_samples)\n",
    "    updates, new_opt_state = optimizer.update(grads, opt_state)\n",
    "    new_params = optax.apply_updates(params, updates)\n",
    "    return new_params, new_opt_state\n",
    "\n",
    "\n",
    "# Boilerplate setup\n",
    "seed = 1231\n",
    "M = 10\n",
    "key = jrandom.PRNGKey(seed)\n",
    "\n",
    "d = jnp.array([0.])\n",
    "xi = jnp.array([0.1])\n",
    "if d.size == 0:\n",
    "    d_sim = xi\n",
    "else:\n",
    "    d_sim = jnp.concatenate((d, xi), axis=0)\n",
    "# d_sim = jnp.concatenate((d, xi), axis=0)\n",
    "\n",
    "# Params and hyperparams\n",
    "len_x = len(d_sim)\n",
    "len_d = len(d)\n",
    "len_xi = len(xi)\n",
    "\n",
    "theta_shape = (2,)\n",
    "d_shape = (len(d),)\n",
    "xi_shape = (len_xi,)\n",
    "EVENT_SHAPE = (len(d_sim),)\n",
    "# EVENT_DIM is important for the normalizing flow's block.\n",
    "EVENT_DIM = 1\n",
    "# cond_info_shape = (theta_shape[0], len_d, len_xi)\n",
    "\n",
    "num_samples = 10\n",
    "inner_samples = 10 # AKA M or L in BOED parlance\n",
    "batch_size = 128\n",
    "flow_num_layers = 5 #3 # 10\n",
    "mlp_num_layers = 1 # 3 # 4\n",
    "hidden_size = 8 # 128 # 500\n",
    "num_bins = 4\n",
    "learning_rate = 1e-4\n",
    "warmup_steps = 10\n",
    "early_stopping_memory = 10\n",
    "early_stopping_threshold = 5e-2\n",
    "\n",
    "training_steps = 100\n",
    "eval_frequency = 5\n",
    "\n",
    "# Initialzie the params\n",
    "prng_seq = hk.PRNGSequence(42)  # TODO: Put one of \"keys\" here?\n",
    "params = log_prob.init(\n",
    "    next(prng_seq),\n",
    "    np.zeros((1, *EVENT_SHAPE)),\n",
    "    np.zeros((1, *theta_shape)),\n",
    "    # np.zeros((1, *d_shape)),\n",
    "    np.zeros((1, *xi_shape)),\n",
    ")\n",
    "# init_params = params.copy()\n",
    "params['xi'] = xi\n",
    "\n",
    "optimizer = optax.adam(learning_rate)\n",
    "\n",
    "opt_state = optimizer.init(params)\n",
    "\n",
    "# TODO: put this function in training since d will be changing.\n",
    "# num_samples = 10000\n",
    "# X = sim_data(d_sim, num_samples, key)\n",
    "\n",
    "# shift = X.mean(axis=0)\n",
    "# scale = X.std(axis=0) + 1e-14\n",
    "\n",
    "# # Create tf dataset from sklearn dataset\n",
    "# dataset = tf.data.Dataset.from_tensor_slices(X)\n",
    "\n",
    "# # Splitting into train/validate ds\n",
    "# train = dataset.skip(2000)\n",
    "# val = dataset.take(2000)\n",
    "\n",
    "# # load_dataset(split: tfds.Split, batch_size: int)\n",
    "# train_ds = load_dataset(train, 512)\n",
    "# valid_ds = load_dataset(val, 512)\n",
    "# print(params)\n",
    "# loss_deque = deque(maxlen=early_stopping_memory)\n",
    "# for step in range(training_steps):\n",
    "#     params, opt_state = update_pce(\n",
    "#         params, next(prng_seq), opt_state, N=num_samples, M=M\n",
    "#     )\n",
    "#     # params, opt_state, grads_d = update(\n",
    "#     #     params, next(prng_seq), opt_state, next(train_ds)\n",
    "#     # )\n",
    "\n",
    "#     print(f\"STEP: {step:5d}; Xi: {params['xi']}\")\n",
    "    # if step % eval_frequency == 0:\n",
    "    #     val_loss = eval_fn(params, next(valid_ds))\n",
    "    #     print(f\"STEP: {step:5d}; Validation loss: {val_loss:.3f}\")\n",
    "    \n",
    "    #     loss_deque.append(val_loss)\n",
    "    #     avg_abs_diff = jnp.mean(abs(jnp.array(loss_deque) - sum(loss_deque)/len(loss_deque)))\n",
    "    #     if step > warmup_steps and avg_abs_diff < early_stopping_threshold:\n",
    "    #         break"
   ]
  },
  {
   "cell_type": "code",
   "execution_count": null,
   "metadata": {},
   "outputs": [],
   "source": []
  },
  {
   "cell_type": "code",
   "execution_count": 147,
   "metadata": {},
   "outputs": [],
   "source": [
    "grads[\"xi\"] = grads_xi\n",
    "updates, new_opt_state = optimizer.update(grads, opt_state)\n",
    "new_params = optax.apply_updates(params, updates)"
   ]
  },
  {
   "cell_type": "code",
   "execution_count": null,
   "metadata": {},
   "outputs": [],
   "source": [
    "params['conditioner_module/mlp/~/linear_0']"
   ]
  },
  {
   "cell_type": "code",
   "execution_count": 105,
   "metadata": {},
   "outputs": [
    {
     "data": {
      "text/plain": [
       "DeviceArray(3.6019292, dtype=float32)"
      ]
     },
     "execution_count": 105,
     "metadata": {},
     "output_type": "execute_result"
    }
   ],
   "source": [
    "lfi_pce_eig(params, key, N=num_samples, M=M)"
   ]
  },
  {
   "cell_type": "code",
   "execution_count": 108,
   "metadata": {},
   "outputs": [],
   "source": [
    "grads = jax.grad(lfi_pce_eig)(params, key, N=num_samples, M=M)"
   ]
  },
  {
   "cell_type": "code",
   "execution_count": 109,
   "metadata": {},
   "outputs": [],
   "source": [
    "updates, new_opt_state = optimizer.update(grads, opt_state)\n",
    "new_params = optax.apply_updates(params, updates)"
   ]
  },
  {
   "cell_type": "code",
   "execution_count": null,
   "metadata": {},
   "outputs": [],
   "source": []
  },
  {
   "cell_type": "code",
   "execution_count": 7,
   "metadata": {},
   "outputs": [],
   "source": [
    "params = log_prob.init(\n",
    "    next(prng_seq),\n",
    "    np.zeros((1, *EVENT_SHAPE)),\n",
    "    np.zeros((1, *theta_shape)),\n",
    "    np.zeros((1, *d_shape)),\n",
    "    np.zeros((1, *xi_shape)),\n",
    ")\n",
    "# init_params = params.copy()\n",
    "params['xi'] = xi"
   ]
  },
  {
   "cell_type": "code",
   "execution_count": 77,
   "metadata": {},
   "outputs": [],
   "source": [
    "M = 10\n",
    "keys = jrandom.split(key, 3 + M)\n",
    "num_samples = 10\n",
    "\n",
    "xi = params['xi']\n",
    "flow_params = {k: v for k, v in params.items() if k != 'xi'}\n",
    "\n",
    "X = sim_data(d_sim, num_samples, keys[0])  # Do I need to split up the prng_key?\n",
    "\n",
    "# I'm implicitly returning the prior here, that's a little annoying...\n",
    "x, theta_0, d, xi = prepare_data(X)\n",
    "\n",
    "contrastive_lps = []\n",
    "thetas = []\n",
    "for i in range(M):\n",
    "    theta, _ = sim_linear_prior(num_samples, keys[i + 1])\n",
    "    thetas.append(theta)\n",
    "    contrastive_lp = log_prob.apply(flow_params, x, theta, xi)\n",
    "    contrastive_lps.append(contrastive_lp)\n"
   ]
  },
  {
   "cell_type": "code",
   "execution_count": 78,
   "metadata": {},
   "outputs": [
    {
     "data": {
      "text/plain": [
       "[DeviceArray([[  0.64793307,  12.057756  ],\n",
       "              [ -1.8036    , -21.126171  ],\n",
       "              [  1.133066  ,  11.62901   ],\n",
       "              [ -4.5348973 ,  -7.0127087 ],\n",
       "              [ -5.4115043 ,  -3.4683409 ],\n",
       "              [ -7.423147  ,   7.645422  ],\n",
       "              [  1.5872409 ,  11.221082  ],\n",
       "              [  0.8586352 , -10.206353  ],\n",
       "              [  8.100239  ,  -6.1539264 ],\n",
       "              [-13.176195  ,  10.821227  ]], dtype=float32),\n",
       " DeviceArray([[ -6.1988173 ,  -1.2310148 ],\n",
       "              [-12.849492  , -12.620625  ],\n",
       "              [ -7.4009905 ,  -3.9226563 ],\n",
       "              [ 17.474777  ,  14.818273  ],\n",
       "              [  6.0482283 ,   6.752823  ],\n",
       "              [ 13.28307   ,  -1.4132088 ],\n",
       "              [ -2.7293384 ,   3.487775  ],\n",
       "              [  7.874885  ,  -0.23380284],\n",
       "              [-14.064912  ,  11.756083  ],\n",
       "              [  2.0690577 ,  14.524533  ]], dtype=float32),\n",
       " DeviceArray([[ -3.65689  ,   7.231424 ],\n",
       "              [ -1.9369462,   1.1989701],\n",
       "              [ 12.946467 ,   1.407098 ],\n",
       "              [ -3.5840957, -12.995476 ],\n",
       "              [-12.196788 ,  23.040134 ],\n",
       "              [  3.5272124,  -2.0084808],\n",
       "              [ -2.1063745,  -6.3984814],\n",
       "              [ 14.970311 ,   7.23661  ],\n",
       "              [ -7.285979 ,  -8.209857 ],\n",
       "              [  4.1615047, -17.095598 ]], dtype=float32),\n",
       " DeviceArray([[-13.744735 ,  -1.392093 ],\n",
       "              [  3.3621225,  -1.5808239],\n",
       "              [-17.727169 ,   1.4319452],\n",
       "              [  4.982991 ,  -2.221058 ],\n",
       "              [-14.190501 ,   9.979641 ],\n",
       "              [ 16.577234 ,   3.7251465],\n",
       "              [ -1.0247506, -10.063461 ],\n",
       "              [ 11.156546 , -13.290407 ],\n",
       "              [ 12.168148 ,  -6.211318 ],\n",
       "              [ 20.059345 ,  -8.960184 ]], dtype=float32),\n",
       " DeviceArray([[  3.2364473,  -5.7628765],\n",
       "              [ -1.1260009,   2.75081  ],\n",
       "              [  5.3766537,  -5.6687036],\n",
       "              [-16.1931   ,   4.9224205],\n",
       "              [-20.17436  ,  -4.9318695],\n",
       "              [ -1.8989071, -16.489414 ],\n",
       "              [  3.6700122, -15.912622 ],\n",
       "              [  2.958536 ,  -3.0327377],\n",
       "              [ -7.1398616,  -3.5663493],\n",
       "              [ -7.7596307,  13.272042 ]], dtype=float32),\n",
       " DeviceArray([[  3.3430977 ,   1.6305696 ],\n",
       "              [ -5.9304676 ,   1.5628601 ],\n",
       "              [  3.458716  ,  -1.5521276 ],\n",
       "              [-23.666735  ,   7.204771  ],\n",
       "              [  2.3833272 ,  12.6059885 ],\n",
       "              [  0.08012465,  16.417442  ],\n",
       "              [ 11.023899  ,   1.334738  ],\n",
       "              [ -8.274364  ,   6.487465  ],\n",
       "              [  4.8539615 ,   7.545137  ],\n",
       "              [ 15.07491   ,   9.83883   ]], dtype=float32),\n",
       " DeviceArray([[ -4.6484966 ,   2.0848312 ],\n",
       "              [ -1.5853441 ,   8.249429  ],\n",
       "              [-14.634294  ,  11.465833  ],\n",
       "              [  1.3609746 ,  -5.1135073 ],\n",
       "              [  7.9940386 ,  -3.1233866 ],\n",
       "              [ -6.9010124 ,   6.668855  ],\n",
       "              [  0.25995153,  -3.5660882 ],\n",
       "              [ -8.069077  ,  -4.7544723 ],\n",
       "              [  4.3881006 ,  -1.1735852 ],\n",
       "              [ -7.151715  ,   8.583297  ]], dtype=float32),\n",
       " DeviceArray([[  5.995773 ,  -5.84251  ],\n",
       "              [  3.3989809,   2.707823 ],\n",
       "              [  3.953537 ,  11.817855 ],\n",
       "              [ -9.604214 , -12.563715 ],\n",
       "              [ -0.3455139,  14.815364 ],\n",
       "              [-16.427826 ,  10.514871 ],\n",
       "              [-10.316995 ,   6.9162083],\n",
       "              [ -5.8247757, -15.326024 ],\n",
       "              [ -2.8184185,  -2.100858 ],\n",
       "              [ -8.592105 ,  -4.4695926]], dtype=float32),\n",
       " DeviceArray([[ 4.266702  , -3.480713  ],\n",
       "              [-3.6858387 ,  4.6207247 ],\n",
       "              [-5.331479  , -3.3922307 ],\n",
       "              [ 2.2157893 , -9.628382  ],\n",
       "              [ 7.437256  , -5.187854  ],\n",
       "              [ 2.8552182 , -2.1501591 ],\n",
       "              [10.239139  , -0.30657387],\n",
       "              [ 4.5631547 ,  3.3490367 ],\n",
       "              [-2.8893983 ,  3.3446567 ],\n",
       "              [10.422832  , 20.6276    ]], dtype=float32),\n",
       " DeviceArray([[ -4.398278 ,   3.1264844],\n",
       "              [ -9.21753  ,   7.2552476],\n",
       "              [-11.973638 ,  -5.0422826],\n",
       "              [-13.711408 ,   0.8138804],\n",
       "              [ 21.733585 ,  -7.9876537],\n",
       "              [  5.6295214,  -1.5190306],\n",
       "              [ -3.4423   ,   4.632292 ],\n",
       "              [ -2.259205 ,   3.053364 ],\n",
       "              [ -5.7116723, -15.013002 ],\n",
       "              [ -8.434806 ,   5.2537813]], dtype=float32)]"
      ]
     },
     "execution_count": 78,
     "metadata": {},
     "output_type": "execute_result"
    }
   ],
   "source": [
    "thetas"
   ]
  },
  {
   "cell_type": "code",
   "execution_count": 79,
   "metadata": {},
   "outputs": [
    {
     "data": {
      "text/plain": [
       "DeviceArray([[  0.64793307,  12.057756  ],\n",
       "             [ -1.8036    , -21.126171  ],\n",
       "             [  1.133066  ,  11.62901   ],\n",
       "             [ -4.5348973 ,  -7.0127087 ],\n",
       "             [ -5.4115043 ,  -3.4683409 ],\n",
       "             [ -7.423147  ,   7.645422  ],\n",
       "             [  1.5872409 ,  11.221082  ],\n",
       "             [  0.8586352 , -10.206353  ],\n",
       "             [  8.100239  ,  -6.1539264 ],\n",
       "             [-13.176195  ,  10.821227  ]], dtype=float32)"
      ]
     },
     "execution_count": 79,
     "metadata": {},
     "output_type": "execute_result"
    }
   ],
   "source": [
    "thetas[0]"
   ]
  },
  {
   "cell_type": "code",
   "execution_count": 81,
   "metadata": {},
   "outputs": [
    {
     "data": {
      "text/plain": [
       "DeviceArray([-6.6468067, -8.090832 , -6.516926 , -7.5159564, -6.470993 ,\n",
       "             -7.5977902, -6.9273844, -6.67619  , -9.048645 , -6.1884484],            dtype=float32)"
      ]
     },
     "execution_count": 81,
     "metadata": {},
     "output_type": "execute_result"
    }
   ],
   "source": [
    "log_prob.apply(flow_params, x, thetas[0], xi)"
   ]
  },
  {
   "cell_type": "code",
   "execution_count": 82,
   "metadata": {},
   "outputs": [
    {
     "data": {
      "text/plain": [
       "DeviceArray([[ -6.1988173 ,  -1.2310148 ],\n",
       "             [-12.849492  , -12.620625  ],\n",
       "             [ -7.4009905 ,  -3.9226563 ],\n",
       "             [ 17.474777  ,  14.818273  ],\n",
       "             [  6.0482283 ,   6.752823  ],\n",
       "             [ 13.28307   ,  -1.4132088 ],\n",
       "             [ -2.7293384 ,   3.487775  ],\n",
       "             [  7.874885  ,  -0.23380284],\n",
       "             [-14.064912  ,  11.756083  ],\n",
       "             [  2.0690577 ,  14.524533  ]], dtype=float32)"
      ]
     },
     "execution_count": 82,
     "metadata": {},
     "output_type": "execute_result"
    }
   ],
   "source": [
    "thetas[1]"
   ]
  },
  {
   "cell_type": "code",
   "execution_count": 83,
   "metadata": {},
   "outputs": [
    {
     "data": {
      "text/plain": [
       "DeviceArray([-6.6468067, -8.090832 , -6.516926 , -7.5159564, -6.470993 ,\n",
       "             -7.5977902, -6.9273844, -6.67619  , -9.048645 , -6.1884484],            dtype=float32)"
      ]
     },
     "execution_count": 83,
     "metadata": {},
     "output_type": "execute_result"
    }
   ],
   "source": [
    "log_prob.apply(flow_params, x, thetas[1], xi)"
   ]
  },
  {
   "attachments": {},
   "cell_type": "markdown",
   "metadata": {},
   "source": [
    "Am I think about this the wrong way? When I generate samples and then check the log_prob earlier while varying the conditioning parameters, it turned out as expected. Here, with different theta values, I get the same `log_prob`. There has to be a bug or issue somewhere else in this code..."
   ]
  },
  {
   "cell_type": "code",
   "execution_count": null,
   "metadata": {},
   "outputs": [],
   "source": []
  },
  {
   "cell_type": "code",
   "execution_count": 84,
   "metadata": {},
   "outputs": [
    {
     "data": {
      "text/plain": [
       "DeviceArray([ True,  True,  True,  True,  True,  True,  True,  True,\n",
       "              True,  True], dtype=bool)"
      ]
     },
     "execution_count": 84,
     "metadata": {},
     "output_type": "execute_result"
    }
   ],
   "source": [
    "contrastive_lps[0] == contrastive_lps[4]\n",
    "# wtf? get back to this later."
   ]
  },
  {
   "cell_type": "code",
   "execution_count": 55,
   "metadata": {},
   "outputs": [],
   "source": [
    "marginal_log_prbs = jnp.concatenate((jax_lexpand(conditional_lp, 1), jnp.array(contrastive_lps)))"
   ]
  },
  {
   "cell_type": "code",
   "execution_count": 56,
   "metadata": {},
   "outputs": [
    {
     "data": {
      "text/plain": [
       "(11, 10)"
      ]
     },
     "execution_count": 56,
     "metadata": {},
     "output_type": "execute_result"
    }
   ],
   "source": [
    "marginal_log_prbs.shape  # This may need to have an extra dimension"
   ]
  },
  {
   "cell_type": "code",
   "execution_count": 72,
   "metadata": {},
   "outputs": [],
   "source": [
    "import math\n",
    "marginal_lp = jax.nn.logsumexp(marginal_log_prbs, 0) - math.log(M + 1)"
   ]
  },
  {
   "cell_type": "code",
   "execution_count": 75,
   "metadata": {},
   "outputs": [
    {
     "data": {
      "text/plain": [
       "(10,)"
      ]
     },
     "execution_count": 75,
     "metadata": {},
     "output_type": "execute_result"
    }
   ],
   "source": [
    "# marginal_log_prbs -> marginal_lp needs to be over 0th dimension to remove 11\n",
    "marginal_lp.shape"
   ]
  },
  {
   "cell_type": "code",
   "execution_count": 71,
   "metadata": {},
   "outputs": [
    {
     "data": {
      "text/plain": [
       "(10,)"
      ]
     },
     "execution_count": 71,
     "metadata": {},
     "output_type": "execute_result"
    }
   ],
   "source": [
    "conditional_lp.shape  # Think this needs to be a 1D array not scalar"
   ]
  },
  {
   "cell_type": "code",
   "execution_count": 74,
   "metadata": {},
   "outputs": [
    {
     "data": {
      "text/plain": [
       "DeviceArray([0., 0., 0., 0., 0., 0., 0., 0., 0., 0.], dtype=float32)"
      ]
     },
     "execution_count": 74,
     "metadata": {},
     "output_type": "execute_result"
    }
   ],
   "source": [
    "conditional_lp - marginal_lp"
   ]
  },
  {
   "cell_type": "code",
   "execution_count": 61,
   "metadata": {},
   "outputs": [],
   "source": [
    "def _safe_mean_terms(terms):\n",
    "    mask = torch.isnan(terms) | (terms == float('-inf')) | (terms == float('inf'))\n",
    "    if terms.dtype is torch.float32:\n",
    "        nonnan = (~mask).sum(0).float()\n",
    "    elif terms.dtype is torch.float64:\n",
    "        nonnan = (~mask).sum(0).double()\n",
    "    terms[mask] = 0.\n",
    "    loss = terms.sum(0) / nonnan\n",
    "    agg_loss = loss.sum()\n",
    "    return agg_loss, loss"
   ]
  },
  {
   "cell_type": "code",
   "execution_count": null,
   "metadata": {},
   "outputs": [],
   "source": []
  },
  {
   "cell_type": "code",
   "execution_count": null,
   "metadata": {},
   "outputs": [],
   "source": []
  },
  {
   "cell_type": "code",
   "execution_count": 5,
   "metadata": {},
   "outputs": [
    {
     "data": {
      "text/plain": [
       "dict_keys(['conditioner_module/linear', 'conditioner_module/linear_1', 'conditioner_module/linear_2', 'conditioner_module/linear_3', 'conditioner_module/linear_4', 'conditioner_module/mlp/~/linear_0', 'conditioner_module/mlp_1/~/linear_0', 'conditioner_module/mlp_2/~/linear_0', 'conditioner_module/mlp_3/~/linear_0'])"
      ]
     },
     "execution_count": 5,
     "metadata": {},
     "output_type": "execute_result"
    }
   ],
   "source": [
    "params.keys()"
   ]
  },
  {
   "cell_type": "code",
   "execution_count": 19,
   "metadata": {},
   "outputs": [],
   "source": [
    "params['xi'] = 1"
   ]
  },
  {
   "cell_type": "code",
   "execution_count": 20,
   "metadata": {},
   "outputs": [
    {
     "data": {
      "text/plain": [
       "dict_keys(['conditioner_module/linear', 'conditioner_module/linear_1', 'conditioner_module/linear_2', 'conditioner_module/linear_3', 'conditioner_module/linear_4', 'conditioner_module/mlp/~/linear_0', 'conditioner_module/mlp_1/~/linear_0', 'conditioner_module/mlp_2/~/linear_0', 'conditioner_module/mlp_3/~/linear_0', 'xi'])"
      ]
     },
     "execution_count": 20,
     "metadata": {},
     "output_type": "execute_result"
    }
   ],
   "source": [
    "params.keys()"
   ]
  },
  {
   "cell_type": "code",
   "execution_count": 21,
   "metadata": {},
   "outputs": [],
   "source": [
    "testy = params.pop('xi', None)"
   ]
  },
  {
   "cell_type": "code",
   "execution_count": 22,
   "metadata": {},
   "outputs": [
    {
     "data": {
      "text/plain": [
       "dict_keys(['conditioner_module/linear', 'conditioner_module/linear_1', 'conditioner_module/linear_2', 'conditioner_module/linear_3', 'conditioner_module/linear_4', 'conditioner_module/mlp/~/linear_0', 'conditioner_module/mlp_1/~/linear_0', 'conditioner_module/mlp_2/~/linear_0', 'conditioner_module/mlp_3/~/linear_0'])"
      ]
     },
     "execution_count": 22,
     "metadata": {},
     "output_type": "execute_result"
    }
   ],
   "source": [
    "params.keys()"
   ]
  },
  {
   "cell_type": "code",
   "execution_count": 23,
   "metadata": {},
   "outputs": [
    {
     "data": {
      "text/plain": [
       "1"
      ]
     },
     "execution_count": 23,
     "metadata": {},
     "output_type": "execute_result"
    }
   ],
   "source": [
    "testy"
   ]
  },
  {
   "attachments": {},
   "cell_type": "markdown",
   "metadata": {},
   "source": [
    "Time to train. Just need a vector of the samples and thetas that produced them. Don't need a simulator or the prior quite yet.\n",
    "- How do I track the training curves in Jax/Haiku? Gave in and am using WANDB."
   ]
  },
  {
   "cell_type": "code",
   "execution_count": 13,
   "metadata": {},
   "outputs": [
    {
     "name": "stdout",
     "output_type": "stream",
     "text": [
      "STEP:     0; Validation loss: 9.587\n",
      "STEP:    10; Validation loss: 9.453\n",
      "STEP:    20; Validation loss: 9.295\n",
      "STEP:    30; Validation loss: 9.160\n",
      "STEP:    40; Validation loss: 8.990\n",
      "STEP:    50; Validation loss: 8.950\n",
      "STEP:    60; Validation loss: 8.914\n",
      "STEP:    70; Validation loss: 8.899\n",
      "STEP:    80; Validation loss: 8.833\n",
      "STEP:    90; Validation loss: 8.782\n",
      "STEP:   100; Validation loss: 8.803\n",
      "STEP:   110; Validation loss: 8.844\n",
      "STEP:   120; Validation loss: 8.850\n",
      "STEP:   130; Validation loss: 8.681\n",
      "STEP:   140; Validation loss: 8.731\n",
      "STEP:   150; Validation loss: 8.693\n",
      "STEP:   160; Validation loss: 8.693\n",
      "STEP:   170; Validation loss: 8.739\n",
      "STEP:   180; Validation loss: 8.609\n",
      "STEP:   190; Validation loss: 8.722\n",
      "STEP:   200; Validation loss: 8.581\n",
      "STEP:   210; Validation loss: 8.620\n",
      "STEP:   220; Validation loss: 8.705\n"
     ]
    }
   ],
   "source": [
    "# import wandb\n",
    "\n",
    "# wandb.init(project=\"lfiax_linRegression_ACE\", entity=\"vz_uci\")\n",
    "\n",
    "# TODO: Put this in hydra config file\n",
    "seed = 1231\n",
    "key = jrandom.PRNGKey(seed)\n",
    "\n",
    "# d = jnp.array([-10.0, 0.0, 5.0, 10.0])\n",
    "# d = jnp.array([1., 2.])\n",
    "# d = jnp.array([1.])\n",
    "# d_obs = jnp.array([0.])\n",
    "d_obs = jnp.array([])\n",
    "# d_prop = jrandom.uniform(key, shape=(1,), minval=-10.0, maxval=10.0)\n",
    "xi = jnp.array([0.])\n",
    "# d_prop = jnp.array([])\n",
    "d_sim = jnp.concatenate((d_obs, xi), axis=0)\n",
    "len_x = len(d_sim)\n",
    "len_d = len(d_obs)\n",
    "len_xi = len(xi)\n",
    "num_samples = 100\n",
    "\n",
    "# Params and hyperparams\n",
    "theta_shape = (2,)\n",
    "d_shape = (len(d_obs),)\n",
    "xi_shape = (len_xi,)\n",
    "EVENT_SHAPE = (len(d_sim),)\n",
    "# EVENT_DIM is important for the normalizing flow's block.\n",
    "EVENT_DIM = 1\n",
    "cond_info_shape = (theta_shape[0], len_d, len_xi)\n",
    "\n",
    "batch_size = 128\n",
    "flow_num_layers = 5 #3 # 10\n",
    "mlp_num_layers = 4 # 3 # 4\n",
    "hidden_size = 128 # 500\n",
    "num_bins = 4\n",
    "learning_rate = 1e-4\n",
    "warmup_steps = 100\n",
    "early_stopping_memory = 10\n",
    "early_stopping_threshold = 5e-2\n",
    "\n",
    "training_steps = 500\n",
    "eval_frequency = 10\n",
    "\n",
    "optimizer = optax.adam(learning_rate)\n",
    "\n",
    "# Simulating the data to be used to train the flow.\n",
    "num_samples = 10000\n",
    "# TODO: put this function in training since d will be changing.\n",
    "X = sim_data(d_sim, num_samples, key)\n",
    "\n",
    "shift = X.mean(axis=0)\n",
    "scale = X.std(axis=0) + 1e-14\n",
    "\n",
    "# Create tf dataset from sklearn dataset\n",
    "dataset = tf.data.Dataset.from_tensor_slices(X)\n",
    "\n",
    "# Splitting into train/validate ds\n",
    "train = dataset.skip(2000)\n",
    "val = dataset.take(2000)\n",
    "\n",
    "# load_dataset(split: tfds.Split, batch_size: int)\n",
    "train_ds = load_dataset(train, 512)\n",
    "valid_ds = load_dataset(val, 512)\n",
    "\n",
    "# Training\n",
    "prng_seq = hk.PRNGSequence(42)\n",
    "params = log_prob.init(\n",
    "    next(prng_seq),\n",
    "    np.zeros((1, *EVENT_SHAPE)),\n",
    "    np.zeros((1, *theta_shape)),\n",
    "    np.zeros((1, *d_shape)),\n",
    "    np.zeros((1, *xi_shape)),\n",
    ")\n",
    "params['xi'] = xi\n",
    "opt_state = optimizer.init(params)\n",
    "\n",
    "# Can change the length of the deque for more/less leniency in measuring the loss\n",
    "loss_deque = deque(maxlen=early_stopping_memory)\n",
    "for step in range(training_steps):\n",
    "    params, opt_state, grads_d = update(\n",
    "        params, next(prng_seq), opt_state, next(train_ds)\n",
    "    )\n",
    "\n",
    "    if step % eval_frequency == 0:\n",
    "        val_loss = eval_fn(params, next(valid_ds))\n",
    "        print(f\"STEP: {step:5d}; Validation loss: {val_loss:.3f}\")\n",
    "    \n",
    "        loss_deque.append(val_loss)\n",
    "        avg_abs_diff = jnp.mean(abs(jnp.array(loss_deque) - sum(loss_deque)/len(loss_deque)))\n",
    "        if step > warmup_steps and avg_abs_diff < early_stopping_threshold:\n",
    "            break\n"
   ]
  },
  {
   "cell_type": "code",
   "execution_count": 16,
   "metadata": {},
   "outputs": [
    {
     "data": {
      "text/plain": [
       "DeviceArray([10.], dtype=float32)"
      ]
     },
     "execution_count": 16,
     "metadata": {},
     "output_type": "execute_result"
    }
   ],
   "source": [
    "params['xi']"
   ]
  },
  {
   "cell_type": "code",
   "execution_count": 46,
   "metadata": {},
   "outputs": [
    {
     "data": {
      "text/plain": [
       "(1,)"
      ]
     },
     "execution_count": 46,
     "metadata": {},
     "output_type": "execute_result"
    }
   ],
   "source": [
    "d_prop.shape"
   ]
  },
  {
   "attachments": {},
   "cell_type": "markdown",
   "metadata": {},
   "source": [
    "Making the sampling/log-prob stuff work. Now to actually implment LFI ACE. I've got the flow, now just going to do some of the ACE computations manually."
   ]
  },
  {
   "cell_type": "code",
   "execution_count": null,
   "metadata": {},
   "outputs": [],
   "source": [
    "def jax_lexpand(A, *dimensions):\n",
    "    \"\"\"Expand tensor, adding new dimensions on left.\"\"\"\n",
    "    if jnp.isscalar(A):\n",
    "        A = A * jnp.ones(dimensions)\n",
    "        return A\n",
    "    shape = tuple(dimensions) + A.shape\n",
    "    A = A[jnp.newaxis, ...]\n",
    "    A = jnp.broadcast_to(A, shape)\n",
    "    return A\n",
    "\n",
    "\n",
    "# Walking through and commenting the code\n",
    "def lfi_ace_eig_loss(model:NormalizingFlow, guide:NormalizingFlow, M, observation_labels, target_labels):\n",
    "    def loss_fn(design, num_particles, evaluation=False, **kwargs):\n",
    "        N = num_particles\n",
    "        # Expand to the number of parallel designs being evaluated\n",
    "        expanded_design = lexpand(design, N)\n",
    "        \n",
    "        # TODO: make a for loop over the proposed models here.\n",
    "        for model in models:\n",
    "            # TODO: would be cool to make sampling from the model's prior a method\n",
    "             # Hmm I need N copies for parallelization. I can figure that out later, though.\n",
    "            model_thetas_0 = model.prior_distribution.sample(num_samples)\n",
    "            y_0, log_prob_y_0 = model.sample_with_log_prob(model_thetas_0, expanded_design)\n",
    "            # Get a dictionary of the expanded y and theta values, just make M copies of y values\n",
    "            # TODO: think of a better way to add these into expanded dictionary values...\n",
    "            y_dict_exp = lexpand(y, M)\n",
    "\n",
    "            # This is essentially the p(y|theta)p(theta)\n",
    "            # Ohh, each model will have two ratios, it's current prob and its prior one\n",
    "            marginal_terms_cross = sum(model.prior_distribution.log_prob(model_thetas_0))\n",
    "            marginal_terms_cross += sum(log_prob_y_0)\n",
    "\n",
    "        # Pray that jax can handle this parallelization - vmap and pmap to the rescue!...?\n",
    "        for _ in range(m):\n",
    "            for model in models:\n",
    "                # Sample from q(theta | y, d) using the guide normalizing flow\n",
    "                theta, log_prob = guide.sample_with_log_prob(y, expanded_design, observation_labels, target_labels)\n",
    "                theta_y_dict = {l: theta[l] for l in target_labels}\n",
    "                theta_y_dict.update(y_dict_exp)\n",
    "\n",
    "                marginal_terms_proposal = -sum(log_prob[l] for l in target_labels)\n",
    "                marginal_terms_proposal += sum(log_prob[l] for l in target_labels)\n",
    "                marginal_terms_proposal += sum(log_prob[l] for l in observation_labels)\n",
    "\n",
    "                marginal_terms = torch.cat([lexpand(marginal_terms_cross, 1), marginal_terms_proposal])\n",
    "                terms = -marginal_terms.logsumexp(0) + math.log(M + 1)\n",
    "\n",
    "                # At eval time, add p(y | theta, d) terms\n",
    "                if evaluation:\n",
    "                    terms += sum(log_prob[l] for l in observation_labels)\n",
    "                return _safe_mean_terms(terms)\n",
    "\n",
    "        # Sample from q(theta | y, d) using the guide normalizing flow\n",
    "        theta, log_prob = guide.sample_with_log_prob(y, expanded_design, observation_labels, target_labels)\n",
    "        theta_y_dict = {l: theta[l] for l in target_labels}\n",
    "        theta_y_dict.update(y_dict_exp)\n",
    "\n",
    "        marginal_terms_proposal = -sum(log_prob[l] for l in target_labels)\n",
    "        marginal_terms_proposal += sum(log_prob[l] for l in target_labels)\n",
    "        marginal_terms_proposal += sum(log_prob[l] for l in observation_labels)\n",
    "\n",
    "        marginal_terms = torch.cat([lexpand(marginal_terms_cross, 1), marginal_terms_proposal])\n",
    "        terms = -marginal_terms.logsumexp(0) + math.log(M + 1)\n",
    "\n",
    "        # At eval time, add p(y | theta, d) terms\n",
    "        if evaluation:\n",
    "            terms += sum(log_prob[l] for l in observation_labels)\n",
    "        return _safe_mean_terms(terms)\n",
    "\n",
    "    return loss_fn\n"
   ]
  },
  {
   "cell_type": "code",
   "execution_count": null,
   "metadata": {},
   "outputs": [],
   "source": []
  },
  {
   "cell_type": "code",
   "execution_count": null,
   "metadata": {},
   "outputs": [],
   "source": []
  },
  {
   "cell_type": "code",
   "execution_count": null,
   "metadata": {},
   "outputs": [],
   "source": []
  },
  {
   "cell_type": "code",
   "execution_count": null,
   "metadata": {},
   "outputs": [],
   "source": []
  },
  {
   "cell_type": "code",
   "execution_count": 111,
   "metadata": {},
   "outputs": [],
   "source": [
    "device = 'cpu'\n",
    "p = 20\n",
    "n = 20\n",
    "N = 2 # num_parallel\n",
    "M = 2\n",
    "design = torch.zeros([10, 20, 20])\n",
    "expanded_design = lexpand(design, N)\n",
    "\n",
    "w_prior_loc = torch.zeros(p, device=device)\n",
    "w_prior_scale = scale * torch.ones(p, device=device)\n",
    "sigma_prior_scale = scale * torch.tensor(1., device=device)\n",
    "\n",
    "model_learn_xi = make_regression_model(\n",
    "    w_prior_loc, w_prior_scale, sigma_prior_scale, xi_init)\n",
    "\n",
    "model = model_learn_xi\n",
    "guide = PosteriorGuide(n, p, (N,)).to(device)\n",
    "observation_labels = [\"y\"]\n",
    "target_labels = ['w', 'sigma']"
   ]
  },
  {
   "cell_type": "code",
   "execution_count": 91,
   "metadata": {},
   "outputs": [],
   "source": [
    "trace = poutine.trace(model).get_trace(expanded_design)\n",
    "y_dict_exp = {l: lexpand(trace.nodes[l][\"value\"], M) for l in observation_labels}\n",
    "y_dict = {l: trace.nodes[l][\"value\"] for l in observation_labels}\n",
    "theta_dict = {l: trace.nodes[l][\"value\"] for l in target_labels}"
   ]
  },
  {
   "cell_type": "code",
   "execution_count": 101,
   "metadata": {},
   "outputs": [
    {
     "data": {
      "text/plain": [
       "torch.Size([2, 10, 20])"
      ]
     },
     "execution_count": 101,
     "metadata": {},
     "output_type": "execute_result"
    }
   ],
   "source": [
    "y_dict['y'].shape"
   ]
  },
  {
   "cell_type": "code",
   "execution_count": 104,
   "metadata": {},
   "outputs": [
    {
     "data": {
      "text/plain": [
       "torch.Size([2, 10, 20])"
      ]
     },
     "execution_count": 104,
     "metadata": {},
     "output_type": "execute_result"
    }
   ],
   "source": [
    "theta_dict['w'].shape"
   ]
  },
  {
   "cell_type": "code",
   "execution_count": 105,
   "metadata": {},
   "outputs": [
    {
     "data": {
      "text/plain": [
       "torch.Size([2, 10])"
      ]
     },
     "execution_count": 105,
     "metadata": {},
     "output_type": "execute_result"
    }
   ],
   "source": [
    "theta_dict['sigma'].shape"
   ]
  },
  {
   "cell_type": "code",
   "execution_count": 107,
   "metadata": {},
   "outputs": [
    {
     "data": {
      "text/plain": [
       "[torch.Size([2, 10]), torch.Size([2, 10])]"
      ]
     },
     "execution_count": 107,
     "metadata": {},
     "output_type": "execute_result"
    }
   ],
   "source": [
    "[trace.nodes[l][\"log_prob\"].shape for l in target_labels]"
   ]
  },
  {
   "attachments": {},
   "cell_type": "markdown",
   "metadata": {},
   "source": [
    "That's what's throwing me off. Determining the `log_prob` of the `w` vector compresses it for some reason... Oh, wait, it's the probability of each *vector*. That's why it's compressed to the shape of the `y` and `sigma` shapes. Yea, that makes a lot more sense."
   ]
  },
  {
   "cell_type": "code",
   "execution_count": 92,
   "metadata": {},
   "outputs": [],
   "source": [
    "trace.compute_log_prob()\n",
    "# This is taking the log_prob of a vector from a distribution. I can either use a distribution that \n",
    "# is in a vector format or I think it should be fine to add two separate ones together...\n",
    "marginal_terms_cross = sum(trace.nodes[l][\"log_prob\"] for l in target_labels)"
   ]
  },
  {
   "cell_type": "code",
   "execution_count": 108,
   "metadata": {},
   "outputs": [],
   "source": [
    "marginal_terms_cross += sum(trace.nodes[l][\"log_prob\"] for l in observation_labels)"
   ]
  },
  {
   "cell_type": "code",
   "execution_count": 109,
   "metadata": {},
   "outputs": [
    {
     "data": {
      "text/plain": [
       "tensor([[-48.1695, -70.6690, -58.5410, -57.8346, -82.7463, -79.5401, -34.3802,\n",
       "         -75.5568, -62.8853, -90.3731],\n",
       "        [-68.9690, -46.9697, -79.1669, -81.4540, -75.3442, -28.8084, -77.4504,\n",
       "         -67.5315,   2.8248, -70.4339]], grad_fn=<AddBackward0>)"
      ]
     },
     "execution_count": 109,
     "metadata": {},
     "output_type": "execute_result"
    }
   ],
   "source": [
    "marginal_terms_cross"
   ]
  },
  {
   "attachments": {},
   "cell_type": "markdown",
   "metadata": {},
   "source": [
    "This next part would be the denominator of LFI-ACE with the sum of all of the models' log_probs. The numerator might actually be the sum of all the log_probs. The denominator would be the weighted sum... Yea, that makes more sense....\n",
    "\n",
    "Part of the loss could then just be adding on the loss of the prediction of each normalizing flow. That makes one scalar loss. Although, there's an EIG for each of the 'y' outputs, too."
   ]
  },
  {
   "cell_type": "code",
   "execution_count": 112,
   "metadata": {},
   "outputs": [
    {
     "ename": "RuntimeError",
     "evalue": "The size of tensor a (2) must match the size of tensor b (10) at non-singleton dimension 1\nTrace Shapes:\n Param Sites:\nSample Sites:",
     "output_type": "error",
     "traceback": [
      "\u001b[0;31m---------------------------------------------------------------------------\u001b[0m",
      "\u001b[0;31mRuntimeError\u001b[0m                              Traceback (most recent call last)",
      "File \u001b[0;32m~/anaconda3/envs/sdm3/lib/python3.9/site-packages/pyro/poutine/trace_messenger.py:174\u001b[0m, in \u001b[0;36mTraceHandler.__call__\u001b[0;34m(self, *args, **kwargs)\u001b[0m\n\u001b[1;32m    173\u001b[0m \u001b[39mtry\u001b[39;00m:\n\u001b[0;32m--> 174\u001b[0m     ret \u001b[39m=\u001b[39m \u001b[39mself\u001b[39;49m\u001b[39m.\u001b[39;49mfn(\u001b[39m*\u001b[39;49margs, \u001b[39m*\u001b[39;49m\u001b[39m*\u001b[39;49mkwargs)\n\u001b[1;32m    175\u001b[0m \u001b[39mexcept\u001b[39;00m (\u001b[39mValueError\u001b[39;00m, \u001b[39mRuntimeError\u001b[39;00m) \u001b[39mas\u001b[39;00m e:\n",
      "File \u001b[0;32m~/anaconda3/envs/sdm3/lib/python3.9/site-packages/pyro/poutine/messenger.py:12\u001b[0m, in \u001b[0;36m_context_wrap\u001b[0;34m(context, fn, *args, **kwargs)\u001b[0m\n\u001b[1;32m     11\u001b[0m \u001b[39mwith\u001b[39;00m context:\n\u001b[0;32m---> 12\u001b[0m     \u001b[39mreturn\u001b[39;00m fn(\u001b[39m*\u001b[39;49margs, \u001b[39m*\u001b[39;49m\u001b[39m*\u001b[39;49mkwargs)\n",
      "File \u001b[0;32m~/anaconda3/envs/sdm3/lib/python3.9/site-packages/torch/nn/modules/module.py:1190\u001b[0m, in \u001b[0;36mModule._call_impl\u001b[0;34m(self, *input, **kwargs)\u001b[0m\n\u001b[1;32m   1188\u001b[0m \u001b[39mif\u001b[39;00m \u001b[39mnot\u001b[39;00m (\u001b[39mself\u001b[39m\u001b[39m.\u001b[39m_backward_hooks \u001b[39mor\u001b[39;00m \u001b[39mself\u001b[39m\u001b[39m.\u001b[39m_forward_hooks \u001b[39mor\u001b[39;00m \u001b[39mself\u001b[39m\u001b[39m.\u001b[39m_forward_pre_hooks \u001b[39mor\u001b[39;00m _global_backward_hooks\n\u001b[1;32m   1189\u001b[0m         \u001b[39mor\u001b[39;00m _global_forward_hooks \u001b[39mor\u001b[39;00m _global_forward_pre_hooks):\n\u001b[0;32m-> 1190\u001b[0m     \u001b[39mreturn\u001b[39;00m forward_call(\u001b[39m*\u001b[39;49m\u001b[39minput\u001b[39;49m, \u001b[39m*\u001b[39;49m\u001b[39m*\u001b[39;49mkwargs)\n\u001b[1;32m   1191\u001b[0m \u001b[39m# Do not call functions when jit is used\u001b[39;00m\n",
      "Cell \u001b[0;32mIn [12], line 108\u001b[0m, in \u001b[0;36mPosteriorGuide.forward\u001b[0;34m(self, y_dict, design_prototype, observation_labels, target_labels)\u001b[0m\n\u001b[1;32m    107\u001b[0m y \u001b[39m=\u001b[39m y_dict[\u001b[39m\"\u001b[39m\u001b[39my\u001b[39m\u001b[39m\"\u001b[39m] \u001b[39m-\u001b[39m \u001b[39m.5\u001b[39m\n\u001b[0;32m--> 108\u001b[0m x \u001b[39m=\u001b[39m \u001b[39mself\u001b[39m\u001b[39m.\u001b[39mrelu(\u001b[39mself\u001b[39;49m\u001b[39m.\u001b[39;49mlinear1(y))\n\u001b[1;32m    109\u001b[0m x \u001b[39m=\u001b[39m \u001b[39mself\u001b[39m\u001b[39m.\u001b[39mrelu(\u001b[39mself\u001b[39m\u001b[39m.\u001b[39mlinear2(x))\n",
      "File \u001b[0;32m~/anaconda3/envs/sdm3/lib/python3.9/site-packages/torch/nn/modules/module.py:1190\u001b[0m, in \u001b[0;36mModule._call_impl\u001b[0;34m(self, *input, **kwargs)\u001b[0m\n\u001b[1;32m   1188\u001b[0m \u001b[39mif\u001b[39;00m \u001b[39mnot\u001b[39;00m (\u001b[39mself\u001b[39m\u001b[39m.\u001b[39m_backward_hooks \u001b[39mor\u001b[39;00m \u001b[39mself\u001b[39m\u001b[39m.\u001b[39m_forward_hooks \u001b[39mor\u001b[39;00m \u001b[39mself\u001b[39m\u001b[39m.\u001b[39m_forward_pre_hooks \u001b[39mor\u001b[39;00m _global_backward_hooks\n\u001b[1;32m   1189\u001b[0m         \u001b[39mor\u001b[39;00m _global_forward_hooks \u001b[39mor\u001b[39;00m _global_forward_pre_hooks):\n\u001b[0;32m-> 1190\u001b[0m     \u001b[39mreturn\u001b[39;00m forward_call(\u001b[39m*\u001b[39;49m\u001b[39minput\u001b[39;49m, \u001b[39m*\u001b[39;49m\u001b[39m*\u001b[39;49mkwargs)\n\u001b[1;32m   1191\u001b[0m \u001b[39m# Do not call functions when jit is used\u001b[39;00m\n",
      "Cell \u001b[0;32mIn [12], line 92\u001b[0m, in \u001b[0;36mTensorLinear.forward\u001b[0;34m(self, input)\u001b[0m\n\u001b[1;32m     91\u001b[0m \u001b[39mdef\u001b[39;00m \u001b[39mforward\u001b[39m(\u001b[39mself\u001b[39m, \u001b[39minput\u001b[39m):\n\u001b[0;32m---> 92\u001b[0m     \u001b[39mreturn\u001b[39;00m rmv(\u001b[39mself\u001b[39;49m\u001b[39m.\u001b[39;49mweight, \u001b[39minput\u001b[39;49m) \u001b[39m+\u001b[39m \u001b[39mself\u001b[39m\u001b[39m.\u001b[39mbias\n",
      "File \u001b[0;32m~/anaconda3/envs/sdm3/lib/python3.9/site-packages/pyro/contrib/util.py:44\u001b[0m, in \u001b[0;36mrmv\u001b[0;34m(A, b)\u001b[0m\n\u001b[1;32m     43\u001b[0m \u001b[39m\"\"\"Tensorized matrix vector multiplication of rightmost dimensions.\"\"\"\u001b[39;00m\n\u001b[0;32m---> 44\u001b[0m \u001b[39mreturn\u001b[39;00m torch\u001b[39m.\u001b[39;49mmatmul(A, b\u001b[39m.\u001b[39;49munsqueeze(\u001b[39m-\u001b[39;49m\u001b[39m1\u001b[39;49m))\u001b[39m.\u001b[39msqueeze(\u001b[39m-\u001b[39m\u001b[39m1\u001b[39m)\n",
      "\u001b[0;31mRuntimeError\u001b[0m: The size of tensor a (2) must match the size of tensor b (10) at non-singleton dimension 1",
      "\nThe above exception was the direct cause of the following exception:\n",
      "\u001b[0;31mRuntimeError\u001b[0m                              Traceback (most recent call last)",
      "Cell \u001b[0;32mIn [112], line 1\u001b[0m\n\u001b[0;32m----> 1\u001b[0m reguide_trace \u001b[39m=\u001b[39m poutine\u001b[39m.\u001b[39;49mtrace(\n\u001b[1;32m      2\u001b[0m     pyro\u001b[39m.\u001b[39;49mcondition(guide, data\u001b[39m=\u001b[39;49mtheta_dict))\u001b[39m.\u001b[39;49mget_trace(\n\u001b[1;32m      3\u001b[0m     y_dict, expanded_design, observation_labels, target_labels)\n\u001b[1;32m      4\u001b[0m \u001b[39m# Here's a spot where you could update each model's parameters based on log_prob\u001b[39;00m\n\u001b[1;32m      5\u001b[0m reguide_trace\u001b[39m.\u001b[39mcompute_log_prob()\n",
      "File \u001b[0;32m~/anaconda3/envs/sdm3/lib/python3.9/site-packages/pyro/poutine/trace_messenger.py:198\u001b[0m, in \u001b[0;36mTraceHandler.get_trace\u001b[0;34m(self, *args, **kwargs)\u001b[0m\n\u001b[1;32m    190\u001b[0m \u001b[39mdef\u001b[39;00m \u001b[39mget_trace\u001b[39m(\u001b[39mself\u001b[39m, \u001b[39m*\u001b[39margs, \u001b[39m*\u001b[39m\u001b[39m*\u001b[39mkwargs):\n\u001b[1;32m    191\u001b[0m     \u001b[39m\"\"\"\u001b[39;00m\n\u001b[1;32m    192\u001b[0m \u001b[39m    :returns: data structure\u001b[39;00m\n\u001b[1;32m    193\u001b[0m \u001b[39m    :rtype: pyro.poutine.Trace\u001b[39;00m\n\u001b[0;32m   (...)\u001b[0m\n\u001b[1;32m    196\u001b[0m \u001b[39m    Calls this poutine and returns its trace instead of the function's return value.\u001b[39;00m\n\u001b[1;32m    197\u001b[0m \u001b[39m    \"\"\"\u001b[39;00m\n\u001b[0;32m--> 198\u001b[0m     \u001b[39mself\u001b[39;49m(\u001b[39m*\u001b[39;49margs, \u001b[39m*\u001b[39;49m\u001b[39m*\u001b[39;49mkwargs)\n\u001b[1;32m    199\u001b[0m     \u001b[39mreturn\u001b[39;00m \u001b[39mself\u001b[39m\u001b[39m.\u001b[39mmsngr\u001b[39m.\u001b[39mget_trace()\n",
      "File \u001b[0;32m~/anaconda3/envs/sdm3/lib/python3.9/site-packages/pyro/poutine/trace_messenger.py:180\u001b[0m, in \u001b[0;36mTraceHandler.__call__\u001b[0;34m(self, *args, **kwargs)\u001b[0m\n\u001b[1;32m    178\u001b[0m         exc \u001b[39m=\u001b[39m exc_type(\u001b[39m\"\u001b[39m\u001b[39m{}\u001b[39;00m\u001b[39m\\n\u001b[39;00m\u001b[39m{}\u001b[39;00m\u001b[39m\"\u001b[39m\u001b[39m.\u001b[39mformat(exc_value, shapes))\n\u001b[1;32m    179\u001b[0m         exc \u001b[39m=\u001b[39m exc\u001b[39m.\u001b[39mwith_traceback(traceback)\n\u001b[0;32m--> 180\u001b[0m         \u001b[39mraise\u001b[39;00m exc \u001b[39mfrom\u001b[39;00m \u001b[39me\u001b[39;00m\n\u001b[1;32m    181\u001b[0m     \u001b[39mself\u001b[39m\u001b[39m.\u001b[39mmsngr\u001b[39m.\u001b[39mtrace\u001b[39m.\u001b[39madd_node(\n\u001b[1;32m    182\u001b[0m         \u001b[39m\"\u001b[39m\u001b[39m_RETURN\u001b[39m\u001b[39m\"\u001b[39m, name\u001b[39m=\u001b[39m\u001b[39m\"\u001b[39m\u001b[39m_RETURN\u001b[39m\u001b[39m\"\u001b[39m, \u001b[39mtype\u001b[39m\u001b[39m=\u001b[39m\u001b[39m\"\u001b[39m\u001b[39mreturn\u001b[39m\u001b[39m\"\u001b[39m, value\u001b[39m=\u001b[39mret\n\u001b[1;32m    183\u001b[0m     )\n\u001b[1;32m    184\u001b[0m \u001b[39mreturn\u001b[39;00m ret\n",
      "File \u001b[0;32m~/anaconda3/envs/sdm3/lib/python3.9/site-packages/pyro/poutine/trace_messenger.py:174\u001b[0m, in \u001b[0;36mTraceHandler.__call__\u001b[0;34m(self, *args, **kwargs)\u001b[0m\n\u001b[1;32m    170\u001b[0m \u001b[39mself\u001b[39m\u001b[39m.\u001b[39mmsngr\u001b[39m.\u001b[39mtrace\u001b[39m.\u001b[39madd_node(\n\u001b[1;32m    171\u001b[0m     \u001b[39m\"\u001b[39m\u001b[39m_INPUT\u001b[39m\u001b[39m\"\u001b[39m, name\u001b[39m=\u001b[39m\u001b[39m\"\u001b[39m\u001b[39m_INPUT\u001b[39m\u001b[39m\"\u001b[39m, \u001b[39mtype\u001b[39m\u001b[39m=\u001b[39m\u001b[39m\"\u001b[39m\u001b[39margs\u001b[39m\u001b[39m\"\u001b[39m, args\u001b[39m=\u001b[39margs, kwargs\u001b[39m=\u001b[39mkwargs\n\u001b[1;32m    172\u001b[0m )\n\u001b[1;32m    173\u001b[0m \u001b[39mtry\u001b[39;00m:\n\u001b[0;32m--> 174\u001b[0m     ret \u001b[39m=\u001b[39m \u001b[39mself\u001b[39;49m\u001b[39m.\u001b[39;49mfn(\u001b[39m*\u001b[39;49margs, \u001b[39m*\u001b[39;49m\u001b[39m*\u001b[39;49mkwargs)\n\u001b[1;32m    175\u001b[0m \u001b[39mexcept\u001b[39;00m (\u001b[39mValueError\u001b[39;00m, \u001b[39mRuntimeError\u001b[39;00m) \u001b[39mas\u001b[39;00m e:\n\u001b[1;32m    176\u001b[0m     exc_type, exc_value, traceback \u001b[39m=\u001b[39m sys\u001b[39m.\u001b[39mexc_info()\n",
      "File \u001b[0;32m~/anaconda3/envs/sdm3/lib/python3.9/site-packages/pyro/poutine/messenger.py:12\u001b[0m, in \u001b[0;36m_context_wrap\u001b[0;34m(context, fn, *args, **kwargs)\u001b[0m\n\u001b[1;32m     10\u001b[0m \u001b[39mdef\u001b[39;00m \u001b[39m_context_wrap\u001b[39m(context, fn, \u001b[39m*\u001b[39margs, \u001b[39m*\u001b[39m\u001b[39m*\u001b[39mkwargs):\n\u001b[1;32m     11\u001b[0m     \u001b[39mwith\u001b[39;00m context:\n\u001b[0;32m---> 12\u001b[0m         \u001b[39mreturn\u001b[39;00m fn(\u001b[39m*\u001b[39;49margs, \u001b[39m*\u001b[39;49m\u001b[39m*\u001b[39;49mkwargs)\n",
      "File \u001b[0;32m~/anaconda3/envs/sdm3/lib/python3.9/site-packages/torch/nn/modules/module.py:1190\u001b[0m, in \u001b[0;36mModule._call_impl\u001b[0;34m(self, *input, **kwargs)\u001b[0m\n\u001b[1;32m   1186\u001b[0m \u001b[39m# If we don't have any hooks, we want to skip the rest of the logic in\u001b[39;00m\n\u001b[1;32m   1187\u001b[0m \u001b[39m# this function, and just call forward.\u001b[39;00m\n\u001b[1;32m   1188\u001b[0m \u001b[39mif\u001b[39;00m \u001b[39mnot\u001b[39;00m (\u001b[39mself\u001b[39m\u001b[39m.\u001b[39m_backward_hooks \u001b[39mor\u001b[39;00m \u001b[39mself\u001b[39m\u001b[39m.\u001b[39m_forward_hooks \u001b[39mor\u001b[39;00m \u001b[39mself\u001b[39m\u001b[39m.\u001b[39m_forward_pre_hooks \u001b[39mor\u001b[39;00m _global_backward_hooks\n\u001b[1;32m   1189\u001b[0m         \u001b[39mor\u001b[39;00m _global_forward_hooks \u001b[39mor\u001b[39;00m _global_forward_pre_hooks):\n\u001b[0;32m-> 1190\u001b[0m     \u001b[39mreturn\u001b[39;00m forward_call(\u001b[39m*\u001b[39;49m\u001b[39minput\u001b[39;49m, \u001b[39m*\u001b[39;49m\u001b[39m*\u001b[39;49mkwargs)\n\u001b[1;32m   1191\u001b[0m \u001b[39m# Do not call functions when jit is used\u001b[39;00m\n\u001b[1;32m   1192\u001b[0m full_backward_hooks, non_full_backward_hooks \u001b[39m=\u001b[39m [], []\n",
      "Cell \u001b[0;32mIn [12], line 108\u001b[0m, in \u001b[0;36mPosteriorGuide.forward\u001b[0;34m(self, y_dict, design_prototype, observation_labels, target_labels)\u001b[0m\n\u001b[1;32m    106\u001b[0m \u001b[39mdef\u001b[39;00m \u001b[39mforward\u001b[39m(\u001b[39mself\u001b[39m, y_dict, design_prototype, observation_labels, target_labels):\n\u001b[1;32m    107\u001b[0m     y \u001b[39m=\u001b[39m y_dict[\u001b[39m\"\u001b[39m\u001b[39my\u001b[39m\u001b[39m\"\u001b[39m] \u001b[39m-\u001b[39m \u001b[39m.5\u001b[39m\n\u001b[0;32m--> 108\u001b[0m     x \u001b[39m=\u001b[39m \u001b[39mself\u001b[39m\u001b[39m.\u001b[39mrelu(\u001b[39mself\u001b[39;49m\u001b[39m.\u001b[39;49mlinear1(y))\n\u001b[1;32m    109\u001b[0m     x \u001b[39m=\u001b[39m \u001b[39mself\u001b[39m\u001b[39m.\u001b[39mrelu(\u001b[39mself\u001b[39m\u001b[39m.\u001b[39mlinear2(x))\n\u001b[1;32m    110\u001b[0m     final \u001b[39m=\u001b[39m \u001b[39mself\u001b[39m\u001b[39m.\u001b[39moutput_layer(x)\n",
      "File \u001b[0;32m~/anaconda3/envs/sdm3/lib/python3.9/site-packages/torch/nn/modules/module.py:1190\u001b[0m, in \u001b[0;36mModule._call_impl\u001b[0;34m(self, *input, **kwargs)\u001b[0m\n\u001b[1;32m   1186\u001b[0m \u001b[39m# If we don't have any hooks, we want to skip the rest of the logic in\u001b[39;00m\n\u001b[1;32m   1187\u001b[0m \u001b[39m# this function, and just call forward.\u001b[39;00m\n\u001b[1;32m   1188\u001b[0m \u001b[39mif\u001b[39;00m \u001b[39mnot\u001b[39;00m (\u001b[39mself\u001b[39m\u001b[39m.\u001b[39m_backward_hooks \u001b[39mor\u001b[39;00m \u001b[39mself\u001b[39m\u001b[39m.\u001b[39m_forward_hooks \u001b[39mor\u001b[39;00m \u001b[39mself\u001b[39m\u001b[39m.\u001b[39m_forward_pre_hooks \u001b[39mor\u001b[39;00m _global_backward_hooks\n\u001b[1;32m   1189\u001b[0m         \u001b[39mor\u001b[39;00m _global_forward_hooks \u001b[39mor\u001b[39;00m _global_forward_pre_hooks):\n\u001b[0;32m-> 1190\u001b[0m     \u001b[39mreturn\u001b[39;00m forward_call(\u001b[39m*\u001b[39;49m\u001b[39minput\u001b[39;49m, \u001b[39m*\u001b[39;49m\u001b[39m*\u001b[39;49mkwargs)\n\u001b[1;32m   1191\u001b[0m \u001b[39m# Do not call functions when jit is used\u001b[39;00m\n\u001b[1;32m   1192\u001b[0m full_backward_hooks, non_full_backward_hooks \u001b[39m=\u001b[39m [], []\n",
      "Cell \u001b[0;32mIn [12], line 92\u001b[0m, in \u001b[0;36mTensorLinear.forward\u001b[0;34m(self, input)\u001b[0m\n\u001b[1;32m     91\u001b[0m \u001b[39mdef\u001b[39;00m \u001b[39mforward\u001b[39m(\u001b[39mself\u001b[39m, \u001b[39minput\u001b[39m):\n\u001b[0;32m---> 92\u001b[0m     \u001b[39mreturn\u001b[39;00m rmv(\u001b[39mself\u001b[39;49m\u001b[39m.\u001b[39;49mweight, \u001b[39minput\u001b[39;49m) \u001b[39m+\u001b[39m \u001b[39mself\u001b[39m\u001b[39m.\u001b[39mbias\n",
      "File \u001b[0;32m~/anaconda3/envs/sdm3/lib/python3.9/site-packages/pyro/contrib/util.py:44\u001b[0m, in \u001b[0;36mrmv\u001b[0;34m(A, b)\u001b[0m\n\u001b[1;32m     42\u001b[0m \u001b[39mdef\u001b[39;00m \u001b[39mrmv\u001b[39m(A, b):\n\u001b[1;32m     43\u001b[0m     \u001b[39m\"\"\"Tensorized matrix vector multiplication of rightmost dimensions.\"\"\"\u001b[39;00m\n\u001b[0;32m---> 44\u001b[0m     \u001b[39mreturn\u001b[39;00m torch\u001b[39m.\u001b[39;49mmatmul(A, b\u001b[39m.\u001b[39;49munsqueeze(\u001b[39m-\u001b[39;49m\u001b[39m1\u001b[39;49m))\u001b[39m.\u001b[39msqueeze(\u001b[39m-\u001b[39m\u001b[39m1\u001b[39m)\n",
      "\u001b[0;31mRuntimeError\u001b[0m: The size of tensor a (2) must match the size of tensor b (10) at non-singleton dimension 1\nTrace Shapes:\n Param Sites:\nSample Sites:"
     ]
    }
   ],
   "source": [
    "reguide_trace = poutine.trace(\n",
    "    pyro.condition(guide, data=theta_dict)).get_trace(\n",
    "    y_dict, expanded_design, observation_labels, target_labels)\n",
    "# Here's a spot where you could update each model's parameters based on log_prob\n",
    "reguide_trace.compute_log_prob()\n",
    "marginal_terms_cross -= sum(reguide_trace.nodes[l][\"log_prob\"] for l in target_labels)\n",
    "marginal_terms_cross"
   ]
  },
  {
   "cell_type": "code",
   "execution_count": null,
   "metadata": {},
   "outputs": [],
   "source": []
  },
  {
   "cell_type": "code",
   "execution_count": null,
   "metadata": {},
   "outputs": [],
   "source": []
  },
  {
   "cell_type": "code",
   "execution_count": null,
   "metadata": {},
   "outputs": [],
   "source": [
    "trace = poutine.trace(model).get_trace(expanded_design)\n",
    "y_dict_exp = {l: lexpand(trace.nodes[l][\"value\"], M) for l in observation_labels}\n",
    "y_dict = {l: trace.nodes[l][\"value\"] for l in observation_labels}\n",
    "theta_dict = {l: trace.nodes[l][\"value\"] for l in target_labels}\n",
    "\n",
    "trace.compute_log_prob()\n",
    "marginal_terms_cross = sum(trace.nodes[l][\"log_prob\"] for l in target_labels)\n",
    "marginal_terms_cross += sum(trace.nodes[l][\"log_prob\"] for l in observation_labels)\n",
    "\n",
    "reguide_trace = poutine.trace(\n",
    "    pyro.condition(guide, data=theta_dict)).get_trace(\n",
    "    y_dict, expanded_design, observation_labels, target_labels)\n",
    "# Here's a spot where you could update each model's parameters based on log_prob\n",
    "reguide_trace.compute_log_prob()\n",
    "marginal_terms_cross -= sum(reguide_trace.nodes[l][\"log_prob\"] for l in target_labels)\n",
    "\n",
    "# Sample M times from q(theta | y, d) for each y\n",
    "reexpanded_design = lexpand(expanded_design, M)\n",
    "guide_trace = poutine.trace(guide).get_trace(\n",
    "    y_dict, reexpanded_design, observation_labels, target_labels\n",
    ")\n",
    "theta_y_dict = {l: guide_trace.nodes[l][\"value\"] for l in target_labels}\n",
    "theta_y_dict.update(y_dict_exp)\n",
    "guide_trace.compute_log_prob()\n",
    "\n",
    "# Re-run that through the model to compute the joint\n",
    "model_trace = poutine.trace(\n",
    "pyro.condition(model, data=theta_y_dict)).get_trace(reexpanded_design)\n",
    "model_trace.compute_log_prob()\n",
    "\n",
    "marginal_terms_proposal = -sum(guide_trace.nodes[l][\"log_prob\"] for l in target_labels)\n",
    "marginal_terms_proposal += sum(model_trace.nodes[l][\"log_prob\"] for l in target_labels)\n",
    "marginal_terms_proposal += sum(model_trace.nodes[l][\"log_prob\"] for l in observation_labels)\n",
    "\n",
    "marginal_terms = torch.cat([lexpand(marginal_terms_cross, 1), marginal_terms_proposal])\n",
    "terms = -marginal_terms.logsumexp(0) + math.log(M + 1)\n",
    "\n",
    "# At eval time, add p(y | theta, d) terms\n",
    "# if evaluation:\n",
    "terms += sum(trace.nodes[l][\"log_prob\"] for l in observation_labels)\n",
    "# breakpoint()\n",
    "_safe_mean_terms(terms)\n"
   ]
  },
  {
   "cell_type": "code",
   "execution_count": null,
   "metadata": {},
   "outputs": [],
   "source": []
  },
  {
   "cell_type": "code",
   "execution_count": null,
   "metadata": {},
   "outputs": [],
   "source": []
  },
  {
   "cell_type": "code",
   "execution_count": null,
   "metadata": {},
   "outputs": [],
   "source": []
  },
  {
   "cell_type": "code",
   "execution_count": null,
   "metadata": {},
   "outputs": [],
   "source": []
  },
  {
   "cell_type": "code",
   "execution_count": null,
   "metadata": {},
   "outputs": [],
   "source": []
  },
  {
   "cell_type": "code",
   "execution_count": null,
   "metadata": {},
   "outputs": [],
   "source": []
  },
  {
   "cell_type": "code",
   "execution_count": null,
   "metadata": {},
   "outputs": [],
   "source": []
  }
 ],
 "metadata": {
  "kernelspec": {
   "display_name": "Python 3.9.13 ('sdm3')",
   "language": "python",
   "name": "python3"
  },
  "language_info": {
   "codemirror_mode": {
    "name": "ipython",
    "version": 3
   },
   "file_extension": ".py",
   "mimetype": "text/x-python",
   "name": "python",
   "nbconvert_exporter": "python",
   "pygments_lexer": "ipython3",
   "version": "3.9.13 (main, Aug 25 2022, 18:29:29) \n[Clang 12.0.0 ]"
  },
  "orig_nbformat": 4,
  "vscode": {
   "interpreter": {
    "hash": "32bac022e209f3f8f811ac02bf6d6b971751e1ab224096f1893a92a620959b98"
   }
  }
 },
 "nbformat": 4,
 "nbformat_minor": 2
}
