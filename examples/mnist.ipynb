{
  "cells": [
    {
      "cell_type": "code",
      "execution_count": 10,
      "metadata": {
        "id": "2Onk1Hr-1qNs"
      },
      "outputs": [],
      "source": [
        "from typing import Any, Iterator, Mapping, Optional, Tuple, Sequence\n",
        "\n",
        "from lfiax.flows.nsf import make_nsf\n",
        "\n",
        "import haiku as hk\n",
        "import jax\n",
        "import jax.numpy as jnp\n",
        "import numpy as np\n",
        "import optax\n",
        "import tensorflow_datasets as tfds\n",
        "\n",
        "Array = jnp.ndarray\n",
        "PRNGKey = Array\n",
        "Batch = Mapping[str, np.ndarray]\n",
        "OptState = Any\n",
        "\n",
        "\n",
        "# ----------------------------------------\n",
        "# Helper functions to load and process data\n",
        "# ----------------------------------------\n",
        "def load_dataset(split: tfds.Split, batch_size: int) -> Iterator[Batch]:\n",
        "  ds = tfds.load(\"mnist\", split=split, shuffle_files=True)\n",
        "  # ds = split\n",
        "  ds = ds.shuffle(buffer_size=10 * batch_size)\n",
        "  ds = ds.batch(batch_size)\n",
        "  ds = ds.prefetch(buffer_size=1000)\n",
        "  ds = ds.repeat()\n",
        "  return iter(tfds.as_numpy(ds))\n",
        "\n",
        "\n",
        "def one_hot_mnist(x, dtype=jnp.float32):\n",
        "  \"\"\"Create a one-hot encoding of x of size 10 for MNIST.\"\"\"\n",
        "  return jnp.array(x[:, None] == jnp.arange(10), dtype)\n",
        "\n",
        "\n",
        "def prepare_data(batch: Batch, prng_key: Optional[PRNGKey] = None) -> Array:\n",
        "  data = batch[\"image\"].astype(np.float32)\n",
        "  label = batch[\"label\"].astype(np.float32)\n",
        "  label = one_hot_mnist(label)\n",
        "  label = jnp.expand_dims(label, -1)\n",
        "  if prng_key is not None:\n",
        "    # Dequantize pixel values {0, 1, ..., 255} with uniform noise [0, 1).\n",
        "    data += jax.random.uniform(prng_key, data.shape)\n",
        "  return data / 256., label  # Normalize pixel values from [0, 256) to [0, 1).\n",
        "\n",
        "\n",
        "# ----------------------------\n",
        "# Haiku transform functions for training and evaluation\n",
        "# ----------------------------\n",
        "@hk.without_apply_rng\n",
        "@hk.transform\n",
        "def log_prob(x: Array, theta: Array, xi: Array) -> Array:\n",
        "    '''Up to user to appropriately scale their inputs :).'''\n",
        "    # TODO: Pass more nsf parameters from config.yaml\n",
        "    model = make_nsf(\n",
        "        event_shape=MNIST_IMAGE_SHAPE,\n",
        "        num_layers=flow_num_layers,\n",
        "        hidden_sizes=[hidden_size] * mlp_num_layers,\n",
        "        num_bins=num_bins,\n",
        "        standardize_theta=True,\n",
        "        use_resnet=True,\n",
        "        conditional=True,\n",
        "        base_dist='uniform',\n",
        "    )\n",
        "\n",
        "    return model.log_prob(x, theta, xi)\n",
        "\n",
        "@hk.without_apply_rng\n",
        "@hk.transform\n",
        "def model_sample(key: PRNGKey, num_samples: int, cond_data: Array) -> Array:\n",
        "  model = make_nsf(\n",
        "      event_shape=MNIST_IMAGE_SHAPE,\n",
        "      num_layers=flow_num_layers,\n",
        "      hidden_sizes=[hidden_size] * mlp_num_layers,\n",
        "      num_bins=num_bins,\n",
        "      standardize_theta=False,\n",
        "      base_dist='uniform',\n",
        "      )\n",
        "  z = jnp.repeat(cond_data, num_samples, axis=0)\n",
        "  z = jnp.expand_dims(z, -1)\n",
        "  dummy_xi = jnp.array([])\n",
        "  dummy_xi = jnp.broadcast_to(dummy_xi, (num_samples, dummy_xi.shape[-1]))\n",
        "  return model._sample_n(key=key,\n",
        "                         n=[num_samples],\n",
        "                         theta=z,\n",
        "                         xi=dummy_xi)\n",
        "\n",
        "def loss_fn(params: hk.Params, prng_key: PRNGKey, batch: Batch) -> Array:\n",
        "  data = prepare_data(batch, prng_key)\n",
        "  # Loss is average negative log likelihood.\n",
        "  dummy_xi = jnp.array([])\n",
        "  dummy_xi = jnp.broadcast_to(dummy_xi, (len(data[0]), dummy_xi.shape[-1]))\n",
        "  loss = -jnp.mean(log_prob.apply(params, data[0], data[1], dummy_xi))\n",
        "  return loss\n",
        "\n",
        "@jax.jit\n",
        "def eval_fn(params: hk.Params, batch: Batch) -> Array:\n",
        "  data = prepare_data(batch)  # We don't dequantize during evaluation.\n",
        "  dummy_xi = jnp.array([])\n",
        "  dummy_xi = jnp.broadcast_to(dummy_xi, (len(data[0]), dummy_xi.shape[-1]))\n",
        "  loss = -jnp.mean(log_prob.apply(params, data[0], data[1], dummy_xi))\n",
        "  return loss\n",
        "\n",
        "@jax.jit\n",
        "def update(params: hk.Params,\n",
        "            prng_key: PRNGKey,\n",
        "            opt_state: OptState,\n",
        "            batch: Batch) -> Tuple[hk.Params, OptState]:\n",
        "  \"\"\"Single SGD update step.\"\"\"\n",
        "  grads = jax.grad(loss_fn)(params, prng_key, batch)\n",
        "  updates, new_opt_state = optimizer.update(grads, opt_state)\n",
        "  new_params = optax.apply_updates(params, updates)\n",
        "  return new_params, new_opt_state"
      ]
    },
    {
      "cell_type": "code",
      "execution_count": 13,
      "metadata": {
        "colab": {
          "base_uri": "https://localhost:8080/"
        },
        "id": "lFSBoXZN2gyE",
        "outputId": "aa75209d-7498-4e10-d424-3ed24b86bc19"
      },
      "outputs": [
        {
          "name": "stdout",
          "output_type": "stream",
          "text": [
            "STEP:     0; Validation loss: -42.424\n",
            "STEP:   100; Validation loss: -2649.109\n",
            "STEP:   200; Validation loss: -2954.437\n",
            "STEP:   300; Validation loss: -3097.066\n",
            "STEP:   400; Validation loss: -3167.422\n",
            "STEP:   500; Validation loss: -3230.399\n",
            "STEP:   600; Validation loss: -3244.462\n",
            "STEP:   700; Validation loss: -3252.954\n",
            "STEP:   800; Validation loss: -3296.595\n",
            "STEP:   900; Validation loss: -3301.056\n",
            "STEP:  1000; Validation loss: -3283.283\n",
            "STEP:  1100; Validation loss: -3278.082\n",
            "STEP:  1200; Validation loss: -3248.709\n",
            "STEP:  1300; Validation loss: -3259.133\n",
            "STEP:  1400; Validation loss: -3240.476\n",
            "STEP:  1500; Validation loss: -3234.423\n",
            "STEP:  1600; Validation loss: -3250.686\n",
            "STEP:  1700; Validation loss: -3220.936\n",
            "STEP:  1800; Validation loss: -3233.360\n",
            "STEP:  1900; Validation loss: -3194.014\n",
            "STEP:  2000; Validation loss: -3240.622\n",
            "STEP:  2100; Validation loss: -3188.620\n",
            "STEP:  2200; Validation loss: -3205.905\n",
            "STEP:  2300; Validation loss: -3201.391\n",
            "STEP:  2400; Validation loss: -3187.692\n",
            "STEP:  2500; Validation loss: -3207.128\n",
            "STEP:  2600; Validation loss: -3159.789\n",
            "STEP:  2700; Validation loss: -3160.714\n",
            "STEP:  2800; Validation loss: -3166.127\n",
            "STEP:  2900; Validation loss: -3174.969\n",
            "STEP:  3000; Validation loss: -3150.544\n",
            "STEP:  3100; Validation loss: -3167.730\n",
            "STEP:  3200; Validation loss: -3169.934\n",
            "STEP:  3300; Validation loss: -3145.066\n",
            "STEP:  3400; Validation loss: -3190.828\n",
            "STEP:  3500; Validation loss: -3181.392\n",
            "STEP:  3600; Validation loss: -3183.560\n",
            "STEP:  3700; Validation loss: -3211.549\n",
            "STEP:  3800; Validation loss: -3230.962\n",
            "STEP:  3900; Validation loss: -3174.007\n",
            "STEP:  4000; Validation loss: -3206.035\n",
            "STEP:  4100; Validation loss: -3234.827\n",
            "STEP:  4200; Validation loss: -3219.118\n",
            "STEP:  4300; Validation loss: -3217.882\n",
            "STEP:  4400; Validation loss: -3222.318\n",
            "STEP:  4500; Validation loss: -3220.940\n",
            "STEP:  4600; Validation loss: -3239.384\n",
            "STEP:  4700; Validation loss: -3228.350\n",
            "STEP:  4800; Validation loss: -3227.250\n",
            "STEP:  4900; Validation loss: -3233.253\n"
          ]
        }
      ],
      "source": [
        "MNIST_IMAGE_SHAPE = (28, 28, 1)\n",
        "cond_info_shape = (10,1)\n",
        "batch_size = 128\n",
        "\n",
        "flow_num_layers = 10\n",
        "mlp_num_layers = 4\n",
        "hidden_size = 500\n",
        "num_bins = 4\n",
        "learning_rate = 1e-4\n",
        "\n",
        "training_steps =  5000\n",
        "eval_frequency =  100\n",
        "\n",
        "optimizer = optax.adam(learning_rate)\n",
        "\n",
        "# Training\n",
        "prng_seq = hk.PRNGSequence(42)\n",
        "params = log_prob.init(next(prng_seq),\n",
        "                    np.zeros((1, *MNIST_IMAGE_SHAPE)),\n",
        "                    np.zeros((1, *cond_info_shape)),\n",
        "                    np.zeros((1, *(0,))),)\n",
        "opt_state = optimizer.init(params)\n",
        "\n",
        "train_ds = load_dataset(tfds.Split.TRAIN, batch_size)\n",
        "valid_ds = load_dataset(tfds.Split.TEST, batch_size)\n",
        "\n",
        "for step in range(training_steps):\n",
        "  params, opt_state = update(params, next(prng_seq), opt_state,\n",
        "                              next(train_ds))\n",
        "\n",
        "  if step % eval_frequency == 0:\n",
        "    val_loss = eval_fn(params, next(valid_ds))\n",
        "    print(f\"STEP: {step:5d}; Validation loss: {val_loss:.3f}\")"
      ]
    },
    {
      "cell_type": "code",
      "execution_count": 24,
      "metadata": {
        "colab": {
          "base_uri": "https://localhost:8080/",
          "height": 338
        },
        "id": "67bzENf41k2b",
        "outputId": "b727a631-6d2d-4fcc-b413-e7550faaca13"
      },
      "outputs": [
        {
          "data": {
            "image/png": "[encoded data removed]",
            "text/plain": [
              "<Figure size 1000x400 with 10 Axes>"
            ]
          },
          "metadata": {},
          "output_type": "display_data"
        }
      ],
      "source": [
        "import matplotlib.pyplot as plt\n",
        "\n",
        "samples = 10\n",
        "\n",
        "def plot_batch(batch: Batch) -> None:\n",
        "  \"\"\"Plots a batch of conditional MNIST digits.\"\"\"\n",
        "  images = batch.reshape((-1,) + MNIST_IMAGE_SHAPE)\n",
        "  plt.figure(figsize=(10, 4))\n",
        "  for i in range(10):\n",
        "    plt.subplot(2, 5, i + 1)\n",
        "    plt.imshow(np.squeeze(images[i]), cmap=\"gray\")\n",
        "    plt.axis(\"off\")\n",
        "  plt.show()\n",
        "\n",
        "sample = model_sample.apply(params,\n",
        "                            next(prng_seq),\n",
        "                            num_samples=samples,\n",
        "                            cond_data=one_hot_mnist(jnp.array([9])))\n",
        "\n",
        "plot_batch(sample)"
      ]
    },
    {
      "cell_type": "code",
      "execution_count": 25,
      "metadata": {
        "colab": {
          "base_uri": "https://localhost:8080/",
          "height": 338
        },
        "id": "7AtfCeBsJfHI",
        "outputId": "41a1545c-b9da-4c00-ae35-c0bdb42b0297"
      },
      "outputs": [
        {
          "data": {
            "image/png": "[encoded data removed]",
            "text/plain": [
              "<Figure size 1000x400 with 10 Axes>"
            ]
          },
          "metadata": {},
          "output_type": "display_data"
        }
      ],
      "source": [
        "def plot_batch(batch: Sequence[Batch]) -> None:\n",
        "  \"\"\"Plots a batch of MNIST digits.\"\"\"\n",
        "  images = []\n",
        "  for img in batch:\n",
        "    images.append(img.reshape((-1,) + MNIST_IMAGE_SHAPE))\n",
        "  # images = batch.reshape((-1,) + MNIST_IMAGE_SHAPE)\n",
        "  plt.figure(figsize=(10, 4))\n",
        "  for i in range(10):\n",
        "    plt.subplot(2, 5, i + 1)\n",
        "    plt.imshow(np.squeeze(images[i]), cmap=\"gray\")\n",
        "    plt.axis(\"off\")\n",
        "  plt.show()\n",
        "\n",
        "samples = []\n",
        "for i in range(10):\n",
        "  samples.append(\n",
        "      model_sample.apply(params, next(prng_seq), num_samples=1,\n",
        "                            cond_data=one_hot_mnist(jnp.array([i])))\n",
        "  )\n",
        "\n",
        "plot_batch(samples)"
      ]
    },
    {
      "cell_type": "code",
      "execution_count": null,
      "metadata": {
        "id": "Hy0bzLzcHZM9"
      },
      "outputs": [],
      "source": []
    }
  ],
  "metadata": {
    "accelerator": "GPU",
    "colab": {
      "gpuClass": "premium",
      "gpuType": "A100",
      "machine_shape": "hm",
      "provenance": []
    },
    "gpuClass": "premium",
    "kernelspec": {
      "display_name": "Python 3",
      "name": "python3"
    },
    "language_info": {
      "name": "python",
      "version": "3.9.13"
    },
    "vscode": {
      "interpreter": {
        "hash": "32bac022e209f3f8f811ac02bf6d6b971751e1ab224096f1893a92a620959b98"
      }
    }
  },
  "nbformat": 4,
  "nbformat_minor": 0
}
