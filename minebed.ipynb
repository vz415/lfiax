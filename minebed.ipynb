{
 "cells": [
  {
   "cell_type": "code",
   "execution_count": 1,
   "metadata": {},
   "outputs": [],
   "source": [
    "import os, sys\n",
    "from functools import partial\n",
    "import jax\n",
    "import jax.numpy as jnp\n",
    "\n",
    "import haiku as hk\n",
    "\n",
    "from lfiax.utils.oed import sdm_minebed\n",
    "\n",
    "import torch\n",
    "from torch.distributions import Uniform, TransformedDistribution, Distribution\n",
    "from torch.distributions.transforms import Transform\n",
    "from torch.distributions import constraints\n",
    "\n",
    "import distrax\n",
    "\n",
    "current_dir = os.getcwd()\n",
    "module_dir = os.path.join(current_dir, 'bmp_simulator')\n",
    "sys.path.append(module_dir)\n",
    "\n",
    "from simulate_bmp_torch import bmp_simulator"
   ]
  },
  {
   "cell_type": "code",
   "execution_count": 2,
   "metadata": {},
   "outputs": [
    {
     "name": "stdout",
     "output_type": "stream",
     "text": [
      "Initialize Probabilistic Model\n",
      "Start Bayesian Optimisation\n"
     ]
    }
   ],
   "source": [
    "class LogUniform(Transform):\n",
    "    \"\"\"\n",
    "    Defines a transformation for a log-uniform distribution.\n",
    "    \"\"\"\n",
    "    bijective = True\n",
    "    sign = +1  # Change to -1 if the transform is decreasing in the interval\n",
    "\n",
    "    def __init__(self, low, high):\n",
    "        super().__init__()\n",
    "        self.low = low\n",
    "        self.high = high\n",
    "\n",
    "    def _call(self, x):\n",
    "        return torch.exp(x * (self.high - self.low) + self.low)\n",
    "\n",
    "    def _inverse(self, y):\n",
    "        return (torch.log(y) - self.low) / (self.high - self.low)\n",
    "\n",
    "    def log_abs_det_jacobian(self, x, y):\n",
    "        return (self.high - self.low) * x + self.low\n",
    "\n",
    "    @property\n",
    "    def domain(self):\n",
    "        return constraints.interval(0.0, 1.0)\n",
    "\n",
    "    @property\n",
    "    def codomain(self):\n",
    "        return constraints.positive\n",
    "\n",
    "\n",
    "def make_torch_bmp_prior():\n",
    "    low = torch.log(torch.tensor(1e-6))\n",
    "    high = torch.log(torch.tensor(1.0))\n",
    "\n",
    "    uniform = Uniform(low=torch.tensor(1e-6), high=torch.tensor(1.0))\n",
    "\n",
    "    log_uniform = TransformedDistribution(uniform, LogUniform(low, high))\n",
    "\n",
    "    return log_uniform\n",
    "\n",
    "\n",
    "class MultiLogUniform(Distribution):\n",
    "    \"\"\"\n",
    "    A class that represents multiple independent log-uniform distributions.\n",
    "    \"\"\"\n",
    "    def __init__(self, num_priors):\n",
    "        super().__init__()\n",
    "        self.priors = [make_torch_bmp_prior() for _ in range(num_priors)]\n",
    "\n",
    "    def sample(self, sample_shape=torch.Size()):\n",
    "        return torch.stack([prior.sample(sample_shape) for prior in self.priors], dim=-1)\n",
    "\n",
    "num_priors = 2\n",
    "priors = MultiLogUniform(num_priors)\n",
    "\n",
    "# Simulator (BMP onestep model) to use\n",
    "model_size = (1,1,1)\n",
    "fixed_receptor = True\n",
    "simulator = partial(\n",
    "    bmp_simulator, \n",
    "    model_size=model_size,\n",
    "    model='onestep', \n",
    "    fixed_receptor=fixed_receptor)\n",
    "\n",
    "\n",
    "y_obs = None\n",
    "DATASIZE = 5_000\n",
    "BATCHSIZE = DATASIZE\n",
    "BO_MAX_NUM = 1\n",
    "NN_layers = 1\n",
    "NN_hidden = 150\n",
    "design_dims = 1\n",
    "\n",
    "thetas = priors.sample((DATASIZE,)).numpy()\n",
    "\n",
    "opt_design, sim_samples, inf_time = sdm_minebed(\n",
    "    simulator = simulator,\n",
    "    params = priors,\n",
    "    y_obs = y_obs,\n",
    "    DATASIZE = DATASIZE,\n",
    "    BATCHSIZE = BATCHSIZE,\n",
    "    BO_MAX_NUM = BO_MAX_NUM, \n",
    "    dims = design_dims,\n",
    "    NN_layers = NN_layers,\n",
    "    NN_hidden = NN_hidden,\n",
    "    prior_sims = thetas,\n",
    "    )"
   ]
  },
  {
   "cell_type": "code",
   "execution_count": null,
   "metadata": {},
   "outputs": [],
   "source": [
    "inf_time"
   ]
  },
  {
   "cell_type": "code",
   "execution_count": 4,
   "metadata": {},
   "outputs": [
    {
     "data": {
      "text/plain": [
       "['LB_type',\n",
       " '__class__',\n",
       " '__delattr__',\n",
       " '__dict__',\n",
       " '__dir__',\n",
       " '__doc__',\n",
       " '__eq__',\n",
       " '__format__',\n",
       " '__ge__',\n",
       " '__getattribute__',\n",
       " '__gt__',\n",
       " '__hash__',\n",
       " '__init__',\n",
       " '__init_subclass__',\n",
       " '__le__',\n",
       " '__lt__',\n",
       " '__module__',\n",
       " '__ne__',\n",
       " '__new__',\n",
       " '__reduce__',\n",
       " '__reduce_ex__',\n",
       " '__repr__',\n",
       " '__setattr__',\n",
       " '__sizeof__',\n",
       " '__str__',\n",
       " '__subclasshook__',\n",
       " '__weakref__',\n",
       " '_compute_optimal_design',\n",
       " '_objective',\n",
       " '_reset_model',\n",
       " '_reset_optimizer',\n",
       " '_reset_scheduler',\n",
       " '_reset_weights',\n",
       " '_store_data',\n",
       " 'batch_size',\n",
       " 'bo_obj',\n",
       " 'constraints',\n",
       " 'd_opt',\n",
       " 'domain',\n",
       " 'init_opt_state',\n",
       " 'init_sched_state',\n",
       " 'ma_window',\n",
       " 'mine_obj',\n",
       " 'model',\n",
       " 'model_states',\n",
       " 'n_epoch',\n",
       " 'optimizer',\n",
       " 'prior',\n",
       " 'save',\n",
       " 'save_models',\n",
       " 'scheduler',\n",
       " 'simulator',\n",
       " 'train',\n",
       " 'train_curves',\n",
       " 'train_final_model',\n",
       " 'y_obs']"
      ]
     },
     "execution_count": 4,
     "metadata": {},
     "output_type": "execute_result"
    }
   ],
   "source": [
    "dir(opt_design)"
   ]
  },
  {
   "cell_type": "code",
   "execution_count": 8,
   "metadata": {},
   "outputs": [
    {
     "data": {
      "text/plain": [
       "10000"
      ]
     },
     "execution_count": 8,
     "metadata": {},
     "output_type": "execute_result"
    }
   ],
   "source": [
    "opt_design.n_epoch"
   ]
  },
  {
   "cell_type": "code",
   "execution_count": null,
   "metadata": {},
   "outputs": [],
   "source": []
  },
  {
   "cell_type": "code",
   "execution_count": 3,
   "metadata": {},
   "outputs": [
    {
     "data": {
      "text/plain": [
       "array([474.98189133,  78.26579717, 241.45848354, 130.53998316,\n",
       "       535.79220425, 176.17569778, 453.41530812, 894.35109868,\n",
       "       102.62779979, 119.87057954])"
      ]
     },
     "execution_count": 3,
     "metadata": {},
     "output_type": "execute_result"
    }
   ],
   "source": [
    "opt_design"
   ]
  },
  {
   "cell_type": "code",
   "execution_count": 5,
   "metadata": {},
   "outputs": [
    {
     "data": {
      "text/plain": [
       "array([806.86810217, 806.20344177, 475.9710831 , 290.4084334 ,\n",
       "       163.20680804, 169.96205008, 957.72600199, 885.45266693,\n",
       "        36.69306414,  59.68024322,  97.79581232, 845.49068452,\n",
       "       879.67875425, 156.48108807, 348.41462141,  90.03640688,\n",
       "       379.52034936, 523.31585044, 598.11014117, 835.13668931,\n",
       "       807.90702088, 508.50131256, 537.2414328 , 629.94159156,\n",
       "       420.85867719, 291.65597374, 588.41196456,  88.90706723,\n",
       "       792.05306393, 643.10354878, 235.33425007, 559.77737638,\n",
       "       319.88807603, 827.10032867, 972.78287947, 260.82582545,\n",
       "       930.61385903, 283.09241928, 734.1811769 , 759.61420321,\n",
       "       281.323178  , 166.17200807, 455.45930484,  80.49402825,\n",
       "       436.87749332, 329.23303213, 474.19464043,   7.83761571,\n",
       "       182.0931305 , 275.84461381,  42.11636713, 628.62024093,\n",
       "       468.55113461, 904.80197655, 982.5131518 , 531.46076522,\n",
       "        72.84408505, 911.6526855 , 971.13226328, 516.32879388,\n",
       "       317.48041928, 445.98051395, 868.15856918, 447.01874992,\n",
       "       517.61080158, 840.83563861, 713.46776949, 577.93060313,\n",
       "       275.1334987 , 340.27893281, 487.48765141, 197.68975256,\n",
       "       175.3657808 , 284.14779161, 914.77862114, 369.49979662,\n",
       "        88.37942864, 868.33112292, 230.77979707, 672.90397819,\n",
       "       203.67446127, 669.0138505 , 729.35652052,  44.13250229,\n",
       "       889.22515961, 122.50955877, 353.9463437 ,  80.03446312,\n",
       "       222.21757327, 356.229862  ,  49.95459563, 515.98611999,\n",
       "        90.21664636, 629.57789808,  24.00060163, 917.77566835,\n",
       "       178.86174426, 841.43855693, 358.71138266, 796.70997954])"
      ]
     },
     "execution_count": 5,
     "metadata": {},
     "output_type": "execute_result"
    }
   ],
   "source": [
    "opt_design"
   ]
  },
  {
   "cell_type": "code",
   "execution_count": null,
   "metadata": {},
   "outputs": [],
   "source": []
  },
  {
   "cell_type": "code",
   "execution_count": null,
   "metadata": {},
   "outputs": [],
   "source": []
  }
 ],
 "metadata": {
  "kernelspec": {
   "display_name": "sdm3",
   "language": "python",
   "name": "python3"
  },
  "language_info": {
   "codemirror_mode": {
    "name": "ipython",
    "version": 3
   },
   "file_extension": ".py",
   "mimetype": "text/x-python",
   "name": "python",
   "nbconvert_exporter": "python",
   "pygments_lexer": "ipython3",
   "version": "3.9.13"
  },
  "orig_nbformat": 4
 },
 "nbformat": 4,
 "nbformat_minor": 2
}
